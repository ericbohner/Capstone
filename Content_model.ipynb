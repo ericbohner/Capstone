{
 "cells": [
  {
   "cell_type": "markdown",
   "metadata": {},
   "source": [
    "# <a id='toc1_'></a>[Content-Based Filtering](#toc0_)"
   ]
  },
  {
   "cell_type": "markdown",
   "metadata": {},
   "source": [
    "**Table of contents**<a id='toc0_'></a>    \n",
    "- [Content-Based Filtering](#toc1_)    \n",
    "  - [Outline of the Process](#toc1_1_)    \n",
    "  - [Importing Libraries and Datasets](#toc1_2_)    \n",
    "  - [Content-Based Filtering](#toc1_3_)    \n",
    "    - [Preprocessing](#toc1_3_1_)    \n",
    "    - [Accuracy Concerns](#toc1_3_2_)    \n",
    "\n",
    "<!-- vscode-jupyter-toc-config\n",
    "\tnumbering=false\n",
    "\tanchor=true\n",
    "\tflat=false\n",
    "\tminLevel=1\n",
    "\tmaxLevel=6\n",
    "\t/vscode-jupyter-toc-config -->\n",
    "<!-- THIS CELL WILL BE REPLACED ON TOC UPDATE. DO NOT WRITE YOUR TEXT IN THIS CELL -->"
   ]
  },
  {
   "cell_type": "markdown",
   "metadata": {},
   "source": [
    "## <a id='toc1_1_'></a>[Outline of the Process](#toc0_)\n",
    "\n",
    "1. Use game details to find the similarity between game and user vectors\n",
    "    - Use distance metrics (cosine similarity) to determine their similarity score\n",
    "2. Rank games by their similarity score with the user\n",
    "3. Remove games already owned in the user's library\n",
    "4. Present top 6 games from the remaining list of ranked games.\n",
    "    - To prevent recommending the same games every time, we can recommend the top 6 from a list of top games."
   ]
  },
  {
   "cell_type": "markdown",
   "metadata": {},
   "source": [
    "## <a id='toc1_2_'></a>[Importing Libraries and Datasets](#toc0_)"
   ]
  },
  {
   "cell_type": "code",
   "execution_count": 1,
   "metadata": {},
   "outputs": [],
   "source": [
    "import pandas as pd\n",
    "import numpy as np\n",
    "import matplotlib.pyplot as plt\n",
    "\n",
    "from sklearn.neighbors import NearestNeighbors\n",
    "from sklearn.metrics.pairwise import cosine_similarity\n",
    "from sklearn.preprocessing import StandardScaler\n",
    "\n",
    "# import scraping_tools for testing purposes\n",
    "from scraping_tools import steam_library\n",
    "\n",
    "from warnings import filterwarnings\n",
    "filterwarnings('ignore')"
   ]
  },
  {
   "cell_type": "code",
   "execution_count": 2,
   "metadata": {},
   "outputs": [],
   "source": [
    "# reading in required datasets\n",
    "games_df = pd.read_csv('data/clean_game_data.csv')\n",
    "users_df = pd.read_csv('data/clean_user_data.csv')\n",
    "recs_df = pd.read_csv('data/clean_recommendations.csv')"
   ]
  },
  {
   "cell_type": "code",
   "execution_count": 3,
   "metadata": {},
   "outputs": [
    {
     "data": {
      "text/html": [
       "<div>\n",
       "<style scoped>\n",
       "    .dataframe tbody tr th:only-of-type {\n",
       "        vertical-align: middle;\n",
       "    }\n",
       "\n",
       "    .dataframe tbody tr th {\n",
       "        vertical-align: top;\n",
       "    }\n",
       "\n",
       "    .dataframe thead th {\n",
       "        text-align: right;\n",
       "    }\n",
       "</style>\n",
       "<table border=\"1\" class=\"dataframe\">\n",
       "  <thead>\n",
       "    <tr style=\"text-align: right;\">\n",
       "      <th></th>\n",
       "      <th>app_id</th>\n",
       "      <th>title</th>\n",
       "      <th>date_release</th>\n",
       "      <th>win</th>\n",
       "      <th>mac</th>\n",
       "      <th>linux</th>\n",
       "      <th>rating</th>\n",
       "      <th>positive_ratio</th>\n",
       "      <th>user_reviews</th>\n",
       "      <th>price_final</th>\n",
       "      <th>...</th>\n",
       "      <th>t_Well-Written</th>\n",
       "      <th>t_Werewolves</th>\n",
       "      <th>t_Western</th>\n",
       "      <th>t_Wholesome</th>\n",
       "      <th>t_Word Game</th>\n",
       "      <th>t_World War I</th>\n",
       "      <th>t_World War II</th>\n",
       "      <th>t_Wrestling</th>\n",
       "      <th>t_Zombies</th>\n",
       "      <th>t_eSports</th>\n",
       "    </tr>\n",
       "  </thead>\n",
       "  <tbody>\n",
       "    <tr>\n",
       "      <th>0</th>\n",
       "      <td>10090</td>\n",
       "      <td>Call of Duty: World at War</td>\n",
       "      <td>2008-11-18</td>\n",
       "      <td>1</td>\n",
       "      <td>0</td>\n",
       "      <td>0</td>\n",
       "      <td>1</td>\n",
       "      <td>92</td>\n",
       "      <td>37039</td>\n",
       "      <td>19.99</td>\n",
       "      <td>...</td>\n",
       "      <td>0.0</td>\n",
       "      <td>0.0</td>\n",
       "      <td>0.0</td>\n",
       "      <td>0.0</td>\n",
       "      <td>0.0</td>\n",
       "      <td>0.0</td>\n",
       "      <td>1.0</td>\n",
       "      <td>0.0</td>\n",
       "      <td>1.0</td>\n",
       "      <td>0.0</td>\n",
       "    </tr>\n",
       "    <tr>\n",
       "      <th>1</th>\n",
       "      <td>13500</td>\n",
       "      <td>Prince of Persia: Warrior Within™</td>\n",
       "      <td>2008-11-21</td>\n",
       "      <td>1</td>\n",
       "      <td>0</td>\n",
       "      <td>0</td>\n",
       "      <td>1</td>\n",
       "      <td>84</td>\n",
       "      <td>2199</td>\n",
       "      <td>9.99</td>\n",
       "      <td>...</td>\n",
       "      <td>0.0</td>\n",
       "      <td>0.0</td>\n",
       "      <td>0.0</td>\n",
       "      <td>0.0</td>\n",
       "      <td>0.0</td>\n",
       "      <td>0.0</td>\n",
       "      <td>0.0</td>\n",
       "      <td>0.0</td>\n",
       "      <td>0.0</td>\n",
       "      <td>0.0</td>\n",
       "    </tr>\n",
       "    <tr>\n",
       "      <th>2</th>\n",
       "      <td>22364</td>\n",
       "      <td>BRINK: Agents of Change</td>\n",
       "      <td>2011-08-03</td>\n",
       "      <td>1</td>\n",
       "      <td>0</td>\n",
       "      <td>0</td>\n",
       "      <td>1</td>\n",
       "      <td>85</td>\n",
       "      <td>21</td>\n",
       "      <td>2.99</td>\n",
       "      <td>...</td>\n",
       "      <td>0.0</td>\n",
       "      <td>0.0</td>\n",
       "      <td>0.0</td>\n",
       "      <td>0.0</td>\n",
       "      <td>0.0</td>\n",
       "      <td>0.0</td>\n",
       "      <td>0.0</td>\n",
       "      <td>0.0</td>\n",
       "      <td>0.0</td>\n",
       "      <td>0.0</td>\n",
       "    </tr>\n",
       "  </tbody>\n",
       "</table>\n",
       "<p>3 rows × 454 columns</p>\n",
       "</div>"
      ],
      "text/plain": [
       "   app_id                              title date_release  win  mac  linux  \\\n",
       "0   10090         Call of Duty: World at War   2008-11-18    1    0      0   \n",
       "1   13500  Prince of Persia: Warrior Within™   2008-11-21    1    0      0   \n",
       "2   22364            BRINK: Agents of Change   2011-08-03    1    0      0   \n",
       "\n",
       "   rating  positive_ratio  user_reviews  price_final  ...  t_Well-Written  \\\n",
       "0       1              92         37039        19.99  ...             0.0   \n",
       "1       1              84          2199         9.99  ...             0.0   \n",
       "2       1              85            21         2.99  ...             0.0   \n",
       "\n",
       "   t_Werewolves t_Western  t_Wholesome  t_Word Game  t_World War I  \\\n",
       "0           0.0       0.0          0.0          0.0            0.0   \n",
       "1           0.0       0.0          0.0          0.0            0.0   \n",
       "2           0.0       0.0          0.0          0.0            0.0   \n",
       "\n",
       "   t_World War II  t_Wrestling  t_Zombies  t_eSports  \n",
       "0             1.0          0.0        1.0        0.0  \n",
       "1             0.0          0.0        0.0        0.0  \n",
       "2             0.0          0.0        0.0        0.0  \n",
       "\n",
       "[3 rows x 454 columns]"
      ]
     },
     "execution_count": 3,
     "metadata": {},
     "output_type": "execute_result"
    }
   ],
   "source": [
    "games_df.head(3)"
   ]
  },
  {
   "cell_type": "code",
   "execution_count": 4,
   "metadata": {},
   "outputs": [
    {
     "data": {
      "text/html": [
       "<div>\n",
       "<style scoped>\n",
       "    .dataframe tbody tr th:only-of-type {\n",
       "        vertical-align: middle;\n",
       "    }\n",
       "\n",
       "    .dataframe tbody tr th {\n",
       "        vertical-align: top;\n",
       "    }\n",
       "\n",
       "    .dataframe thead th {\n",
       "        text-align: right;\n",
       "    }\n",
       "</style>\n",
       "<table border=\"1\" class=\"dataframe\">\n",
       "  <thead>\n",
       "    <tr style=\"text-align: right;\">\n",
       "      <th></th>\n",
       "      <th>user_id</th>\n",
       "      <th>products</th>\n",
       "      <th>reviews</th>\n",
       "    </tr>\n",
       "  </thead>\n",
       "  <tbody>\n",
       "    <tr>\n",
       "      <th>0</th>\n",
       "      <td>6924278</td>\n",
       "      <td>156</td>\n",
       "      <td>1</td>\n",
       "    </tr>\n",
       "    <tr>\n",
       "      <th>1</th>\n",
       "      <td>4358034</td>\n",
       "      <td>329</td>\n",
       "      <td>4</td>\n",
       "    </tr>\n",
       "    <tr>\n",
       "      <th>2</th>\n",
       "      <td>2340634</td>\n",
       "      <td>176</td>\n",
       "      <td>2</td>\n",
       "    </tr>\n",
       "  </tbody>\n",
       "</table>\n",
       "</div>"
      ],
      "text/plain": [
       "   user_id  products  reviews\n",
       "0  6924278       156        1\n",
       "1  4358034       329        4\n",
       "2  2340634       176        2"
      ]
     },
     "execution_count": 4,
     "metadata": {},
     "output_type": "execute_result"
    }
   ],
   "source": [
    "users_df.head(3)"
   ]
  },
  {
   "cell_type": "code",
   "execution_count": 5,
   "metadata": {},
   "outputs": [
    {
     "data": {
      "text/html": [
       "<div>\n",
       "<style scoped>\n",
       "    .dataframe tbody tr th:only-of-type {\n",
       "        vertical-align: middle;\n",
       "    }\n",
       "\n",
       "    .dataframe tbody tr th {\n",
       "        vertical-align: top;\n",
       "    }\n",
       "\n",
       "    .dataframe thead th {\n",
       "        text-align: right;\n",
       "    }\n",
       "</style>\n",
       "<table border=\"1\" class=\"dataframe\">\n",
       "  <thead>\n",
       "    <tr style=\"text-align: right;\">\n",
       "      <th></th>\n",
       "      <th>app_id</th>\n",
       "      <th>helpful</th>\n",
       "      <th>funny</th>\n",
       "      <th>review_date</th>\n",
       "      <th>is_recommended</th>\n",
       "      <th>hours</th>\n",
       "      <th>user_id</th>\n",
       "      <th>review_id</th>\n",
       "    </tr>\n",
       "  </thead>\n",
       "  <tbody>\n",
       "    <tr>\n",
       "      <th>0</th>\n",
       "      <td>975370</td>\n",
       "      <td>0</td>\n",
       "      <td>0</td>\n",
       "      <td>2022-12-12</td>\n",
       "      <td>1</td>\n",
       "      <td>36.3</td>\n",
       "      <td>24170</td>\n",
       "      <td>0</td>\n",
       "    </tr>\n",
       "    <tr>\n",
       "      <th>1</th>\n",
       "      <td>304390</td>\n",
       "      <td>4</td>\n",
       "      <td>0</td>\n",
       "      <td>2017-02-17</td>\n",
       "      <td>0</td>\n",
       "      <td>11.5</td>\n",
       "      <td>1339</td>\n",
       "      <td>1</td>\n",
       "    </tr>\n",
       "    <tr>\n",
       "      <th>2</th>\n",
       "      <td>1085660</td>\n",
       "      <td>2</td>\n",
       "      <td>0</td>\n",
       "      <td>2019-11-17</td>\n",
       "      <td>1</td>\n",
       "      <td>336.5</td>\n",
       "      <td>110271</td>\n",
       "      <td>2</td>\n",
       "    </tr>\n",
       "  </tbody>\n",
       "</table>\n",
       "</div>"
      ],
      "text/plain": [
       "    app_id  helpful  funny review_date  is_recommended  hours  user_id  \\\n",
       "0   975370        0      0  2022-12-12               1   36.3    24170   \n",
       "1   304390        4      0  2017-02-17               0   11.5     1339   \n",
       "2  1085660        2      0  2019-11-17               1  336.5   110271   \n",
       "\n",
       "   review_id  \n",
       "0          0  \n",
       "1          1  \n",
       "2          2  "
      ]
     },
     "execution_count": 5,
     "metadata": {},
     "output_type": "execute_result"
    }
   ],
   "source": [
    "recs_df.head(3)"
   ]
  },
  {
   "cell_type": "code",
   "execution_count": 6,
   "metadata": {},
   "outputs": [
    {
     "data": {
      "text/plain": [
       "2266"
      ]
     },
     "execution_count": 6,
     "metadata": {},
     "output_type": "execute_result"
    }
   ],
   "source": [
    "# find number of unique games in recs_df\n",
    "recs_df['app_id'].nunique()"
   ]
  },
  {
   "cell_type": "code",
   "execution_count": 7,
   "metadata": {},
   "outputs": [
    {
     "data": {
      "text/plain": [
       "6903784"
      ]
     },
     "execution_count": 7,
     "metadata": {},
     "output_type": "execute_result"
    }
   ],
   "source": [
    "recs_df['user_id'].nunique()"
   ]
  },
  {
   "cell_type": "markdown",
   "metadata": {},
   "source": [
    "Note that we only 2266 have unique games with reviews out of a possible ~55,000 total games on Steam.  So, there is a good chance that a new user will have played a game that is not represented in this dataset.  Similarity scores found from only recs_df, then, are unable to include games that were not reviewed by users."
   ]
  },
  {
   "cell_type": "markdown",
   "metadata": {},
   "source": [
    "## <a id='toc1_3_'></a>[Content-Based Filtering](#toc0_)"
   ]
  },
  {
   "cell_type": "markdown",
   "metadata": {},
   "source": [
    "I will start by determining games that are similar to each other using their cosine similarities (i.e., by vectorizing each game using its details and finding the dot product between each game and every other game).  By creating this, we can then determine which games are most alike, which allows us to recommend games based on what we know about the user.  For instance, if we know a user liked God of War, and we know that The Witcher 3 is its \"nearest neighbour\" of games that user has not played, then the assumption is that the user would also like The Witcher 3, so we can recommend that game."
   ]
  },
  {
   "cell_type": "markdown",
   "metadata": {},
   "source": [
    "### <a id='toc1_3_1_'></a>[Preprocessing](#toc0_)"
   ]
  },
  {
   "cell_type": "markdown",
   "metadata": {},
   "source": [
    "To start, we need to ensure our dataset is in the correct format to perform the cosine similarity."
   ]
  },
  {
   "cell_type": "code",
   "execution_count": 8,
   "metadata": {},
   "outputs": [
    {
     "data": {
      "text/plain": [
       "Index(['app_id', 'title', 'date_release', 'win', 'mac', 'linux', 'rating',\n",
       "       'positive_ratio', 'user_reviews', 'price_final', 'price_original',\n",
       "       'discount', 'description', 't_1980s', 't_1990's'],\n",
       "      dtype='object')"
      ]
     },
     "execution_count": 8,
     "metadata": {},
     "output_type": "execute_result"
    }
   ],
   "source": [
    "# looking at the first few columns (excluding tags, which were already one-hot encoded in the Data Cleaning step.)\n",
    "games_df.columns[0:15]"
   ]
  },
  {
   "cell_type": "code",
   "execution_count": 9,
   "metadata": {},
   "outputs": [],
   "source": [
    "# we can drop certain columns that are redundant or cannot be processed\n",
    "games_sim = games_df.drop(columns=['app_id', 'title', 'date_release', 'price_original', 'description'])"
   ]
  },
  {
   "cell_type": "code",
   "execution_count": 10,
   "metadata": {},
   "outputs": [
    {
     "data": {
      "text/plain": [
       "win                 0\n",
       "mac                 0\n",
       "linux               0\n",
       "rating              0\n",
       "positive_ratio      0\n",
       "                 ... \n",
       "t_World War I     238\n",
       "t_World War II    238\n",
       "t_Wrestling       238\n",
       "t_Zombies         238\n",
       "t_eSports         238\n",
       "Length: 449, dtype: int64"
      ]
     },
     "execution_count": 10,
     "metadata": {},
     "output_type": "execute_result"
    }
   ],
   "source": [
    "# check for NaNs in our dataset\n",
    "games_sim.isna().sum()"
   ]
  },
  {
   "cell_type": "markdown",
   "metadata": {},
   "source": [
    "It looks like some of the games did not have tags when they were one-hot encoded.  Those games have NaNs in the tags columns.  Since they amount to only a very small proportion of total games, I'll drop them from this set."
   ]
  },
  {
   "cell_type": "code",
   "execution_count": 11,
   "metadata": {},
   "outputs": [],
   "source": [
    "# dropping games without tags\n",
    "games_sim.dropna(inplace=True)"
   ]
  },
  {
   "cell_type": "code",
   "execution_count": 12,
   "metadata": {},
   "outputs": [
    {
     "data": {
      "text/plain": [
       "(48606, 449)"
      ]
     },
     "execution_count": 12,
     "metadata": {},
     "output_type": "execute_result"
    }
   ],
   "source": [
    "games_sim.shape"
   ]
  },
  {
   "cell_type": "markdown",
   "metadata": {},
   "source": [
    "We are left with 48,606 unique games and 449 columns (features) for each game.\n",
    "\n",
    "Before we can perform a cosine similarity, though, we need to ensure that our features are scaled together.  This is important to ensure that certain features don't outweigh other features unfairly."
   ]
  },
  {
   "cell_type": "code",
   "execution_count": 13,
   "metadata": {},
   "outputs": [],
   "source": [
    "# scaling the game_data\n",
    "scaler = StandardScaler()\n",
    "scaled_game_data = scaler.fit_transform(games_sim)"
   ]
  },
  {
   "cell_type": "code",
   "execution_count": 14,
   "metadata": {},
   "outputs": [],
   "source": [
    "# perform cosine similarity in batches\n",
    "def cosine_similarity_n_space(data, batch_size=25):\n",
    "    assert isinstance(data, np.ndarray), \"Input data must be a numpy array\"\n",
    "    ret = np.ndarray((data.shape[0], data.shape[0]))\n",
    "    for row_i in range(0, int(data.shape[0] / batch_size) + 1):\n",
    "        start = row_i * batch_size\n",
    "        end = min([(row_i + 1) * batch_size, data.shape[0]])\n",
    "        if end <= start:\n",
    "            break\n",
    "        rows = data[start: end]\n",
    "        sim = cosine_similarity(rows, data)  # rows is O(1) size\n",
    "        ret[start: end] = sim\n",
    "    return ret\n",
    "\n",
    "game_similarity = cosine_similarity_n_space(scaled_game_data)"
   ]
  },
  {
   "cell_type": "code",
   "execution_count": 16,
   "metadata": {},
   "outputs": [
    {
     "data": {
      "text/plain": [
       "(48606, 48606)"
      ]
     },
     "execution_count": 16,
     "metadata": {},
     "output_type": "execute_result"
    }
   ],
   "source": [
    "game_similarity.shape"
   ]
  },
  {
   "cell_type": "markdown",
   "metadata": {},
   "source": [
    "Now that we have the similarity score, we can find recommendations for any user where we know the games they like.  This can even be done for users not in our dataset by getting their information through the Steam API.\n",
    "\n",
    "Let's get a user's details to see how this would work."
   ]
  },
  {
   "cell_type": "code",
   "execution_count": 17,
   "metadata": {},
   "outputs": [],
   "source": [
    "# we need the user's id.\n",
    "steam_id = '76561198120441502'\n",
    "\n",
    "# in scraping_tools.py, I've already created functions to get the user's library details\n",
    "user_library = steam_library(steam_id)\n",
    "\n",
    "# look at the steam_library dataframe, sorted by number of hours played\n",
    "sorted_library = user_library.sort_values(by='hours', ascending=False).head(10)"
   ]
  },
  {
   "cell_type": "code",
   "execution_count": 18,
   "metadata": {},
   "outputs": [
    {
     "data": {
      "text/html": [
       "<div>\n",
       "<style scoped>\n",
       "    .dataframe tbody tr th:only-of-type {\n",
       "        vertical-align: middle;\n",
       "    }\n",
       "\n",
       "    .dataframe tbody tr th {\n",
       "        vertical-align: top;\n",
       "    }\n",
       "\n",
       "    .dataframe thead th {\n",
       "        text-align: right;\n",
       "    }\n",
       "</style>\n",
       "<table border=\"1\" class=\"dataframe\">\n",
       "  <thead>\n",
       "    <tr style=\"text-align: right;\">\n",
       "      <th></th>\n",
       "      <th>app_id</th>\n",
       "      <th>hours</th>\n",
       "      <th>user_id</th>\n",
       "    </tr>\n",
       "  </thead>\n",
       "  <tbody>\n",
       "    <tr>\n",
       "      <th>60</th>\n",
       "      <td>363970</td>\n",
       "      <td>21339</td>\n",
       "      <td>76561198120441502</td>\n",
       "    </tr>\n",
       "    <tr>\n",
       "      <th>75</th>\n",
       "      <td>413150</td>\n",
       "      <td>5963</td>\n",
       "      <td>76561198120441502</td>\n",
       "    </tr>\n",
       "    <tr>\n",
       "      <th>242</th>\n",
       "      <td>1432860</td>\n",
       "      <td>4334</td>\n",
       "      <td>76561198120441502</td>\n",
       "    </tr>\n",
       "    <tr>\n",
       "      <th>223</th>\n",
       "      <td>1072420</td>\n",
       "      <td>3037</td>\n",
       "      <td>76561198120441502</td>\n",
       "    </tr>\n",
       "    <tr>\n",
       "      <th>122</th>\n",
       "      <td>589360</td>\n",
       "      <td>2915</td>\n",
       "      <td>76561198120441502</td>\n",
       "    </tr>\n",
       "    <tr>\n",
       "      <th>126</th>\n",
       "      <td>599140</td>\n",
       "      <td>2444</td>\n",
       "      <td>76561198120441502</td>\n",
       "    </tr>\n",
       "    <tr>\n",
       "      <th>191</th>\n",
       "      <td>894940</td>\n",
       "      <td>2252</td>\n",
       "      <td>76561198120441502</td>\n",
       "    </tr>\n",
       "    <tr>\n",
       "      <th>245</th>\n",
       "      <td>1458100</td>\n",
       "      <td>1737</td>\n",
       "      <td>76561198120441502</td>\n",
       "    </tr>\n",
       "    <tr>\n",
       "      <th>257</th>\n",
       "      <td>1970460</td>\n",
       "      <td>1638</td>\n",
       "      <td>76561198120441502</td>\n",
       "    </tr>\n",
       "    <tr>\n",
       "      <th>200</th>\n",
       "      <td>972660</td>\n",
       "      <td>1578</td>\n",
       "      <td>76561198120441502</td>\n",
       "    </tr>\n",
       "  </tbody>\n",
       "</table>\n",
       "</div>"
      ],
      "text/plain": [
       "      app_id  hours            user_id\n",
       "60    363970  21339  76561198120441502\n",
       "75    413150   5963  76561198120441502\n",
       "242  1432860   4334  76561198120441502\n",
       "223  1072420   3037  76561198120441502\n",
       "122   589360   2915  76561198120441502\n",
       "126   599140   2444  76561198120441502\n",
       "191   894940   2252  76561198120441502\n",
       "245  1458100   1737  76561198120441502\n",
       "257  1970460   1638  76561198120441502\n",
       "200   972660   1578  76561198120441502"
      ]
     },
     "execution_count": 18,
     "metadata": {},
     "output_type": "execute_result"
    }
   ],
   "source": [
    "# top 10 most played games for this user\n",
    "sorted_library"
   ]
  },
  {
   "cell_type": "markdown",
   "metadata": {},
   "source": [
    "We can see that this user played game '363970' for 21,339 hours.  It's probably safe to say that they enjoyed it at least a little bit.  The hope, then, is that they would also enjoy similar games.\n",
    "\n",
    "One problem with this assumption is that it assumes with more hours played are preferred more by users.  This is not necessarily the case since some games simply have less content than others.  That doesn't mean those games are less enjoyable, just that a user is likely to play it for less time.  Still, we will work on this assumption for now."
   ]
  },
  {
   "cell_type": "code",
   "execution_count": 19,
   "metadata": {},
   "outputs": [
    {
     "data": {
      "text/plain": [
       "[363970, 413150, 1432860, 1072420, 589360, 599140]"
      ]
     },
     "execution_count": 19,
     "metadata": {},
     "output_type": "execute_result"
    }
   ],
   "source": [
    "# Since the app only displayes 6 games at a time, let's look at the top 6\n",
    "top6_games = sorted_library['app_id'].head(6).tolist()\n",
    "\n",
    "top6_games"
   ]
  },
  {
   "cell_type": "code",
   "execution_count": 20,
   "metadata": {},
   "outputs": [
    {
     "data": {
      "text/plain": [
       "Int64Index([468, 3787, 5173, 9391, 11526, 11978], dtype='int64')"
      ]
     },
     "execution_count": 20,
     "metadata": {},
     "output_type": "execute_result"
    }
   ],
   "source": [
    "# find the index of those games in the games_df\n",
    "top6_indices = games_df[games_df['app_id'].isin(top6_games)].index\n",
    "top6_indices"
   ]
  },
  {
   "cell_type": "markdown",
   "metadata": {},
   "source": [
    "When finding similar games, we want to make sure that we aren't simply finding the top games for that user's most played game.  We want an assortment of games that cover most of the user's intersts.  For that reason, let's take the top 5 similar games for each of that user's top 6 most played games."
   ]
  },
  {
   "cell_type": "code",
   "execution_count": 22,
   "metadata": {},
   "outputs": [],
   "source": [
    "# get similar games for top6 most played\n",
    "sim_games = []\n",
    "game_recs = 0\n",
    "\n",
    "for i in top6_indices:\n",
    "    # find the row for that game\n",
    "    row = game_similarity[i]\n",
    "    \n",
    "    # sort the row\n",
    "    sorted_sims = np.argsort(row)[::-1]\n",
    "\n",
    "    # get 5 game indices\n",
    "    game_rec_indices = sorted_sims[1:6]\n",
    "    sim_games.extend(game_rec_indices)\n",
    "\n",
    "# get games from those indices\n",
    "top30_recs = games_df.iloc[sim_games]"
   ]
  },
  {
   "cell_type": "markdown",
   "metadata": {},
   "source": [
    "Lastly, we want to make sure we aren't considering games that the user has already played.  So, let's remove those games from the recommendations."
   ]
  },
  {
   "cell_type": "code",
   "execution_count": 23,
   "metadata": {},
   "outputs": [
    {
     "data": {
      "text/html": [
       "<div>\n",
       "<style scoped>\n",
       "    .dataframe tbody tr th:only-of-type {\n",
       "        vertical-align: middle;\n",
       "    }\n",
       "\n",
       "    .dataframe tbody tr th {\n",
       "        vertical-align: top;\n",
       "    }\n",
       "\n",
       "    .dataframe thead th {\n",
       "        text-align: right;\n",
       "    }\n",
       "</style>\n",
       "<table border=\"1\" class=\"dataframe\">\n",
       "  <thead>\n",
       "    <tr style=\"text-align: right;\">\n",
       "      <th></th>\n",
       "      <th>app_id</th>\n",
       "      <th>title</th>\n",
       "      <th>date_release</th>\n",
       "      <th>win</th>\n",
       "      <th>mac</th>\n",
       "      <th>linux</th>\n",
       "      <th>rating</th>\n",
       "      <th>positive_ratio</th>\n",
       "      <th>user_reviews</th>\n",
       "      <th>price_final</th>\n",
       "      <th>...</th>\n",
       "      <th>t_Well-Written</th>\n",
       "      <th>t_Werewolves</th>\n",
       "      <th>t_Western</th>\n",
       "      <th>t_Wholesome</th>\n",
       "      <th>t_Word Game</th>\n",
       "      <th>t_World War I</th>\n",
       "      <th>t_World War II</th>\n",
       "      <th>t_Wrestling</th>\n",
       "      <th>t_Zombies</th>\n",
       "      <th>t_eSports</th>\n",
       "    </tr>\n",
       "  </thead>\n",
       "  <tbody>\n",
       "    <tr>\n",
       "      <th>8961</th>\n",
       "      <td>319320</td>\n",
       "      <td>Time Mysteries 3: The Final Enigma</td>\n",
       "      <td>2014-09-11</td>\n",
       "      <td>1</td>\n",
       "      <td>1</td>\n",
       "      <td>1</td>\n",
       "      <td>1</td>\n",
       "      <td>80</td>\n",
       "      <td>208</td>\n",
       "      <td>9.99</td>\n",
       "      <td>...</td>\n",
       "      <td>0.0</td>\n",
       "      <td>0.0</td>\n",
       "      <td>0.0</td>\n",
       "      <td>0.0</td>\n",
       "      <td>0.0</td>\n",
       "      <td>0.0</td>\n",
       "      <td>0.0</td>\n",
       "      <td>0.0</td>\n",
       "      <td>0.0</td>\n",
       "      <td>0.0</td>\n",
       "    </tr>\n",
       "    <tr>\n",
       "      <th>30460</th>\n",
       "      <td>509880</td>\n",
       "      <td>The End oo</td>\n",
       "      <td>2017-05-11</td>\n",
       "      <td>1</td>\n",
       "      <td>0</td>\n",
       "      <td>0</td>\n",
       "      <td>0</td>\n",
       "      <td>65</td>\n",
       "      <td>183</td>\n",
       "      <td>0.00</td>\n",
       "      <td>...</td>\n",
       "      <td>0.0</td>\n",
       "      <td>0.0</td>\n",
       "      <td>0.0</td>\n",
       "      <td>0.0</td>\n",
       "      <td>0.0</td>\n",
       "      <td>0.0</td>\n",
       "      <td>0.0</td>\n",
       "      <td>0.0</td>\n",
       "      <td>0.0</td>\n",
       "      <td>0.0</td>\n",
       "    </tr>\n",
       "    <tr>\n",
       "      <th>10226</th>\n",
       "      <td>1897380</td>\n",
       "      <td>Zemblanity</td>\n",
       "      <td>2022-04-03</td>\n",
       "      <td>1</td>\n",
       "      <td>0</td>\n",
       "      <td>0</td>\n",
       "      <td>1</td>\n",
       "      <td>89</td>\n",
       "      <td>55</td>\n",
       "      <td>2.99</td>\n",
       "      <td>...</td>\n",
       "      <td>0.0</td>\n",
       "      <td>0.0</td>\n",
       "      <td>0.0</td>\n",
       "      <td>0.0</td>\n",
       "      <td>0.0</td>\n",
       "      <td>0.0</td>\n",
       "      <td>0.0</td>\n",
       "      <td>0.0</td>\n",
       "      <td>0.0</td>\n",
       "      <td>0.0</td>\n",
       "    </tr>\n",
       "    <tr>\n",
       "      <th>17692</th>\n",
       "      <td>1000440</td>\n",
       "      <td>东方雪莲华 ～ Abyss Soul Lotus.</td>\n",
       "      <td>2023-02-02</td>\n",
       "      <td>1</td>\n",
       "      <td>0</td>\n",
       "      <td>0</td>\n",
       "      <td>1</td>\n",
       "      <td>91</td>\n",
       "      <td>267</td>\n",
       "      <td>12.99</td>\n",
       "      <td>...</td>\n",
       "      <td>0.0</td>\n",
       "      <td>0.0</td>\n",
       "      <td>0.0</td>\n",
       "      <td>0.0</td>\n",
       "      <td>0.0</td>\n",
       "      <td>0.0</td>\n",
       "      <td>0.0</td>\n",
       "      <td>0.0</td>\n",
       "      <td>0.0</td>\n",
       "      <td>0.0</td>\n",
       "    </tr>\n",
       "    <tr>\n",
       "      <th>18032</th>\n",
       "      <td>1590640</td>\n",
       "      <td>Savior of the Abyss</td>\n",
       "      <td>2021-08-12</td>\n",
       "      <td>1</td>\n",
       "      <td>0</td>\n",
       "      <td>0</td>\n",
       "      <td>0</td>\n",
       "      <td>77</td>\n",
       "      <td>189</td>\n",
       "      <td>6.99</td>\n",
       "      <td>...</td>\n",
       "      <td>0.0</td>\n",
       "      <td>0.0</td>\n",
       "      <td>0.0</td>\n",
       "      <td>0.0</td>\n",
       "      <td>0.0</td>\n",
       "      <td>0.0</td>\n",
       "      <td>0.0</td>\n",
       "      <td>0.0</td>\n",
       "      <td>0.0</td>\n",
       "      <td>0.0</td>\n",
       "    </tr>\n",
       "    <tr>\n",
       "      <th>5932</th>\n",
       "      <td>965220</td>\n",
       "      <td>Total War: WARHAMMER II - The Prophet &amp; The Wa...</td>\n",
       "      <td>2019-04-17</td>\n",
       "      <td>1</td>\n",
       "      <td>1</td>\n",
       "      <td>1</td>\n",
       "      <td>1</td>\n",
       "      <td>84</td>\n",
       "      <td>1065</td>\n",
       "      <td>9.99</td>\n",
       "      <td>...</td>\n",
       "      <td>0.0</td>\n",
       "      <td>0.0</td>\n",
       "      <td>0.0</td>\n",
       "      <td>0.0</td>\n",
       "      <td>0.0</td>\n",
       "      <td>0.0</td>\n",
       "      <td>0.0</td>\n",
       "      <td>0.0</td>\n",
       "      <td>0.0</td>\n",
       "      <td>0.0</td>\n",
       "    </tr>\n",
       "  </tbody>\n",
       "</table>\n",
       "<p>6 rows × 454 columns</p>\n",
       "</div>"
      ],
      "text/plain": [
       "        app_id                                              title  \\\n",
       "8961    319320                 Time Mysteries 3: The Final Enigma   \n",
       "30460   509880                                         The End oo   \n",
       "10226  1897380                                         Zemblanity   \n",
       "17692  1000440                          东方雪莲华 ～ Abyss Soul Lotus.   \n",
       "18032  1590640                                Savior of the Abyss   \n",
       "5932    965220  Total War: WARHAMMER II - The Prophet & The Wa...   \n",
       "\n",
       "      date_release  win  mac  linux  rating  positive_ratio  user_reviews  \\\n",
       "8961    2014-09-11    1    1      1       1              80           208   \n",
       "30460   2017-05-11    1    0      0       0              65           183   \n",
       "10226   2022-04-03    1    0      0       1              89            55   \n",
       "17692   2023-02-02    1    0      0       1              91           267   \n",
       "18032   2021-08-12    1    0      0       0              77           189   \n",
       "5932    2019-04-17    1    1      1       1              84          1065   \n",
       "\n",
       "       price_final  ...  t_Well-Written  t_Werewolves t_Western  t_Wholesome  \\\n",
       "8961          9.99  ...             0.0           0.0       0.0          0.0   \n",
       "30460         0.00  ...             0.0           0.0       0.0          0.0   \n",
       "10226         2.99  ...             0.0           0.0       0.0          0.0   \n",
       "17692        12.99  ...             0.0           0.0       0.0          0.0   \n",
       "18032         6.99  ...             0.0           0.0       0.0          0.0   \n",
       "5932          9.99  ...             0.0           0.0       0.0          0.0   \n",
       "\n",
       "       t_Word Game  t_World War I  t_World War II  t_Wrestling  t_Zombies  \\\n",
       "8961           0.0            0.0             0.0          0.0        0.0   \n",
       "30460          0.0            0.0             0.0          0.0        0.0   \n",
       "10226          0.0            0.0             0.0          0.0        0.0   \n",
       "17692          0.0            0.0             0.0          0.0        0.0   \n",
       "18032          0.0            0.0             0.0          0.0        0.0   \n",
       "5932           0.0            0.0             0.0          0.0        0.0   \n",
       "\n",
       "       t_eSports  \n",
       "8961         0.0  \n",
       "30460        0.0  \n",
       "10226        0.0  \n",
       "17692        0.0  \n",
       "18032        0.0  \n",
       "5932         0.0  \n",
       "\n",
       "[6 rows x 454 columns]"
      ]
     },
     "metadata": {},
     "output_type": "display_data"
    }
   ],
   "source": [
    "# get all appid values from user_library\n",
    "excluded_apps = user_library['app_id'].tolist()\n",
    "\n",
    "# mask those games from my top30 recs\n",
    "mask = ~top30_recs['app_id'].isin(excluded_apps)\n",
    "\n",
    "# we will take the top 6 from games that the user has not played\n",
    "top6picks = top30_recs[mask].head(6)\n",
    "\n",
    "display(top6picks)"
   ]
  },
  {
   "cell_type": "markdown",
   "metadata": {},
   "source": [
    "Now that we know which games to recommend, we need to get the game details."
   ]
  },
  {
   "cell_type": "code",
   "execution_count": 24,
   "metadata": {},
   "outputs": [],
   "source": [
    "# read in the dataset that provides game details\n",
    "game_images_df = pd.read_csv('data/steam_games.csv', sep=';')"
   ]
  },
  {
   "cell_type": "code",
   "execution_count": 25,
   "metadata": {},
   "outputs": [],
   "source": [
    "# get game details for top 6 recommendations\n",
    "game_details = game_images_df.loc[game_images_df['App ID'].isin(top6picks['app_id']), ['Name', 'Price', 'Header Image']]"
   ]
  },
  {
   "cell_type": "markdown",
   "metadata": {},
   "source": [
    "### <a id='toc1_3_2_'></a>[Accuracy Concerns](#toc0_)\n",
    "\n",
    "The model's accuracy can be a valuable metric to determine if the recommendations being given to a user are appropriate.  One of the problems with this sort of recommendation system is that it isn't easy to evaluate.  Other than by eye, or else by gathering further user metrics such as click-through rate, we won't ever know if these recommendations are good or not.  All we have to go off of is the similarity score that was given to us by calculating the cosine similarity.  Since we can't be sure that these scores are actually capturing important details about the games, though, the scores are not necessarily reliable.  \n",
    "\n",
    "For this reason, in the next notebook I will move on to a Funk Singular Value Decomposition Model that provides at least one metric by which we can evaluate the recommendations that are produced."
   ]
  },
  {
   "cell_type": "markdown",
   "metadata": {},
   "source": []
  }
 ],
 "metadata": {
  "kernelspec": {
   "display_name": "BSCapstone",
   "language": "python",
   "name": "python3"
  },
  "language_info": {
   "codemirror_mode": {
    "name": "ipython",
    "version": 3
   },
   "file_extension": ".py",
   "mimetype": "text/x-python",
   "name": "python",
   "nbconvert_exporter": "python",
   "pygments_lexer": "ipython3",
   "version": "3.10.11"
  },
  "orig_nbformat": 4
 },
 "nbformat": 4,
 "nbformat_minor": 2
}
