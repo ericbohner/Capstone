{
 "cells": [
  {
   "cell_type": "markdown",
   "metadata": {},
   "source": [
    "# Funk SVD Model\n",
    "\n",
    "Here, the goal is to predict which games a user would like by identifying game and user similarities.  This process attempts to determine how a user would interact with a game given what we know about the user, similar users, and similar games to the ones they've played.  To start, we create a matrix of users and games that identifies user preferences for specific games. For all of the games a user hasn't ranked, we then attempt to fill in those values by running our Singular Value Decomposition model.  This allows us to \"predict\" a user's rating for a game, which, in turn, allows us to rank games for a specific user and identify top recommendations from the games they haven't played."
   ]
  },
  {
   "cell_type": "markdown",
   "metadata": {},
   "source": [
    "## Importing Requirements and Loading Data"
   ]
  },
  {
   "cell_type": "code",
   "execution_count": 9,
   "metadata": {},
   "outputs": [],
   "source": [
    "import pandas as pd\n",
    "import numpy as np\n",
    "import matplotlib.pyplot as plt\n",
    "import statistics\n",
    "import pickle\n",
    "from pickle import dump\n",
    "\n",
    "from scipy.sparse import csr_matrix\n",
    "\n",
    "from sklearn.metrics.pairwise import cosine_similarity\n",
    "from sklearn.preprocessing import StandardScaler\n",
    "\n",
    "from surprise import Dataset\n",
    "from surprise.reader import Reader\n",
    "from surprise.prediction_algorithms.matrix_factorization import SVD as FunkSVD\n",
    "from surprise import accuracy\n",
    "from surprise.model_selection import train_test_split"
   ]
  },
  {
   "cell_type": "code",
   "execution_count": 14,
   "metadata": {},
   "outputs": [],
   "source": [
    "# reading in game data\n",
    "game_data = pd.read_csv('data/clean_game_data.csv')"
   ]
  },
  {
   "cell_type": "code",
   "execution_count": 15,
   "metadata": {},
   "outputs": [
    {
     "name": "stdout",
     "output_type": "stream",
     "text": [
      "<class 'pandas.core.frame.DataFrame'>\n",
      "RangeIndex: 48844 entries, 0 to 48843\n",
      "Columns: 454 entries, app_id to t_eSports\n",
      "dtypes: float64(444), int64(7), object(3)\n",
      "memory usage: 169.2+ MB\n"
     ]
    }
   ],
   "source": [
    "game_data.info()"
   ]
  },
  {
   "cell_type": "code",
   "execution_count": 16,
   "metadata": {},
   "outputs": [
    {
     "data": {
      "text/plain": [
       "Index(['app_id', 'title', 'date_release', 'win', 'mac', 'linux', 'rating',\n",
       "       'positive_ratio', 'user_reviews', 'price_final', 'price_original',\n",
       "       'discount', 'description', 't_1980s', 't_1990's'],\n",
       "      dtype='object')"
      ]
     },
     "execution_count": 16,
     "metadata": {},
     "output_type": "execute_result"
    }
   ],
   "source": [
    "game_data.columns[0:15]"
   ]
  },
  {
   "cell_type": "code",
   "execution_count": 17,
   "metadata": {},
   "outputs": [],
   "source": [
    "# convert date_releast to datetime and remove columns that are not useful for cosine similarity\n",
    "game_data['date_release'] = pd.to_datetime(game_data['date_release'])\n",
    "game_data.drop(columns=['app_id', 'title', 'description'], inplace=True)"
   ]
  },
  {
   "cell_type": "code",
   "execution_count": 18,
   "metadata": {},
   "outputs": [
    {
     "data": {
      "text/plain": [
       "date_release        0\n",
       "win                 0\n",
       "mac                 0\n",
       "linux               0\n",
       "rating              0\n",
       "                 ... \n",
       "t_World War I     238\n",
       "t_World War II    238\n",
       "t_Wrestling       238\n",
       "t_Zombies         238\n",
       "t_eSports         238\n",
       "Length: 451, dtype: int64"
      ]
     },
     "execution_count": 18,
     "metadata": {},
     "output_type": "execute_result"
    }
   ],
   "source": [
    "# find NaN values in the dataset\n",
    "game_data.isna().sum()"
   ]
  },
  {
   "cell_type": "markdown",
   "metadata": {},
   "source": [
    "It looks like some of the games (238) had no tags.  When those games' tags were one-hot-encoded, then, those rows ended up with nothing in the tags columns.  I will remove those games since they are only a small fraction of my dataset."
   ]
  },
  {
   "cell_type": "code",
   "execution_count": 19,
   "metadata": {},
   "outputs": [],
   "source": [
    "# removing games with no tags\n",
    "game_data.dropna(inplace=True)"
   ]
  },
  {
   "cell_type": "code",
   "execution_count": 20,
   "metadata": {},
   "outputs": [],
   "source": [
    "user_data = pd.read_csv('data/clean_user_data.csv')\n",
    "user_recs = pd.read_csv('data/clean_recommendations.csv')"
   ]
  },
  {
   "cell_type": "code",
   "execution_count": 21,
   "metadata": {},
   "outputs": [
    {
     "data": {
      "text/html": [
       "<div>\n",
       "<style scoped>\n",
       "    .dataframe tbody tr th:only-of-type {\n",
       "        vertical-align: middle;\n",
       "    }\n",
       "\n",
       "    .dataframe tbody tr th {\n",
       "        vertical-align: top;\n",
       "    }\n",
       "\n",
       "    .dataframe thead th {\n",
       "        text-align: right;\n",
       "    }\n",
       "</style>\n",
       "<table border=\"1\" class=\"dataframe\">\n",
       "  <thead>\n",
       "    <tr style=\"text-align: right;\">\n",
       "      <th></th>\n",
       "      <th>app_id</th>\n",
       "      <th>helpful</th>\n",
       "      <th>funny</th>\n",
       "      <th>review_date</th>\n",
       "      <th>is_recommended</th>\n",
       "      <th>hours</th>\n",
       "      <th>user_id</th>\n",
       "      <th>review_id</th>\n",
       "    </tr>\n",
       "  </thead>\n",
       "  <tbody>\n",
       "    <tr>\n",
       "      <th>0</th>\n",
       "      <td>975370</td>\n",
       "      <td>0</td>\n",
       "      <td>0</td>\n",
       "      <td>2022-12-12</td>\n",
       "      <td>1</td>\n",
       "      <td>36.3</td>\n",
       "      <td>24170</td>\n",
       "      <td>0</td>\n",
       "    </tr>\n",
       "    <tr>\n",
       "      <th>1</th>\n",
       "      <td>304390</td>\n",
       "      <td>4</td>\n",
       "      <td>0</td>\n",
       "      <td>2017-02-17</td>\n",
       "      <td>0</td>\n",
       "      <td>11.5</td>\n",
       "      <td>1339</td>\n",
       "      <td>1</td>\n",
       "    </tr>\n",
       "    <tr>\n",
       "      <th>2</th>\n",
       "      <td>1085660</td>\n",
       "      <td>2</td>\n",
       "      <td>0</td>\n",
       "      <td>2019-11-17</td>\n",
       "      <td>1</td>\n",
       "      <td>336.5</td>\n",
       "      <td>110271</td>\n",
       "      <td>2</td>\n",
       "    </tr>\n",
       "    <tr>\n",
       "      <th>3</th>\n",
       "      <td>703080</td>\n",
       "      <td>0</td>\n",
       "      <td>0</td>\n",
       "      <td>2022-09-23</td>\n",
       "      <td>1</td>\n",
       "      <td>27.4</td>\n",
       "      <td>112510</td>\n",
       "      <td>3</td>\n",
       "    </tr>\n",
       "    <tr>\n",
       "      <th>4</th>\n",
       "      <td>526870</td>\n",
       "      <td>0</td>\n",
       "      <td>0</td>\n",
       "      <td>2021-01-10</td>\n",
       "      <td>1</td>\n",
       "      <td>7.9</td>\n",
       "      <td>11046</td>\n",
       "      <td>4</td>\n",
       "    </tr>\n",
       "  </tbody>\n",
       "</table>\n",
       "</div>"
      ],
      "text/plain": [
       "    app_id  helpful  funny review_date  is_recommended  hours  user_id  \\\n",
       "0   975370        0      0  2022-12-12               1   36.3    24170   \n",
       "1   304390        4      0  2017-02-17               0   11.5     1339   \n",
       "2  1085660        2      0  2019-11-17               1  336.5   110271   \n",
       "3   703080        0      0  2022-09-23               1   27.4   112510   \n",
       "4   526870        0      0  2021-01-10               1    7.9    11046   \n",
       "\n",
       "   review_id  \n",
       "0          0  \n",
       "1          1  \n",
       "2          2  \n",
       "3          3  \n",
       "4          4  "
      ]
     },
     "execution_count": 21,
     "metadata": {},
     "output_type": "execute_result"
    }
   ],
   "source": [
    "user_recs.head()"
   ]
  },
  {
   "cell_type": "code",
   "execution_count": 22,
   "metadata": {},
   "outputs": [
    {
     "data": {
      "text/plain": [
       "2266"
      ]
     },
     "execution_count": 22,
     "metadata": {},
     "output_type": "execute_result"
    }
   ],
   "source": [
    "user_recs['app_id'].nunique()"
   ]
  },
  {
   "cell_type": "code",
   "execution_count": 23,
   "metadata": {},
   "outputs": [
    {
     "data": {
      "text/plain": [
       "6903784"
      ]
     },
     "execution_count": 23,
     "metadata": {},
     "output_type": "execute_result"
    }
   ],
   "source": [
    "user_recs['user_id'].nunique()"
   ]
  },
  {
   "cell_type": "markdown",
   "metadata": {},
   "source": [
    "We only have user reviews for 2266 unique games.  So, many of the 48,000 games will not have any reviews.  This creates an issue for modelling.  Since we want to learn how specific users would interact with specific games, we need to know something about how user preferences toward those games.  Without any information from any user toward those games, this poses a challenge.  On the other hand, fitting a model to ~7M unique users and 48,000 games could take out a small city in computing resources, let alone my computer from 2016 (which was not top of the line at the time) could handle.  So, this provides an opportunity to reduce the dimensionality of my Utility Matrix."
   ]
  },
  {
   "cell_type": "markdown",
   "metadata": {},
   "source": [
    "# Methodology\n",
    "\n",
    "We to accomplish two things: we want to identify which games a user is most likely to enjoy _and_ we want a way to measure whether the games identified are actually games they would enjoy.  To accomplish this, I will do the following:\n",
    "\n",
    "- Identify users that have at least 10 reviews.  Not only does this help to reduce our dataset, it also increases the chances that we'll be able to learn meaningful traits about our users.\n",
    "- Further reduce the number of users so that there is a mix of both positive and negative reviews.  Adding only users who have positive reviews, for instance, would unfairly bias the matrix to filling in all NaNs with positive reviews.\n",
    "- Find the cosine similarities of all ~48,000 games to identify which games are most like the others.\n",
    "- Using the cosine similarity scores, I will add 500 games that are closest in similarity to the games that have not been reviewed by users.  The idea is that we can use the known scores from the reviews to guess which games would be reviewed positively or negatively for a given user.  This will be helpful for evaluating scores later.\n",
    "- Create a Utility Matrix from the known scores and the 500 games without scores (do not add in the guesses for these scores yet).\n",
    "- Mask a certain number of scores from the matrix to prevent the model from \"learning\" from those scores.  Again, this is for evaluation purposes.\n",
    "- Perform the SVD calculations, filling in the NaN values of the matrix.\n",
    "- Identify a threshold (0.5) that determines positive and negative scores.\n",
    "- Test to see how many of the masked values that were known are correct from the SVD calculation.\n",
    "- Perform this same measure on the 500 games where we can guess the \"known\" scores."
   ]
  },
  {
   "cell_type": "markdown",
   "metadata": {},
   "source": [
    "# Preprocessing\n",
    "\n",
    "Let's start by reducing our dataset of users to include only users who have given a number of reviews, and then try to find users that give both positive and negative reviews."
   ]
  },
  {
   "cell_type": "code",
   "execution_count": 24,
   "metadata": {},
   "outputs": [
    {
     "data": {
      "text/html": [
       "<div>\n",
       "<style scoped>\n",
       "    .dataframe tbody tr th:only-of-type {\n",
       "        vertical-align: middle;\n",
       "    }\n",
       "\n",
       "    .dataframe tbody tr th {\n",
       "        vertical-align: top;\n",
       "    }\n",
       "\n",
       "    .dataframe thead th {\n",
       "        text-align: right;\n",
       "    }\n",
       "</style>\n",
       "<table border=\"1\" class=\"dataframe\">\n",
       "  <thead>\n",
       "    <tr style=\"text-align: right;\">\n",
       "      <th></th>\n",
       "      <th>app_id</th>\n",
       "      <th>helpful</th>\n",
       "      <th>funny</th>\n",
       "      <th>review_date</th>\n",
       "      <th>is_recommended</th>\n",
       "      <th>hours</th>\n",
       "      <th>user_id</th>\n",
       "      <th>review_id</th>\n",
       "    </tr>\n",
       "  </thead>\n",
       "  <tbody>\n",
       "    <tr>\n",
       "      <th>0</th>\n",
       "      <td>975370</td>\n",
       "      <td>0</td>\n",
       "      <td>0</td>\n",
       "      <td>2022-12-12</td>\n",
       "      <td>1</td>\n",
       "      <td>36.3</td>\n",
       "      <td>24170</td>\n",
       "      <td>0</td>\n",
       "    </tr>\n",
       "    <tr>\n",
       "      <th>1</th>\n",
       "      <td>304390</td>\n",
       "      <td>4</td>\n",
       "      <td>0</td>\n",
       "      <td>2017-02-17</td>\n",
       "      <td>0</td>\n",
       "      <td>11.5</td>\n",
       "      <td>1339</td>\n",
       "      <td>1</td>\n",
       "    </tr>\n",
       "    <tr>\n",
       "      <th>2</th>\n",
       "      <td>1085660</td>\n",
       "      <td>2</td>\n",
       "      <td>0</td>\n",
       "      <td>2019-11-17</td>\n",
       "      <td>1</td>\n",
       "      <td>336.5</td>\n",
       "      <td>110271</td>\n",
       "      <td>2</td>\n",
       "    </tr>\n",
       "    <tr>\n",
       "      <th>3</th>\n",
       "      <td>703080</td>\n",
       "      <td>0</td>\n",
       "      <td>0</td>\n",
       "      <td>2022-09-23</td>\n",
       "      <td>1</td>\n",
       "      <td>27.4</td>\n",
       "      <td>112510</td>\n",
       "      <td>3</td>\n",
       "    </tr>\n",
       "    <tr>\n",
       "      <th>4</th>\n",
       "      <td>526870</td>\n",
       "      <td>0</td>\n",
       "      <td>0</td>\n",
       "      <td>2021-01-10</td>\n",
       "      <td>1</td>\n",
       "      <td>7.9</td>\n",
       "      <td>11046</td>\n",
       "      <td>4</td>\n",
       "    </tr>\n",
       "  </tbody>\n",
       "</table>\n",
       "</div>"
      ],
      "text/plain": [
       "    app_id  helpful  funny review_date  is_recommended  hours  user_id  \\\n",
       "0   975370        0      0  2022-12-12               1   36.3    24170   \n",
       "1   304390        4      0  2017-02-17               0   11.5     1339   \n",
       "2  1085660        2      0  2019-11-17               1  336.5   110271   \n",
       "3   703080        0      0  2022-09-23               1   27.4   112510   \n",
       "4   526870        0      0  2021-01-10               1    7.9    11046   \n",
       "\n",
       "   review_id  \n",
       "0          0  \n",
       "1          1  \n",
       "2          2  \n",
       "3          3  \n",
       "4          4  "
      ]
     },
     "execution_count": 24,
     "metadata": {},
     "output_type": "execute_result"
    }
   ],
   "source": [
    "user_recs.head()"
   ]
  },
  {
   "cell_type": "code",
   "execution_count": 25,
   "metadata": {},
   "outputs": [],
   "source": [
    "# we only care about the user id, app id, and recommendation column, so we drop the rest\n",
    "user_recs.drop(columns=['helpful', 'funny', 'review_date', 'hours', 'review_id'], inplace=True)"
   ]
  },
  {
   "cell_type": "code",
   "execution_count": 26,
   "metadata": {},
   "outputs": [
    {
     "data": {
      "text/html": [
       "<div>\n",
       "<style scoped>\n",
       "    .dataframe tbody tr th:only-of-type {\n",
       "        vertical-align: middle;\n",
       "    }\n",
       "\n",
       "    .dataframe tbody tr th {\n",
       "        vertical-align: top;\n",
       "    }\n",
       "\n",
       "    .dataframe thead th {\n",
       "        text-align: right;\n",
       "    }\n",
       "</style>\n",
       "<table border=\"1\" class=\"dataframe\">\n",
       "  <thead>\n",
       "    <tr style=\"text-align: right;\">\n",
       "      <th></th>\n",
       "      <th>app_id</th>\n",
       "      <th>is_recommended</th>\n",
       "      <th>user_id</th>\n",
       "    </tr>\n",
       "  </thead>\n",
       "  <tbody>\n",
       "    <tr>\n",
       "      <th>0</th>\n",
       "      <td>975370</td>\n",
       "      <td>1</td>\n",
       "      <td>24170</td>\n",
       "    </tr>\n",
       "    <tr>\n",
       "      <th>1</th>\n",
       "      <td>304390</td>\n",
       "      <td>0</td>\n",
       "      <td>1339</td>\n",
       "    </tr>\n",
       "    <tr>\n",
       "      <th>2</th>\n",
       "      <td>1085660</td>\n",
       "      <td>1</td>\n",
       "      <td>110271</td>\n",
       "    </tr>\n",
       "    <tr>\n",
       "      <th>3</th>\n",
       "      <td>703080</td>\n",
       "      <td>1</td>\n",
       "      <td>112510</td>\n",
       "    </tr>\n",
       "    <tr>\n",
       "      <th>4</th>\n",
       "      <td>526870</td>\n",
       "      <td>1</td>\n",
       "      <td>11046</td>\n",
       "    </tr>\n",
       "  </tbody>\n",
       "</table>\n",
       "</div>"
      ],
      "text/plain": [
       "    app_id  is_recommended  user_id\n",
       "0   975370               1    24170\n",
       "1   304390               0     1339\n",
       "2  1085660               1   110271\n",
       "3   703080               1   112510\n",
       "4   526870               1    11046"
      ]
     },
     "execution_count": 26,
     "metadata": {},
     "output_type": "execute_result"
    }
   ],
   "source": [
    "user_recs.head()"
   ]
  },
  {
   "cell_type": "code",
   "execution_count": 27,
   "metadata": {},
   "outputs": [
    {
     "name": "stdout",
     "output_type": "stream",
     "text": [
      "Number of unique users with 10 or more reviews: 151871\n"
     ]
    }
   ],
   "source": [
    "# number of recommenders with 10 or more recommendations from users_df\n",
    "rec10 = user_data[user_data['reviews']>=10]\n",
    "print('Number of unique users with 10 or more reviews:', rec10['user_id'].nunique())"
   ]
  },
  {
   "cell_type": "code",
   "execution_count": 28,
   "metadata": {},
   "outputs": [],
   "source": [
    "users_with_10reviews = user_recs.merge(rec10, on='user_id')"
   ]
  },
  {
   "cell_type": "code",
   "execution_count": 29,
   "metadata": {},
   "outputs": [
    {
     "name": "stdout",
     "output_type": "stream",
     "text": [
      "<class 'pandas.core.frame.DataFrame'>\n",
      "Int64Index: 2505749 entries, 0 to 2505748\n",
      "Data columns (total 5 columns):\n",
      " #   Column          Dtype\n",
      "---  ------          -----\n",
      " 0   app_id          int64\n",
      " 1   is_recommended  int64\n",
      " 2   user_id         int64\n",
      " 3   products        int64\n",
      " 4   reviews         int64\n",
      "dtypes: int64(5)\n",
      "memory usage: 114.7 MB\n"
     ]
    }
   ],
   "source": [
    "users_with_10reviews.info()"
   ]
  },
  {
   "cell_type": "code",
   "execution_count": 30,
   "metadata": {},
   "outputs": [
    {
     "data": {
      "text/plain": [
       "(array([0, 1]), [Text(0, 0, '1'), Text(1, 0, '0')])"
      ]
     },
     "execution_count": 30,
     "metadata": {},
     "output_type": "execute_result"
    },
    {
     "data": {
      "image/png": "[encoded data removed]",
      "text/plain": [
       "<Figure size 640x480 with 1 Axes>"
      ]
     },
     "metadata": {},
     "output_type": "display_data"
    }
   ],
   "source": [
    "# let's look at the distribution of positive to negative reviews\n",
    "users_with_10reviews['is_recommended'].value_counts().plot(kind='bar')\n",
    "plt.title('User Recommendations')\n",
    "plt.xlabel('Review Score')\n",
    "plt.ylabel('Number of Reviews')\n",
    "plt.xticks(rotation=0)"
   ]
  },
  {
   "cell_type": "code",
   "execution_count": 31,
   "metadata": {},
   "outputs": [
    {
     "data": {
      "text/plain": [
       "151871"
      ]
     },
     "execution_count": 31,
     "metadata": {},
     "output_type": "execute_result"
    }
   ],
   "source": [
    "users_with_10reviews['user_id'].nunique()"
   ]
  },
  {
   "cell_type": "markdown",
   "metadata": {},
   "source": [
    "This dataset is still massively skewed toward a positive bias. We also still have 151,871 unique users.  That's way too many for my computer to be able to handle.  Let's remove users who only ever provide positive reviews and see where that gets us.  The idea is that we can learn more from users who have indicated both positive and negative preferences than those who only indicate positive preferences.  Whether this is actually the case is not clear, but since we need to reduce dimensionality somehow, this seems to be an acceptable technique. "
   ]
  },
  {
   "cell_type": "code",
   "execution_count": 32,
   "metadata": {},
   "outputs": [],
   "source": [
    "# get user total reviews and number of positive reviews\n",
    "users_with_10reviews['total_reviews'] = users_with_10reviews.groupby('user_id')['is_recommended'].transform('count')\n",
    "users_with_10reviews['positive_reviews'] = users_with_10reviews.groupby('user_id')['is_recommended'].transform('sum')\n",
    "\n",
    "mixed_reviews = users_with_10reviews[users_with_10reviews['total_reviews'] != users_with_10reviews['positive_reviews']]"
   ]
  },
  {
   "cell_type": "code",
   "execution_count": 33,
   "metadata": {},
   "outputs": [
    {
     "name": "stdout",
     "output_type": "stream",
     "text": [
      "<class 'pandas.core.frame.DataFrame'>\n",
      "Int64Index: 1941874 entries, 15 to 2505736\n",
      "Data columns (total 7 columns):\n",
      " #   Column            Dtype\n",
      "---  ------            -----\n",
      " 0   app_id            int64\n",
      " 1   is_recommended    int64\n",
      " 2   user_id           int64\n",
      " 3   products          int64\n",
      " 4   reviews           int64\n",
      " 5   total_reviews     int64\n",
      " 6   positive_reviews  int64\n",
      "dtypes: int64(7)\n",
      "memory usage: 118.5 MB\n"
     ]
    }
   ],
   "source": [
    "mixed_reviews.info()"
   ]
  },
  {
   "cell_type": "code",
   "execution_count": 34,
   "metadata": {},
   "outputs": [
    {
     "name": "stdout",
     "output_type": "stream",
     "text": [
      "Number of games reviewed: 2247\n",
      "Number of uniuque users: 111843\n"
     ]
    }
   ],
   "source": [
    "games_reviewed = mixed_reviews['app_id'].nunique()\n",
    "unique_users = mixed_reviews['user_id'].nunique()\n",
    "\n",
    "print(f'Number of games reviewed: {games_reviewed}')\n",
    "print(f'Number of uniuque users: {unique_users}')"
   ]
  },
  {
   "cell_type": "markdown",
   "metadata": {},
   "source": [
    "Note that of the original 2266 unique games, there are now 2247.  So, by removing those ~40,000 users, we've also lost 16 games. A small price to pay. "
   ]
  },
  {
   "cell_type": "code",
   "execution_count": 35,
   "metadata": {},
   "outputs": [
    {
     "data": {
      "text/plain": [
       "(array([0, 1]), [Text(0, 0, '1'), Text(1, 0, '0')])"
      ]
     },
     "execution_count": 35,
     "metadata": {},
     "output_type": "execute_result"
    },
    {
     "data": {
      "image/png": "[encoded data removed]",
      "text/plain": [
       "<Figure size 640x480 with 1 Axes>"
      ]
     },
     "metadata": {},
     "output_type": "display_data"
    }
   ],
   "source": [
    "mixed_reviews['is_recommended'].value_counts().plot(kind='bar')\n",
    "plt.title('User Recommendations')\n",
    "plt.xlabel('Review Score')\n",
    "plt.ylabel('Number of Reviews')\n",
    "plt.xticks(rotation=0)"
   ]
  },
  {
   "cell_type": "markdown",
   "metadata": {},
   "source": [
    "Let's work with this number for now.  Assuming my computer cannot handle an array this large (111843 x 2747), which seems likely, I will have to take further steps to reduce dimensionality."
   ]
  },
  {
   "cell_type": "markdown",
   "metadata": {},
   "source": [
    "## Game Similarity Scores\n",
    "\n",
    "With only 2247 games out of a possible 48,000, it would be nice to find a way to increase the number of games we can recommend.  The most likely candidates are those that are similar to the 2247 games that have been reviewed.  To do this, we need to first calculate a similarity matrix (I will use the cosine similarity) to determine which games are most like these games.  I'll then iterate through the 2247 games using the following method to pick the most similar games that have not been reviewed.  This requires doing the following:\n",
    "\n",
    "- Find the list of reviewed games and their corresponding indices in the similarity matrix.\n",
    "- Iterate through this list and find the corresponding row in the similarity matrix to each game.\n",
    "- Excluding the games in the reviewed games list, find the game index with the highest similarity to each game.  Add these games to a list.\n",
    "- Finally, remove any duplicates from this `highest_scores` list.  \n",
    "\n",
    "This process assumes that games not reviewed are still relatively similar to the games in the reviewed list.  In the very worst case, though, we are finding the _2248th_ most similar game since it is theoretically possible that all of the nearest neighbours to a game are those in the reviewed list.  As a final check, we can do an eye test to ensure these games have a positive similarity score."
   ]
  },
  {
   "cell_type": "code",
   "execution_count": 36,
   "metadata": {},
   "outputs": [
    {
     "data": {
      "text/html": [
       "<div>\n",
       "<style scoped>\n",
       "    .dataframe tbody tr th:only-of-type {\n",
       "        vertical-align: middle;\n",
       "    }\n",
       "\n",
       "    .dataframe tbody tr th {\n",
       "        vertical-align: top;\n",
       "    }\n",
       "\n",
       "    .dataframe thead th {\n",
       "        text-align: right;\n",
       "    }\n",
       "</style>\n",
       "<table border=\"1\" class=\"dataframe\">\n",
       "  <thead>\n",
       "    <tr style=\"text-align: right;\">\n",
       "      <th></th>\n",
       "      <th>date_release</th>\n",
       "      <th>win</th>\n",
       "      <th>mac</th>\n",
       "      <th>linux</th>\n",
       "      <th>rating</th>\n",
       "      <th>positive_ratio</th>\n",
       "      <th>user_reviews</th>\n",
       "      <th>price_final</th>\n",
       "      <th>price_original</th>\n",
       "      <th>discount</th>\n",
       "      <th>...</th>\n",
       "      <th>t_Well-Written</th>\n",
       "      <th>t_Werewolves</th>\n",
       "      <th>t_Western</th>\n",
       "      <th>t_Wholesome</th>\n",
       "      <th>t_Word Game</th>\n",
       "      <th>t_World War I</th>\n",
       "      <th>t_World War II</th>\n",
       "      <th>t_Wrestling</th>\n",
       "      <th>t_Zombies</th>\n",
       "      <th>t_eSports</th>\n",
       "    </tr>\n",
       "  </thead>\n",
       "  <tbody>\n",
       "    <tr>\n",
       "      <th>0</th>\n",
       "      <td>2008-11-18</td>\n",
       "      <td>1</td>\n",
       "      <td>0</td>\n",
       "      <td>0</td>\n",
       "      <td>1</td>\n",
       "      <td>92</td>\n",
       "      <td>37039</td>\n",
       "      <td>19.99</td>\n",
       "      <td>19.99</td>\n",
       "      <td>0.0</td>\n",
       "      <td>...</td>\n",
       "      <td>0.0</td>\n",
       "      <td>0.0</td>\n",
       "      <td>0.0</td>\n",
       "      <td>0.0</td>\n",
       "      <td>0.0</td>\n",
       "      <td>0.0</td>\n",
       "      <td>1.0</td>\n",
       "      <td>0.0</td>\n",
       "      <td>1.0</td>\n",
       "      <td>0.0</td>\n",
       "    </tr>\n",
       "    <tr>\n",
       "      <th>1</th>\n",
       "      <td>2008-11-21</td>\n",
       "      <td>1</td>\n",
       "      <td>0</td>\n",
       "      <td>0</td>\n",
       "      <td>1</td>\n",
       "      <td>84</td>\n",
       "      <td>2199</td>\n",
       "      <td>9.99</td>\n",
       "      <td>9.99</td>\n",
       "      <td>0.0</td>\n",
       "      <td>...</td>\n",
       "      <td>0.0</td>\n",
       "      <td>0.0</td>\n",
       "      <td>0.0</td>\n",
       "      <td>0.0</td>\n",
       "      <td>0.0</td>\n",
       "      <td>0.0</td>\n",
       "      <td>0.0</td>\n",
       "      <td>0.0</td>\n",
       "      <td>0.0</td>\n",
       "      <td>0.0</td>\n",
       "    </tr>\n",
       "    <tr>\n",
       "      <th>2</th>\n",
       "      <td>2011-08-03</td>\n",
       "      <td>1</td>\n",
       "      <td>0</td>\n",
       "      <td>0</td>\n",
       "      <td>1</td>\n",
       "      <td>85</td>\n",
       "      <td>21</td>\n",
       "      <td>2.99</td>\n",
       "      <td>2.99</td>\n",
       "      <td>0.0</td>\n",
       "      <td>...</td>\n",
       "      <td>0.0</td>\n",
       "      <td>0.0</td>\n",
       "      <td>0.0</td>\n",
       "      <td>0.0</td>\n",
       "      <td>0.0</td>\n",
       "      <td>0.0</td>\n",
       "      <td>0.0</td>\n",
       "      <td>0.0</td>\n",
       "      <td>0.0</td>\n",
       "      <td>0.0</td>\n",
       "    </tr>\n",
       "    <tr>\n",
       "      <th>3</th>\n",
       "      <td>2013-04-24</td>\n",
       "      <td>1</td>\n",
       "      <td>1</td>\n",
       "      <td>1</td>\n",
       "      <td>1</td>\n",
       "      <td>92</td>\n",
       "      <td>3722</td>\n",
       "      <td>14.99</td>\n",
       "      <td>14.99</td>\n",
       "      <td>0.0</td>\n",
       "      <td>...</td>\n",
       "      <td>0.0</td>\n",
       "      <td>0.0</td>\n",
       "      <td>0.0</td>\n",
       "      <td>0.0</td>\n",
       "      <td>0.0</td>\n",
       "      <td>0.0</td>\n",
       "      <td>0.0</td>\n",
       "      <td>0.0</td>\n",
       "      <td>0.0</td>\n",
       "      <td>0.0</td>\n",
       "    </tr>\n",
       "    <tr>\n",
       "      <th>4</th>\n",
       "      <td>2014-11-18</td>\n",
       "      <td>1</td>\n",
       "      <td>0</td>\n",
       "      <td>0</td>\n",
       "      <td>0</td>\n",
       "      <td>61</td>\n",
       "      <td>873</td>\n",
       "      <td>14.99</td>\n",
       "      <td>14.99</td>\n",
       "      <td>0.0</td>\n",
       "      <td>...</td>\n",
       "      <td>0.0</td>\n",
       "      <td>0.0</td>\n",
       "      <td>0.0</td>\n",
       "      <td>0.0</td>\n",
       "      <td>0.0</td>\n",
       "      <td>0.0</td>\n",
       "      <td>0.0</td>\n",
       "      <td>0.0</td>\n",
       "      <td>1.0</td>\n",
       "      <td>0.0</td>\n",
       "    </tr>\n",
       "  </tbody>\n",
       "</table>\n",
       "<p>5 rows × 451 columns</p>\n",
       "</div>"
      ],
      "text/plain": [
       "  date_release  win  mac  linux  rating  positive_ratio  user_reviews  \\\n",
       "0   2008-11-18    1    0      0       1              92         37039   \n",
       "1   2008-11-21    1    0      0       1              84          2199   \n",
       "2   2011-08-03    1    0      0       1              85            21   \n",
       "3   2013-04-24    1    1      1       1              92          3722   \n",
       "4   2014-11-18    1    0      0       0              61           873   \n",
       "\n",
       "   price_final  price_original  discount  ...  t_Well-Written  t_Werewolves  \\\n",
       "0        19.99           19.99       0.0  ...             0.0           0.0   \n",
       "1         9.99            9.99       0.0  ...             0.0           0.0   \n",
       "2         2.99            2.99       0.0  ...             0.0           0.0   \n",
       "3        14.99           14.99       0.0  ...             0.0           0.0   \n",
       "4        14.99           14.99       0.0  ...             0.0           0.0   \n",
       "\n",
       "   t_Western  t_Wholesome  t_Word Game  t_World War I  t_World War II  \\\n",
       "0        0.0          0.0          0.0            0.0             1.0   \n",
       "1        0.0          0.0          0.0            0.0             0.0   \n",
       "2        0.0          0.0          0.0            0.0             0.0   \n",
       "3        0.0          0.0          0.0            0.0             0.0   \n",
       "4        0.0          0.0          0.0            0.0             0.0   \n",
       "\n",
       "   t_Wrestling  t_Zombies  t_eSports  \n",
       "0          0.0        1.0        0.0  \n",
       "1          0.0        0.0        0.0  \n",
       "2          0.0        0.0        0.0  \n",
       "3          0.0        0.0        0.0  \n",
       "4          0.0        1.0        0.0  \n",
       "\n",
       "[5 rows x 451 columns]"
      ]
     },
     "execution_count": 36,
     "metadata": {},
     "output_type": "execute_result"
    }
   ],
   "source": [
    "game_data.head()"
   ]
  },
  {
   "cell_type": "markdown",
   "metadata": {},
   "source": [
    "Note that this dataset is not scaled.  A `positive_ratio` of 92 would be weighted much higher than a `t_Well-Written` tag, for instance, since the tag is on a scale of 0-1 while the positive ratio is a scale from 0-100. So, the data must first be scaled.\n",
    "\n",
    "The `rating` column is seemingly redundant since it reflects the data contained in the `positive_ratio` column.  This, in effect, \"doubles\" the weight of the rating/positive ratio, even after scaling.\n",
    "\n",
    "The `date_release` column contains datetime data that cannot be used as-is in a cosine similarity calculation.  This is because it represents a timeseries that is not a discrete numerical value.  For this reason, I will take only the year value and convert it to an integer."
   ]
  },
  {
   "cell_type": "code",
   "execution_count": 37,
   "metadata": {},
   "outputs": [],
   "source": [
    "# drop 'rating' column\n",
    "game_data.drop(columns='rating')\n",
    "\n",
    "# set date_release to integer year value\n",
    "game_data['date_release'] = game_data['date_release'].dt.year"
   ]
  },
  {
   "cell_type": "code",
   "execution_count": 38,
   "metadata": {},
   "outputs": [
    {
     "data": {
      "text/plain": [
       "date_release        int64\n",
       "win                 int64\n",
       "mac                 int64\n",
       "linux               int64\n",
       "rating              int64\n",
       "positive_ratio      int64\n",
       "user_reviews        int64\n",
       "price_final       float64\n",
       "price_original    float64\n",
       "discount          float64\n",
       "t_1980s           float64\n",
       "t_1990's          float64\n",
       "t_2.5D            float64\n",
       "t_2D              float64\n",
       "t_2D Fighter      float64\n",
       "dtype: object"
      ]
     },
     "execution_count": 38,
     "metadata": {},
     "output_type": "execute_result"
    }
   ],
   "source": [
    "# confirming data types are numerical.  We already know all tags are One-Hot encoded numerical values.\n",
    "game_data.iloc[:, 0:15].dtypes"
   ]
  },
  {
   "cell_type": "code",
   "execution_count": 39,
   "metadata": {},
   "outputs": [],
   "source": [
    "# scaling the game_data\n",
    "scaler = StandardScaler()\n",
    "scaled_game_data = scaler.fit_transform(game_data)"
   ]
  },
  {
   "cell_type": "code",
   "execution_count": 40,
   "metadata": {},
   "outputs": [
    {
     "data": {
      "text/plain": [
       "((48606, 451), numpy.ndarray)"
      ]
     },
     "execution_count": 40,
     "metadata": {},
     "output_type": "execute_result"
    }
   ],
   "source": [
    "scaled_game_data.shape , type(scaled_game_data)"
   ]
  },
  {
   "cell_type": "code",
   "execution_count": 41,
   "metadata": {},
   "outputs": [
    {
     "data": {
      "text/html": [
       "<div>\n",
       "<style scoped>\n",
       "    .dataframe tbody tr th:only-of-type {\n",
       "        vertical-align: middle;\n",
       "    }\n",
       "\n",
       "    .dataframe tbody tr th {\n",
       "        vertical-align: top;\n",
       "    }\n",
       "\n",
       "    .dataframe thead th {\n",
       "        text-align: right;\n",
       "    }\n",
       "</style>\n",
       "<table border=\"1\" class=\"dataframe\">\n",
       "  <thead>\n",
       "    <tr style=\"text-align: right;\">\n",
       "      <th></th>\n",
       "      <th>date_release</th>\n",
       "      <th>win</th>\n",
       "      <th>mac</th>\n",
       "      <th>linux</th>\n",
       "      <th>rating</th>\n",
       "      <th>positive_ratio</th>\n",
       "      <th>user_reviews</th>\n",
       "      <th>price_final</th>\n",
       "      <th>price_original</th>\n",
       "      <th>discount</th>\n",
       "      <th>...</th>\n",
       "      <th>t_Well-Written</th>\n",
       "      <th>t_Werewolves</th>\n",
       "      <th>t_Western</th>\n",
       "      <th>t_Wholesome</th>\n",
       "      <th>t_Word Game</th>\n",
       "      <th>t_World War I</th>\n",
       "      <th>t_World War II</th>\n",
       "      <th>t_Wrestling</th>\n",
       "      <th>t_Zombies</th>\n",
       "      <th>t_eSports</th>\n",
       "    </tr>\n",
       "  </thead>\n",
       "  <tbody>\n",
       "    <tr>\n",
       "      <th>0</th>\n",
       "      <td>-3.445632</td>\n",
       "      <td>0.108058</td>\n",
       "      <td>-0.592731</td>\n",
       "      <td>-0.469465</td>\n",
       "      <td>0.925033</td>\n",
       "      <td>0.833550</td>\n",
       "      <td>0.927053</td>\n",
       "      <td>0.980415</td>\n",
       "      <td>0.911634</td>\n",
       "      <td>-0.282178</td>\n",
       "      <td>...</td>\n",
       "      <td>-0.02128</td>\n",
       "      <td>-0.043547</td>\n",
       "      <td>-0.06743</td>\n",
       "      <td>-0.052381</td>\n",
       "      <td>-0.086261</td>\n",
       "      <td>-0.049121</td>\n",
       "      <td>8.677820</td>\n",
       "      <td>-0.030101</td>\n",
       "      <td>5.849935</td>\n",
       "      <td>-0.090169</td>\n",
       "    </tr>\n",
       "    <tr>\n",
       "      <th>1</th>\n",
       "      <td>-3.445632</td>\n",
       "      <td>0.108058</td>\n",
       "      <td>-0.592731</td>\n",
       "      <td>-0.469465</td>\n",
       "      <td>0.925033</td>\n",
       "      <td>0.394303</td>\n",
       "      <td>0.011536</td>\n",
       "      <td>0.113638</td>\n",
       "      <td>0.066086</td>\n",
       "      <td>-0.282178</td>\n",
       "      <td>...</td>\n",
       "      <td>-0.02128</td>\n",
       "      <td>-0.043547</td>\n",
       "      <td>-0.06743</td>\n",
       "      <td>-0.052381</td>\n",
       "      <td>-0.086261</td>\n",
       "      <td>-0.049121</td>\n",
       "      <td>-0.115236</td>\n",
       "      <td>-0.030101</td>\n",
       "      <td>-0.170942</td>\n",
       "      <td>-0.090169</td>\n",
       "    </tr>\n",
       "    <tr>\n",
       "      <th>2</th>\n",
       "      <td>-2.464658</td>\n",
       "      <td>0.108058</td>\n",
       "      <td>-0.592731</td>\n",
       "      <td>-0.469465</td>\n",
       "      <td>0.925033</td>\n",
       "      <td>0.449209</td>\n",
       "      <td>-0.045697</td>\n",
       "      <td>-0.493107</td>\n",
       "      <td>-0.525798</td>\n",
       "      <td>-0.282178</td>\n",
       "      <td>...</td>\n",
       "      <td>-0.02128</td>\n",
       "      <td>-0.043547</td>\n",
       "      <td>-0.06743</td>\n",
       "      <td>-0.052381</td>\n",
       "      <td>-0.086261</td>\n",
       "      <td>-0.049121</td>\n",
       "      <td>-0.115236</td>\n",
       "      <td>-0.030101</td>\n",
       "      <td>-0.170942</td>\n",
       "      <td>-0.090169</td>\n",
       "    </tr>\n",
       "    <tr>\n",
       "      <th>3</th>\n",
       "      <td>-1.810676</td>\n",
       "      <td>0.108058</td>\n",
       "      <td>1.687105</td>\n",
       "      <td>2.130083</td>\n",
       "      <td>0.925033</td>\n",
       "      <td>0.833550</td>\n",
       "      <td>0.051557</td>\n",
       "      <td>0.547027</td>\n",
       "      <td>0.488860</td>\n",
       "      <td>-0.282178</td>\n",
       "      <td>...</td>\n",
       "      <td>-0.02128</td>\n",
       "      <td>-0.043547</td>\n",
       "      <td>-0.06743</td>\n",
       "      <td>-0.052381</td>\n",
       "      <td>-0.086261</td>\n",
       "      <td>-0.049121</td>\n",
       "      <td>-0.115236</td>\n",
       "      <td>-0.030101</td>\n",
       "      <td>-0.170942</td>\n",
       "      <td>-0.090169</td>\n",
       "    </tr>\n",
       "    <tr>\n",
       "      <th>4</th>\n",
       "      <td>-1.483684</td>\n",
       "      <td>0.108058</td>\n",
       "      <td>-0.592731</td>\n",
       "      <td>-0.469465</td>\n",
       "      <td>-1.081042</td>\n",
       "      <td>-0.868532</td>\n",
       "      <td>-0.023308</td>\n",
       "      <td>0.547027</td>\n",
       "      <td>0.488860</td>\n",
       "      <td>-0.282178</td>\n",
       "      <td>...</td>\n",
       "      <td>-0.02128</td>\n",
       "      <td>-0.043547</td>\n",
       "      <td>-0.06743</td>\n",
       "      <td>-0.052381</td>\n",
       "      <td>-0.086261</td>\n",
       "      <td>-0.049121</td>\n",
       "      <td>-0.115236</td>\n",
       "      <td>-0.030101</td>\n",
       "      <td>5.849935</td>\n",
       "      <td>-0.090169</td>\n",
       "    </tr>\n",
       "  </tbody>\n",
       "</table>\n",
       "<p>5 rows × 451 columns</p>\n",
       "</div>"
      ],
      "text/plain": [
       "   date_release       win       mac     linux    rating  positive_ratio  \\\n",
       "0     -3.445632  0.108058 -0.592731 -0.469465  0.925033        0.833550   \n",
       "1     -3.445632  0.108058 -0.592731 -0.469465  0.925033        0.394303   \n",
       "2     -2.464658  0.108058 -0.592731 -0.469465  0.925033        0.449209   \n",
       "3     -1.810676  0.108058  1.687105  2.130083  0.925033        0.833550   \n",
       "4     -1.483684  0.108058 -0.592731 -0.469465 -1.081042       -0.868532   \n",
       "\n",
       "   user_reviews  price_final  price_original  discount  ...  t_Well-Written  \\\n",
       "0      0.927053     0.980415        0.911634 -0.282178  ...        -0.02128   \n",
       "1      0.011536     0.113638        0.066086 -0.282178  ...        -0.02128   \n",
       "2     -0.045697    -0.493107       -0.525798 -0.282178  ...        -0.02128   \n",
       "3      0.051557     0.547027        0.488860 -0.282178  ...        -0.02128   \n",
       "4     -0.023308     0.547027        0.488860 -0.282178  ...        -0.02128   \n",
       "\n",
       "   t_Werewolves  t_Western  t_Wholesome  t_Word Game  t_World War I  \\\n",
       "0     -0.043547   -0.06743    -0.052381    -0.086261      -0.049121   \n",
       "1     -0.043547   -0.06743    -0.052381    -0.086261      -0.049121   \n",
       "2     -0.043547   -0.06743    -0.052381    -0.086261      -0.049121   \n",
       "3     -0.043547   -0.06743    -0.052381    -0.086261      -0.049121   \n",
       "4     -0.043547   -0.06743    -0.052381    -0.086261      -0.049121   \n",
       "\n",
       "   t_World War II  t_Wrestling  t_Zombies  t_eSports  \n",
       "0        8.677820    -0.030101   5.849935  -0.090169  \n",
       "1       -0.115236    -0.030101  -0.170942  -0.090169  \n",
       "2       -0.115236    -0.030101  -0.170942  -0.090169  \n",
       "3       -0.115236    -0.030101  -0.170942  -0.090169  \n",
       "4       -0.115236    -0.030101   5.849935  -0.090169  \n",
       "\n",
       "[5 rows x 451 columns]"
      ]
     },
     "execution_count": 41,
     "metadata": {},
     "output_type": "execute_result"
    }
   ],
   "source": [
    "# I just want to see the scaled data, not as an array\n",
    "scaled_game_df = game_data\n",
    "scaled_game_df[scaled_game_df.columns] = scaled_game_data\n",
    "scaled_game_df.head()"
   ]
  },
  {
   "cell_type": "code",
   "execution_count": 42,
   "metadata": {},
   "outputs": [],
   "source": [
    "# perform cosine similarity in batches\n",
    "def cosine_similarity_n_space(data, batch_size=25):\n",
    "    assert isinstance(data, np.ndarray), \"Input data must be a numpy array\"\n",
    "    ret = np.ndarray((data.shape[0], data.shape[0]))\n",
    "    for row_i in range(0, int(data.shape[0] / batch_size) + 1):\n",
    "        start = row_i * batch_size\n",
    "        end = min([(row_i + 1) * batch_size, data.shape[0]])\n",
    "        if end <= start:\n",
    "            break\n",
    "        rows = data[start: end]\n",
    "        sim = cosine_similarity(rows, data)  # rows is O(1) size\n",
    "        ret[start: end] = sim\n",
    "    return ret"
   ]
  },
  {
   "cell_type": "code",
   "execution_count": 43,
   "metadata": {},
   "outputs": [],
   "source": [
    "game_similarity = cosine_similarity_n_space(scaled_game_data)"
   ]
  },
  {
   "cell_type": "code",
   "execution_count": 44,
   "metadata": {},
   "outputs": [
    {
     "data": {
      "text/plain": [
       "array([[ 1.00000000e+00,  9.10535553e-02,  2.36049063e-02, ...,\n",
       "         3.17866335e-02,  6.65272439e-02, -4.80088447e-03],\n",
       "       [ 9.10535553e-02,  1.00000000e+00,  2.52229439e-02, ...,\n",
       "        -3.70276951e-05,  1.56169951e-03,  1.89940677e-01],\n",
       "       [ 2.36049063e-02,  2.52229439e-02,  1.00000000e+00, ...,\n",
       "        -4.74751437e-02, -8.34894899e-02, -1.39685093e-01],\n",
       "       ...,\n",
       "       [ 3.17866335e-02, -3.70276951e-05, -4.74751437e-02, ...,\n",
       "         1.00000000e+00, -9.88260679e-03,  2.80813419e-04],\n",
       "       [ 6.65272439e-02,  1.56169951e-03, -8.34894899e-02, ...,\n",
       "        -9.88260679e-03,  1.00000000e+00,  7.64013333e-02],\n",
       "       [-4.80088447e-03,  1.89940677e-01, -1.39685093e-01, ...,\n",
       "         2.80813419e-04,  7.64013333e-02,  1.00000000e+00]])"
      ]
     },
     "execution_count": 44,
     "metadata": {},
     "output_type": "execute_result"
    }
   ],
   "source": [
    "game_similarity"
   ]
  },
  {
   "cell_type": "code",
   "execution_count": 45,
   "metadata": {},
   "outputs": [
    {
     "data": {
      "text/plain": [
       "(48606, 48606)"
      ]
     },
     "execution_count": 45,
     "metadata": {},
     "output_type": "execute_result"
    }
   ],
   "source": [
    "game_similarity.shape"
   ]
  },
  {
   "cell_type": "code",
   "execution_count": 46,
   "metadata": {},
   "outputs": [
    {
     "name": "stdout",
     "output_type": "stream",
     "text": [
      "<class 'pandas.core.frame.DataFrame'>\n",
      "Int64Index: 1941874 entries, 15 to 2505736\n",
      "Data columns (total 7 columns):\n",
      " #   Column            Dtype\n",
      "---  ------            -----\n",
      " 0   app_id            int64\n",
      " 1   is_recommended    int64\n",
      " 2   user_id           int64\n",
      " 3   products          int64\n",
      " 4   reviews           int64\n",
      " 5   total_reviews     int64\n",
      " 6   positive_reviews  int64\n",
      "dtypes: int64(7)\n",
      "memory usage: 118.5 MB\n"
     ]
    }
   ],
   "source": [
    "mixed_reviews.info()"
   ]
  },
  {
   "cell_type": "code",
   "execution_count": 47,
   "metadata": {},
   "outputs": [
    {
     "name": "stdout",
     "output_type": "stream",
     "text": [
      "<class 'pandas.core.frame.DataFrame'>\n",
      "RangeIndex: 48606 entries, 0 to 48605\n",
      "Columns: 452 entries, app_id to t_eSports\n",
      "dtypes: float64(444), int64(7), object(1)\n",
      "memory usage: 167.6+ MB\n"
     ]
    }
   ],
   "source": [
    "game_data_copy = pd.read_csv('data/clean_game_data.csv')\n",
    "game_data_copy.drop(columns=['title', 'description'], inplace=True)\n",
    "game_data_copy.dropna(inplace=True)\n",
    "game_data_copy.index = range(len(game_data_copy))\n",
    "game_data_copy.info()"
   ]
  },
  {
   "cell_type": "code",
   "execution_count": 48,
   "metadata": {},
   "outputs": [],
   "source": [
    "# get a list of the reviewed games and corresponding indices in game_data_copy\n",
    "reviewed_games = mixed_reviews['app_id'].value_counts().index.to_list()\n",
    "reviewed_games_indices = game_data_copy[game_data_copy['app_id'].isin(reviewed_games)].index.to_list()\n",
    "\n",
    "# get a list of the unreviewed games and corresponding indices in game_data_copy\n",
    "unreviewed_games_indices = game_data_copy.index[~game_data.index.isin(reviewed_games_indices)]\n",
    "unreviewed_games = game_data_copy.loc[unreviewed_games_indices]"
   ]
  },
  {
   "cell_type": "code",
   "execution_count": 49,
   "metadata": {},
   "outputs": [
    {
     "data": {
      "text/plain": [
       "(2247, 2247, 46367, 46367)"
      ]
     },
     "execution_count": 49,
     "metadata": {},
     "output_type": "execute_result"
    }
   ],
   "source": [
    "# make sure these match in length\n",
    "(len(reviewed_games_indices), len(reviewed_games), len(unreviewed_games), len(unreviewed_games_indices))"
   ]
  },
  {
   "cell_type": "markdown",
   "metadata": {},
   "source": [
    "Now we have a list of games that have been reviewed along with their corresponding indices in the similarity matrix.  Now let's find the games that are most similar to these games so that we can add them to our recommendation matrix.  The idea is that we can add these games because we can guess that any user who reviewed the game that was the most similar to the added game would score this game in the same way. In that way, we have a test that can judge whether our matrix factorization worked correctly."
   ]
  },
  {
   "cell_type": "code",
   "execution_count": 115,
   "metadata": {},
   "outputs": [],
   "source": [
    "# find the games that are most similar to the reviewed games\n",
    "\n",
    "def get_similar_games(reviewed_games_indices):\n",
    "    highest_scores_indices = []\n",
    "    highest_scores = []\n",
    "\n",
    "    for i in reviewed_games_indices:\n",
    "\n",
    "        similarity_scores = game_similarity[i, :]\n",
    "\n",
    "        for index in reviewed_games_indices:\n",
    "            similarity_scores[index] = np.nan\n",
    "\n",
    "        highest_score = np.nanmax(similarity_scores)\n",
    "        highest_scores.append(highest_score)\n",
    "\n",
    "        highest_score_index = np.nanargmax(similarity_scores)\n",
    "        highest_scores_indices.append(highest_score_index)\n",
    "\n",
    "    return highest_scores_indices, highest_scores\n",
    "\n",
    "highest_scores_indices, highest_scores = get_similar_games(reviewed_games_indices)\n",
    "\n",
    "# drop duplicates from the indices list\n",
    "highest_scores_indices = list(set(highest_scores_indices))"
   ]
  },
  {
   "cell_type": "code",
   "execution_count": 51,
   "metadata": {},
   "outputs": [
    {
     "name": "stdout",
     "output_type": "stream",
     "text": [
      "We found 2247 similar games, 1938 of which were not duplicates\n",
      "Mean: 0.7326894824381105\n",
      "Median: 0.7229109313068636\n",
      "Minimum value: 0.27149935565359506\n",
      "Maximum value: 0.9999838443226213\n",
      "Standard deviation: 0.1284571342576696\n"
     ]
    }
   ],
   "source": [
    "print(f'We found {len(highest_scores)} similar games, {len(highest_scores_indices)} of which were not duplicates')\n",
    "\n",
    "# Using the statistics module to compute descriptive statistics of the highest_scores\n",
    "mean_value = statistics.mean(highest_scores)\n",
    "median_value = statistics.median(highest_scores)\n",
    "min_value = min(highest_scores)\n",
    "max_value = max(highest_scores)\n",
    "standard_deviation = statistics.stdev(highest_scores)\n",
    "\n",
    "print(\"Mean:\", mean_value)\n",
    "print(\"Median:\", median_value)\n",
    "print(\"Minimum value:\", min_value)\n",
    "print(\"Maximum value:\", max_value)\n",
    "print(\"Standard deviation:\", standard_deviation)"
   ]
  },
  {
   "cell_type": "markdown",
   "metadata": {},
   "source": [
    "Having a quick look at the games we've chosen for our recommendations, we can see that they all have a positive similarity score to their corresponding reviewed game.  A few are not quite as similar as we might like, but the majority seem to be quite close, with a few almost identical according to their similarity scores.  Let's assume these are sufficient to make educated guesses for additional games that the reviewer would like (or dislike if they gave the similar game a negative rating).\n",
    "\n",
    "Now that we have this, let's find the app_id for these games and then begin the matrix factorization process."
   ]
  },
  {
   "cell_type": "code",
   "execution_count": 52,
   "metadata": {},
   "outputs": [],
   "source": [
    "unreviewed_appIDs = []\n",
    "\n",
    "for index in highest_scores_indices:\n",
    "    #get the app_id at the highest similarity score index we just found\n",
    "    unreviewed_appIDs.append(game_data_copy.loc[index, 'app_id'])"
   ]
  },
  {
   "cell_type": "code",
   "execution_count": 53,
   "metadata": {},
   "outputs": [
    {
     "name": "stdout",
     "output_type": "stream",
     "text": [
      "0\n"
     ]
    }
   ],
   "source": [
    "# confirming that none of the apps we found exist in our list of reviewed games\n",
    "print(len(set(unreviewed_appIDs).intersection(set(reviewed_games))))"
   ]
  },
  {
   "cell_type": "code",
   "execution_count": 54,
   "metadata": {},
   "outputs": [
    {
     "data": {
      "text/plain": [
       "4185"
      ]
     },
     "execution_count": 54,
     "metadata": {},
     "output_type": "execute_result"
    }
   ],
   "source": [
    "# knowing there are no duplicates, lets add the two together\n",
    "utility_games = reviewed_games + unreviewed_appIDs\n",
    "len(utility_games)"
   ]
  },
  {
   "cell_type": "markdown",
   "metadata": {},
   "source": [
    "## Funk SVD\n",
    "\n",
    "Finally, we are ready to create our Utility Matrix of games and users and then calculate the missing values in the matrix.  \n",
    "\n",
    "The matrix will describe unique users (rows) and unique games (columns), with the known values for is_recommended filling in the matrix data.  Recall that, since we only chose users with a minimum of 10 reviews, each row will have at least 10 reviews (and, therefore, at most 4175 NaN values).\n",
    "\n",
    "For the sake of limited memory resources, let's all collectively agree to never attempt to create a sparse matrix with ~100,000 rows and ~4000 column.  Instead, we will just have to imagine what such a thing would look like."
   ]
  },
  {
   "cell_type": "code",
   "execution_count": 55,
   "metadata": {},
   "outputs": [
    {
     "data": {
      "text/html": [
       "<div>\n",
       "<style scoped>\n",
       "    .dataframe tbody tr th:only-of-type {\n",
       "        vertical-align: middle;\n",
       "    }\n",
       "\n",
       "    .dataframe tbody tr th {\n",
       "        vertical-align: top;\n",
       "    }\n",
       "\n",
       "    .dataframe thead th {\n",
       "        text-align: right;\n",
       "    }\n",
       "</style>\n",
       "<table border=\"1\" class=\"dataframe\">\n",
       "  <thead>\n",
       "    <tr style=\"text-align: right;\">\n",
       "      <th></th>\n",
       "      <th>app_id</th>\n",
       "      <th>is_recommended</th>\n",
       "      <th>user_id</th>\n",
       "      <th>products</th>\n",
       "      <th>reviews</th>\n",
       "      <th>total_reviews</th>\n",
       "      <th>positive_reviews</th>\n",
       "    </tr>\n",
       "  </thead>\n",
       "  <tbody>\n",
       "    <tr>\n",
       "      <th>15</th>\n",
       "      <td>518790</td>\n",
       "      <td>1</td>\n",
       "      <td>117433</td>\n",
       "      <td>48</td>\n",
       "      <td>12</td>\n",
       "      <td>12</td>\n",
       "      <td>9</td>\n",
       "    </tr>\n",
       "    <tr>\n",
       "      <th>16</th>\n",
       "      <td>261550</td>\n",
       "      <td>1</td>\n",
       "      <td>117433</td>\n",
       "      <td>48</td>\n",
       "      <td>12</td>\n",
       "      <td>12</td>\n",
       "      <td>9</td>\n",
       "    </tr>\n",
       "    <tr>\n",
       "      <th>17</th>\n",
       "      <td>1824220</td>\n",
       "      <td>1</td>\n",
       "      <td>117433</td>\n",
       "      <td>48</td>\n",
       "      <td>12</td>\n",
       "      <td>12</td>\n",
       "      <td>9</td>\n",
       "    </tr>\n",
       "    <tr>\n",
       "      <th>18</th>\n",
       "      <td>1174180</td>\n",
       "      <td>1</td>\n",
       "      <td>117433</td>\n",
       "      <td>48</td>\n",
       "      <td>12</td>\n",
       "      <td>12</td>\n",
       "      <td>9</td>\n",
       "    </tr>\n",
       "    <tr>\n",
       "      <th>19</th>\n",
       "      <td>379430</td>\n",
       "      <td>1</td>\n",
       "      <td>117433</td>\n",
       "      <td>48</td>\n",
       "      <td>12</td>\n",
       "      <td>12</td>\n",
       "      <td>9</td>\n",
       "    </tr>\n",
       "  </tbody>\n",
       "</table>\n",
       "</div>"
      ],
      "text/plain": [
       "     app_id  is_recommended  user_id  products  reviews  total_reviews  \\\n",
       "15   518790               1   117433        48       12             12   \n",
       "16   261550               1   117433        48       12             12   \n",
       "17  1824220               1   117433        48       12             12   \n",
       "18  1174180               1   117433        48       12             12   \n",
       "19   379430               1   117433        48       12             12   \n",
       "\n",
       "    positive_reviews  \n",
       "15                 9  \n",
       "16                 9  \n",
       "17                 9  \n",
       "18                 9  \n",
       "19                 9  "
      ]
     },
     "execution_count": 55,
     "metadata": {},
     "output_type": "execute_result"
    }
   ],
   "source": [
    "# reminding myself what we are working with\n",
    "mixed_reviews.head()"
   ]
  },
  {
   "cell_type": "code",
   "execution_count": 56,
   "metadata": {},
   "outputs": [],
   "source": [
    "svd_df = mixed_reviews[['user_id', 'app_id', 'is_recommended']]"
   ]
  },
  {
   "cell_type": "code",
   "execution_count": 57,
   "metadata": {},
   "outputs": [
    {
     "data": {
      "text/html": [
       "<div>\n",
       "<style scoped>\n",
       "    .dataframe tbody tr th:only-of-type {\n",
       "        vertical-align: middle;\n",
       "    }\n",
       "\n",
       "    .dataframe tbody tr th {\n",
       "        vertical-align: top;\n",
       "    }\n",
       "\n",
       "    .dataframe thead th {\n",
       "        text-align: right;\n",
       "    }\n",
       "</style>\n",
       "<table border=\"1\" class=\"dataframe\">\n",
       "  <thead>\n",
       "    <tr style=\"text-align: right;\">\n",
       "      <th></th>\n",
       "      <th>user_id</th>\n",
       "      <th>app_id</th>\n",
       "      <th>is_recommended</th>\n",
       "    </tr>\n",
       "  </thead>\n",
       "  <tbody>\n",
       "    <tr>\n",
       "      <th>15</th>\n",
       "      <td>117433</td>\n",
       "      <td>518790</td>\n",
       "      <td>1</td>\n",
       "    </tr>\n",
       "    <tr>\n",
       "      <th>16</th>\n",
       "      <td>117433</td>\n",
       "      <td>261550</td>\n",
       "      <td>1</td>\n",
       "    </tr>\n",
       "    <tr>\n",
       "      <th>17</th>\n",
       "      <td>117433</td>\n",
       "      <td>1824220</td>\n",
       "      <td>1</td>\n",
       "    </tr>\n",
       "    <tr>\n",
       "      <th>18</th>\n",
       "      <td>117433</td>\n",
       "      <td>1174180</td>\n",
       "      <td>1</td>\n",
       "    </tr>\n",
       "    <tr>\n",
       "      <th>19</th>\n",
       "      <td>117433</td>\n",
       "      <td>379430</td>\n",
       "      <td>1</td>\n",
       "    </tr>\n",
       "    <tr>\n",
       "      <th>...</th>\n",
       "      <td>...</td>\n",
       "      <td>...</td>\n",
       "      <td>...</td>\n",
       "    </tr>\n",
       "    <tr>\n",
       "      <th>2505732</th>\n",
       "      <td>3201865</td>\n",
       "      <td>1593500</td>\n",
       "      <td>0</td>\n",
       "    </tr>\n",
       "    <tr>\n",
       "      <th>2505733</th>\n",
       "      <td>3201865</td>\n",
       "      <td>292030</td>\n",
       "      <td>1</td>\n",
       "    </tr>\n",
       "    <tr>\n",
       "      <th>2505734</th>\n",
       "      <td>3201865</td>\n",
       "      <td>1172380</td>\n",
       "      <td>1</td>\n",
       "    </tr>\n",
       "    <tr>\n",
       "      <th>2505735</th>\n",
       "      <td>3201865</td>\n",
       "      <td>236430</td>\n",
       "      <td>1</td>\n",
       "    </tr>\n",
       "    <tr>\n",
       "      <th>2505736</th>\n",
       "      <td>3201865</td>\n",
       "      <td>377160</td>\n",
       "      <td>0</td>\n",
       "    </tr>\n",
       "  </tbody>\n",
       "</table>\n",
       "<p>1941874 rows × 3 columns</p>\n",
       "</div>"
      ],
      "text/plain": [
       "         user_id   app_id  is_recommended\n",
       "15        117433   518790               1\n",
       "16        117433   261550               1\n",
       "17        117433  1824220               1\n",
       "18        117433  1174180               1\n",
       "19        117433   379430               1\n",
       "...          ...      ...             ...\n",
       "2505732  3201865  1593500               0\n",
       "2505733  3201865   292030               1\n",
       "2505734  3201865  1172380               1\n",
       "2505735  3201865   236430               1\n",
       "2505736  3201865   377160               0\n",
       "\n",
       "[1941874 rows x 3 columns]"
      ]
     },
     "execution_count": 57,
     "metadata": {},
     "output_type": "execute_result"
    }
   ],
   "source": [
    "svd_df"
   ]
  },
  {
   "cell_type": "markdown",
   "metadata": {},
   "source": [
    "`svd_df` is formatted so that it can correctly be transformed into an SVD Dataset for the svd model.  Note, however, that it does not include the unreviewed games.  To add them, I will create a dummy user, leaving the 'is_recommended' column blank."
   ]
  },
  {
   "cell_type": "code",
   "execution_count": 58,
   "metadata": {},
   "outputs": [],
   "source": [
    "dummy_user = pd.DataFrame({\n",
    "    'user_id': [9999999]*len(unreviewed_appIDs),\n",
    "    'app_id': unreviewed_appIDs,\n",
    "    'is_recommended': [np.nan]*len(unreviewed_appIDs)\n",
    "})"
   ]
  },
  {
   "cell_type": "code",
   "execution_count": 59,
   "metadata": {},
   "outputs": [
    {
     "data": {
      "text/html": [
       "<div>\n",
       "<style scoped>\n",
       "    .dataframe tbody tr th:only-of-type {\n",
       "        vertical-align: middle;\n",
       "    }\n",
       "\n",
       "    .dataframe tbody tr th {\n",
       "        vertical-align: top;\n",
       "    }\n",
       "\n",
       "    .dataframe thead th {\n",
       "        text-align: right;\n",
       "    }\n",
       "</style>\n",
       "<table border=\"1\" class=\"dataframe\">\n",
       "  <thead>\n",
       "    <tr style=\"text-align: right;\">\n",
       "      <th></th>\n",
       "      <th>user_id</th>\n",
       "      <th>app_id</th>\n",
       "      <th>is_recommended</th>\n",
       "    </tr>\n",
       "  </thead>\n",
       "  <tbody>\n",
       "    <tr>\n",
       "      <th>0</th>\n",
       "      <td>9999999</td>\n",
       "      <td>1334330</td>\n",
       "      <td>NaN</td>\n",
       "    </tr>\n",
       "    <tr>\n",
       "      <th>1</th>\n",
       "      <td>9999999</td>\n",
       "      <td>1730260</td>\n",
       "      <td>NaN</td>\n",
       "    </tr>\n",
       "    <tr>\n",
       "      <th>2</th>\n",
       "      <td>9999999</td>\n",
       "      <td>253250</td>\n",
       "      <td>NaN</td>\n",
       "    </tr>\n",
       "    <tr>\n",
       "      <th>3</th>\n",
       "      <td>9999999</td>\n",
       "      <td>1770830</td>\n",
       "      <td>NaN</td>\n",
       "    </tr>\n",
       "    <tr>\n",
       "      <th>4</th>\n",
       "      <td>9999999</td>\n",
       "      <td>736240</td>\n",
       "      <td>NaN</td>\n",
       "    </tr>\n",
       "    <tr>\n",
       "      <th>...</th>\n",
       "      <td>...</td>\n",
       "      <td>...</td>\n",
       "      <td>...</td>\n",
       "    </tr>\n",
       "    <tr>\n",
       "      <th>1933</th>\n",
       "      <td>9999999</td>\n",
       "      <td>898460</td>\n",
       "      <td>NaN</td>\n",
       "    </tr>\n",
       "    <tr>\n",
       "      <th>1934</th>\n",
       "      <td>9999999</td>\n",
       "      <td>2146190</td>\n",
       "      <td>NaN</td>\n",
       "    </tr>\n",
       "    <tr>\n",
       "      <th>1935</th>\n",
       "      <td>9999999</td>\n",
       "      <td>933300</td>\n",
       "      <td>NaN</td>\n",
       "    </tr>\n",
       "    <tr>\n",
       "      <th>1936</th>\n",
       "      <td>9999999</td>\n",
       "      <td>1074040</td>\n",
       "      <td>NaN</td>\n",
       "    </tr>\n",
       "    <tr>\n",
       "      <th>1937</th>\n",
       "      <td>9999999</td>\n",
       "      <td>12140</td>\n",
       "      <td>NaN</td>\n",
       "    </tr>\n",
       "  </tbody>\n",
       "</table>\n",
       "<p>1938 rows × 3 columns</p>\n",
       "</div>"
      ],
      "text/plain": [
       "      user_id   app_id  is_recommended\n",
       "0     9999999  1334330             NaN\n",
       "1     9999999  1730260             NaN\n",
       "2     9999999   253250             NaN\n",
       "3     9999999  1770830             NaN\n",
       "4     9999999   736240             NaN\n",
       "...       ...      ...             ...\n",
       "1933  9999999   898460             NaN\n",
       "1934  9999999  2146190             NaN\n",
       "1935  9999999   933300             NaN\n",
       "1936  9999999  1074040             NaN\n",
       "1937  9999999    12140             NaN\n",
       "\n",
       "[1938 rows x 3 columns]"
      ]
     },
     "execution_count": 59,
     "metadata": {},
     "output_type": "execute_result"
    }
   ],
   "source": [
    "dummy_user"
   ]
  },
  {
   "cell_type": "code",
   "execution_count": 60,
   "metadata": {},
   "outputs": [],
   "source": [
    "# add our dummy user without recommendations to our dataframe\n",
    "expanded_svd_df = pd.concat([svd_df, dummy_user], ignore_index=True)"
   ]
  },
  {
   "cell_type": "code",
   "execution_count": 61,
   "metadata": {},
   "outputs": [],
   "source": [
    "expanded_svd_df.to_csv('data/svd_recommendations.csv', index=False)"
   ]
  },
  {
   "cell_type": "code",
   "execution_count": 3,
   "metadata": {},
   "outputs": [],
   "source": [
    "# this is simply a pickup location in case we need to run our model numerous times\n",
    "expanded_svd_df = pd.read_csv('data/svd_recommendations.csv')"
   ]
  },
  {
   "cell_type": "markdown",
   "metadata": {},
   "source": [
    "With everything in place, we can create the Dataset and make \"predictions\" for the unknown numbers in the utility matrix."
   ]
  },
  {
   "cell_type": "code",
   "execution_count": 4,
   "metadata": {},
   "outputs": [],
   "source": [
    "# preparing the data for our model\n",
    "my_dataset = Dataset.load_from_df(expanded_svd_df, Reader(rating_scale=(0, 1)))\n",
    "my_train_dataset = my_dataset.build_full_trainset()"
   ]
  },
  {
   "cell_type": "markdown",
   "metadata": {},
   "source": [
    "### Initializing the Algorithm"
   ]
  },
  {
   "cell_type": "code",
   "execution_count": 5,
   "metadata": {},
   "outputs": [
    {
     "data": {
      "text/plain": [
       "<surprise.prediction_algorithms.matrix_factorization.SVD at 0x22d70ecaf20>"
      ]
     },
     "execution_count": 5,
     "metadata": {},
     "output_type": "execute_result"
    }
   ],
   "source": [
    "my_algorithm = FunkSVD(n_factors=10, \n",
    "                       n_epochs=100, \n",
    "                       lr_all=0.1,    # Learning rate for each epoch\n",
    "                       biased=False,  # This forces the algorithm to store all latent information in the matrices\n",
    "                       verbose=0)\n",
    "\n",
    "my_algorithm.fit(my_train_dataset)\n",
    "\n",
    "# We can pickle our model so that it can be loaded whenever (and wherever) we need it.\n",
    "dump(my_algorithm, open('svd_model.pkl','wb'))"
   ]
  },
  {
   "cell_type": "markdown",
   "metadata": {},
   "source": [
    "After running the model, we can see what it has done."
   ]
  },
  {
   "cell_type": "code",
   "execution_count": 145,
   "metadata": {},
   "outputs": [
    {
     "name": "stdout",
     "output_type": "stream",
     "text": [
      "(111844, 10)\n",
      "(10, 4185)\n"
     ]
    }
   ],
   "source": [
    "U = my_algorithm.pu\n",
    "print(U.shape)\n",
    "\n",
    "G = my_algorithm.qi.T\n",
    "print(G.shape)"
   ]
  },
  {
   "cell_type": "markdown",
   "metadata": {},
   "source": [
    "So, our model has produced two matrices, one for users and one for games such that their dot product produces the utility (user-item) matrix that we are aiming for.  In order to get the dot product to produce the correct numbers in the utility matrix, it randomly initializes values and then performs a gradient descent to \"pull\" numbers closer to the target values.  Doing this in turn pulls unknown values toward \"optimal\" values as well.  These unknown values, then, are in effect the predictions for user ratings of games that they have not yet rated.\n",
    "\n",
    "We can see how it does this for the first game below."
   ]
  },
  {
   "cell_type": "code",
   "execution_count": 64,
   "metadata": {},
   "outputs": [
    {
     "data": {
      "image/png": "[encoded data removed]",
      "text/plain": [
       "<Figure size 1500x700 with 1 Axes>"
      ]
     },
     "metadata": {},
     "output_type": "display_data"
    }
   ],
   "source": [
    "first_game = G[:, 0]\n",
    "\n",
    "plt.figure(figsize=(15, 7))\n",
    "plt.barh([f'Latent Var{i}' for i in range(1,len(first_game)+1)], first_game)\n",
    "plt.title(\"Latent Variable Composition of Game #1\")\n",
    "plt.ylabel(\"Latent Variable\")\n",
    "plt.xlabel(\"Value\")\n",
    "plt.show()"
   ]
  },
  {
   "cell_type": "markdown",
   "metadata": {},
   "source": [
    "By determining latent variables for each game, it is able to \"evaluate\" how a user would interact with that game, given the user's own latent variables.  This gives us the final predicted score for each user-item pair."
   ]
  },
  {
   "cell_type": "markdown",
   "metadata": {},
   "source": [
    "### Matrix Factorization Results"
   ]
  },
  {
   "cell_type": "markdown",
   "metadata": {},
   "source": [
    "To visualize the results of the matrix factorization, let's take our first user and see which games we know they rated.  We can then do two things to evaluate this model:\n",
    "- compare the known game ratings to the corresponding matrix factorization results\n",
    "- compare the guessed game ratings (the games that were added without reviews, but which are similar to the reviewed games) to the corresponding predicted game ratings."
   ]
  },
  {
   "cell_type": "code",
   "execution_count": 149,
   "metadata": {},
   "outputs": [
    {
     "data": {
      "text/html": [
       "<div>\n",
       "<style scoped>\n",
       "    .dataframe tbody tr th:only-of-type {\n",
       "        vertical-align: middle;\n",
       "    }\n",
       "\n",
       "    .dataframe tbody tr th {\n",
       "        vertical-align: top;\n",
       "    }\n",
       "\n",
       "    .dataframe thead th {\n",
       "        text-align: right;\n",
       "    }\n",
       "</style>\n",
       "<table border=\"1\" class=\"dataframe\">\n",
       "  <thead>\n",
       "    <tr style=\"text-align: right;\">\n",
       "      <th></th>\n",
       "      <th>app_id</th>\n",
       "      <th>actual_rating</th>\n",
       "      <th>predicted_rating</th>\n",
       "      <th>accurate_rating</th>\n",
       "    </tr>\n",
       "  </thead>\n",
       "  <tbody>\n",
       "    <tr>\n",
       "      <th>0</th>\n",
       "      <td>518790</td>\n",
       "      <td>1.0</td>\n",
       "      <td>0.965353</td>\n",
       "      <td>True</td>\n",
       "    </tr>\n",
       "    <tr>\n",
       "      <th>1</th>\n",
       "      <td>261550</td>\n",
       "      <td>1.0</td>\n",
       "      <td>1.000000</td>\n",
       "      <td>True</td>\n",
       "    </tr>\n",
       "    <tr>\n",
       "      <th>2</th>\n",
       "      <td>1824220</td>\n",
       "      <td>1.0</td>\n",
       "      <td>1.000000</td>\n",
       "      <td>True</td>\n",
       "    </tr>\n",
       "    <tr>\n",
       "      <th>3</th>\n",
       "      <td>1174180</td>\n",
       "      <td>1.0</td>\n",
       "      <td>0.830990</td>\n",
       "      <td>True</td>\n",
       "    </tr>\n",
       "    <tr>\n",
       "      <th>4</th>\n",
       "      <td>379430</td>\n",
       "      <td>1.0</td>\n",
       "      <td>0.929109</td>\n",
       "      <td>True</td>\n",
       "    </tr>\n",
       "    <tr>\n",
       "      <th>5</th>\n",
       "      <td>1672970</td>\n",
       "      <td>0.0</td>\n",
       "      <td>0.267507</td>\n",
       "      <td>True</td>\n",
       "    </tr>\n",
       "    <tr>\n",
       "      <th>6</th>\n",
       "      <td>761890</td>\n",
       "      <td>0.0</td>\n",
       "      <td>0.090146</td>\n",
       "      <td>True</td>\n",
       "    </tr>\n",
       "    <tr>\n",
       "      <th>7</th>\n",
       "      <td>589290</td>\n",
       "      <td>1.0</td>\n",
       "      <td>1.000000</td>\n",
       "      <td>True</td>\n",
       "    </tr>\n",
       "    <tr>\n",
       "      <th>8</th>\n",
       "      <td>1358710</td>\n",
       "      <td>0.0</td>\n",
       "      <td>0.142976</td>\n",
       "      <td>True</td>\n",
       "    </tr>\n",
       "    <tr>\n",
       "      <th>9</th>\n",
       "      <td>292030</td>\n",
       "      <td>1.0</td>\n",
       "      <td>0.861775</td>\n",
       "      <td>True</td>\n",
       "    </tr>\n",
       "    <tr>\n",
       "      <th>10</th>\n",
       "      <td>364360</td>\n",
       "      <td>1.0</td>\n",
       "      <td>0.880916</td>\n",
       "      <td>True</td>\n",
       "    </tr>\n",
       "    <tr>\n",
       "      <th>11</th>\n",
       "      <td>594570</td>\n",
       "      <td>1.0</td>\n",
       "      <td>0.781994</td>\n",
       "      <td>True</td>\n",
       "    </tr>\n",
       "  </tbody>\n",
       "</table>\n",
       "</div>"
      ],
      "text/plain": [
       "     app_id  actual_rating  predicted_rating  accurate_rating\n",
       "0    518790            1.0          0.965353             True\n",
       "1    261550            1.0          1.000000             True\n",
       "2   1824220            1.0          1.000000             True\n",
       "3   1174180            1.0          0.830990             True\n",
       "4    379430            1.0          0.929109             True\n",
       "5   1672970            0.0          0.267507             True\n",
       "6    761890            0.0          0.090146             True\n",
       "7    589290            1.0          1.000000             True\n",
       "8   1358710            0.0          0.142976             True\n",
       "9    292030            1.0          0.861775             True\n",
       "10   364360            1.0          0.880916             True\n",
       "11   594570            1.0          0.781994             True"
      ]
     },
     "metadata": {},
     "output_type": "display_data"
    }
   ],
   "source": [
    "# comparing known ratings to factorization results\n",
    "\n",
    "# take the first user as our test\n",
    "test_user = expanded_svd_df['user_id'].iloc[0]\n",
    "\n",
    "def user_evaluation_known(test_user):\n",
    "    # get that user's game ratings\n",
    "    test_user_ratings = expanded_svd_df[expanded_svd_df['user_id']==test_user]\n",
    "    rated_games = test_user_ratings['app_id'].values\n",
    "\n",
    "    columns = ['app_id', 'actual_rating', 'predicted_rating']\n",
    "    test_user_predictions = pd.DataFrame(columns=columns)\n",
    "\n",
    "    # get predictions for each game the user has reviewed\n",
    "    for game in rated_games:\n",
    "\n",
    "        actual_rating = test_user_ratings.loc[test_user_ratings['app_id']==game, 'is_recommended'].values[0]\n",
    "        predicted_rating = my_algorithm.predict(test_user, game).est\n",
    "\n",
    "        row = {'app_id': game, 'actual_rating': actual_rating, 'predicted_rating': predicted_rating}\n",
    "        test_user_predictions = pd.concat([test_user_predictions, pd.DataFrame([row])], ignore_index=True)\n",
    "\n",
    "    # if the predicted rating is >= 0.5, we say it is 'positive', otherwise negative.  Test to see if factorization was accurate.\n",
    "    test_user_predictions['accurate_rating'] = (test_user_predictions['actual_rating'] == round(test_user_predictions['predicted_rating'], 0))\n",
    "\n",
    "    return test_user_predictions\n",
    "\n",
    "display(user_evaluation_known(test_user))"
   ]
  },
  {
   "cell_type": "markdown",
   "metadata": {},
   "source": [
    "100% accuracy!  This is certainly misleading since it was trained on these values.  The purpose of the factorization was to get as close as possible to these known values, so we should expect that it gets them \"right.\"  \n",
    "\n",
    "Recall, however, that we have a sort of test set built into this model.  We determined that the unreviewed games added to our dataset were the nearest possible neighbour (among unreviewed games) to one of the games in our reviewed games list.  We assumed that any game the user had reviewed had a corresponding nearest neighbour from the unreviewed list that they would have rated in the same way.  This is a sweeping generalization, but let's see how our model does for the test users's similar games."
   ]
  },
  {
   "cell_type": "code",
   "execution_count": 117,
   "metadata": {},
   "outputs": [],
   "source": [
    "# getting the indices of our similar games\n",
    "similar_games_indices, _ = get_similar_games(reviewed_games_indices)"
   ]
  },
  {
   "cell_type": "code",
   "execution_count": 142,
   "metadata": {},
   "outputs": [],
   "source": [
    "# find the corresponding 'similar games' for test_user\n",
    "similar_game_indices_dict = dict(zip(reviewed_games_indices, similar_games_indices))\n",
    "\n",
    "similar_game_list = []\n",
    "for i in reviewed_games_indices:\n",
    "    similar_game_index = similar_game_indices_dict[i]\n",
    "    similar_game = game_data_copy.iloc[i]['app_id']\n",
    "    similar_game_list.append(similar_game)\n",
    "\n",
    "similar_game_dict = dict(zip(reviewed_games, similar_game_list))"
   ]
  },
  {
   "cell_type": "code",
   "execution_count": 150,
   "metadata": {},
   "outputs": [
    {
     "data": {
      "text/html": [
       "<div>\n",
       "<style scoped>\n",
       "    .dataframe tbody tr th:only-of-type {\n",
       "        vertical-align: middle;\n",
       "    }\n",
       "\n",
       "    .dataframe tbody tr th {\n",
       "        vertical-align: top;\n",
       "    }\n",
       "\n",
       "    .dataframe thead th {\n",
       "        text-align: right;\n",
       "    }\n",
       "</style>\n",
       "<table border=\"1\" class=\"dataframe\">\n",
       "  <thead>\n",
       "    <tr style=\"text-align: right;\">\n",
       "      <th></th>\n",
       "      <th>app_id</th>\n",
       "      <th>guessed_rating</th>\n",
       "      <th>predicted_rating</th>\n",
       "      <th>accurate_rating</th>\n",
       "    </tr>\n",
       "  </thead>\n",
       "  <tbody>\n",
       "    <tr>\n",
       "      <th>0</th>\n",
       "      <td>673130</td>\n",
       "      <td>1.0</td>\n",
       "      <td>0.727326</td>\n",
       "      <td>True</td>\n",
       "    </tr>\n",
       "    <tr>\n",
       "      <th>1</th>\n",
       "      <td>35000</td>\n",
       "      <td>1.0</td>\n",
       "      <td>0.918548</td>\n",
       "      <td>True</td>\n",
       "    </tr>\n",
       "    <tr>\n",
       "      <th>2</th>\n",
       "      <td>1066180</td>\n",
       "      <td>1.0</td>\n",
       "      <td>0.597385</td>\n",
       "      <td>True</td>\n",
       "    </tr>\n",
       "    <tr>\n",
       "      <th>3</th>\n",
       "      <td>250180</td>\n",
       "      <td>1.0</td>\n",
       "      <td>0.586530</td>\n",
       "      <td>True</td>\n",
       "    </tr>\n",
       "    <tr>\n",
       "      <th>4</th>\n",
       "      <td>815450</td>\n",
       "      <td>1.0</td>\n",
       "      <td>1.000000</td>\n",
       "      <td>True</td>\n",
       "    </tr>\n",
       "    <tr>\n",
       "      <th>5</th>\n",
       "      <td>252610</td>\n",
       "      <td>0.0</td>\n",
       "      <td>0.997019</td>\n",
       "      <td>False</td>\n",
       "    </tr>\n",
       "    <tr>\n",
       "      <th>6</th>\n",
       "      <td>698700</td>\n",
       "      <td>0.0</td>\n",
       "      <td>0.721829</td>\n",
       "      <td>False</td>\n",
       "    </tr>\n",
       "    <tr>\n",
       "      <th>7</th>\n",
       "      <td>1148760</td>\n",
       "      <td>1.0</td>\n",
       "      <td>0.378295</td>\n",
       "      <td>False</td>\n",
       "    </tr>\n",
       "    <tr>\n",
       "      <th>8</th>\n",
       "      <td>285900</td>\n",
       "      <td>0.0</td>\n",
       "      <td>0.170975</td>\n",
       "      <td>True</td>\n",
       "    </tr>\n",
       "    <tr>\n",
       "      <th>9</th>\n",
       "      <td>261550</td>\n",
       "      <td>1.0</td>\n",
       "      <td>1.000000</td>\n",
       "      <td>True</td>\n",
       "    </tr>\n",
       "    <tr>\n",
       "      <th>10</th>\n",
       "      <td>554820</td>\n",
       "      <td>1.0</td>\n",
       "      <td>0.729570</td>\n",
       "      <td>True</td>\n",
       "    </tr>\n",
       "    <tr>\n",
       "      <th>11</th>\n",
       "      <td>395620</td>\n",
       "      <td>1.0</td>\n",
       "      <td>1.000000</td>\n",
       "      <td>True</td>\n",
       "    </tr>\n",
       "  </tbody>\n",
       "</table>\n",
       "</div>"
      ],
      "text/plain": [
       "     app_id  guessed_rating  predicted_rating  accurate_rating\n",
       "0    673130             1.0          0.727326             True\n",
       "1     35000             1.0          0.918548             True\n",
       "2   1066180             1.0          0.597385             True\n",
       "3    250180             1.0          0.586530             True\n",
       "4    815450             1.0          1.000000             True\n",
       "5    252610             0.0          0.997019            False\n",
       "6    698700             0.0          0.721829            False\n",
       "7   1148760             1.0          0.378295            False\n",
       "8    285900             0.0          0.170975             True\n",
       "9    261550             1.0          1.000000             True\n",
       "10   554820             1.0          0.729570             True\n",
       "11   395620             1.0          1.000000             True"
      ]
     },
     "metadata": {},
     "output_type": "display_data"
    }
   ],
   "source": [
    "# finding matrix factorization results for similar games\n",
    "def user_evaluation_guessed(test_user):\n",
    "\n",
    "    test_user_ratings = expanded_svd_df[expanded_svd_df['user_id']==test_user]\n",
    "    rated_games = test_user_ratings['app_id'].values\n",
    "\n",
    "    columns = ['app_id', 'guessed_rating', 'predicted_rating']\n",
    "    test_user_predictions = pd.DataFrame(columns=columns)\n",
    "\n",
    "    for game in rated_games:\n",
    "        test_user_similar_game = similar_game_dict[game]\n",
    "        guessed_score = test_user_ratings.loc[test_user_ratings['app_id']==game, 'is_recommended'].values[0]\n",
    "\n",
    "        predicted_rating = my_algorithm.predict(test_user, test_user_similar_game).est\n",
    "\n",
    "        row = {'app_id': test_user_similar_game, 'guessed_rating': guessed_score, 'predicted_rating': predicted_rating}\n",
    "        test_user_predictions = pd.concat([test_user_predictions, pd.DataFrame([row])], ignore_index=True)\n",
    "\n",
    "    test_user_predictions['accurate_rating'] = (test_user_predictions['guessed_rating'] == round(test_user_predictions['predicted_rating'], 0))\n",
    "\n",
    "    return test_user_predictions\n",
    "\n",
    "display(user_evaluation_guessed(test_user))"
   ]
  },
  {
   "cell_type": "code",
   "execution_count": 144,
   "metadata": {},
   "outputs": [
    {
     "data": {
      "text/plain": [
       "1    0.764482\n",
       "0    0.235518\n",
       "Name: is_recommended, dtype: float64"
      ]
     },
     "execution_count": 144,
     "metadata": {},
     "output_type": "execute_result"
    }
   ],
   "source": [
    "# reviewing the distribution of positive to negative scores\n",
    "mixed_reviews['is_recommended'].value_counts(normalize=True)"
   ]
  },
  {
   "cell_type": "markdown",
   "metadata": {},
   "source": [
    "Here, we see that the algorithm performs much worse (probably), getting 3/12 values wrong.  Since we don't know for sure that the users would actually rate the \"similar\" games the same, though, we can't be sure that the guessed scores are accurate.  In addition, recall that our dataset is heavily skewed toward positive predictions.  At only 75% accuracy for this small sample set, we should note that our dataset had a 76.4% bias toward positive reviews.  So, in that context, it did slightly worse than expected.\n",
    "\n",
    "Of course, this is not a complete evaluation, nor is it even a particularly fair one, since we guessed the correct values where there were none to begin with.  It is simply a single user eye-test, for which we saw that the model performed _decently_.\n",
    "\n",
    "Now that we've performed this eye test, let's try to be a little more precise.  We can evaluate the model by creating a train-test split and calculating a RMSE between the matrix's known values and the predicted values."
   ]
  },
  {
   "cell_type": "markdown",
   "metadata": {},
   "source": [
    "### Evaluating the Model\n",
    "\n",
    "Let's start by reloading our data and creating the train/test split before retraining the model.  Following this, we can evaluate the model's accuracy."
   ]
  },
  {
   "cell_type": "code",
   "execution_count": 151,
   "metadata": {},
   "outputs": [],
   "source": [
    "# restarting from our save point\n",
    "evaluation_df = pd.read_csv('data/svd_recommendations.csv')"
   ]
  },
  {
   "cell_type": "code",
   "execution_count": 163,
   "metadata": {},
   "outputs": [],
   "source": [
    "# for evaluation purposes, we will have to drop the unreviewed games\n",
    "evaluation_df.dropna(inplace=True)"
   ]
  },
  {
   "cell_type": "code",
   "execution_count": 184,
   "metadata": {},
   "outputs": [],
   "source": [
    "# preparing the data for our model\n",
    "my_dataset = Dataset.load_from_df(evaluation_df, Reader(rating_scale=(0, 1)))\n",
    "\n",
    "# The surprise package doesn't allow you to test on the trainset we built\n",
    "my_train_dataset, my_test_dataset = train_test_split(my_dataset, test_size=0.5)\n",
    "\n",
    "svd_eval_model = FunkSVD(n_factors=10, \n",
    "                       n_epochs=100, \n",
    "                       lr_all=0.1,    # Learning rate for each epoch\n",
    "                       biased=False,\n",
    "                       verbose=0)\n",
    "\n",
    "svd_eval_model.fit(my_train_dataset)\n",
    "\n",
    "# pickle our results\n",
    "dump(svd_eval_model, open('svd_eval_model.pkl','wb'))\n",
    "\n",
    "# get predictions\n",
    "predictions = svd_eval_model.test(my_test_dataset)"
   ]
  },
  {
   "cell_type": "markdown",
   "metadata": {},
   "source": [
    "From this model, we can get various prediction scores."
   ]
  },
  {
   "cell_type": "code",
   "execution_count": 185,
   "metadata": {},
   "outputs": [
    {
     "name": "stdout",
     "output_type": "stream",
     "text": [
      "RMSE: 0.4553673320763824 (lower is better)\n",
      "MSE: 0.20735940712236234 (lower is better)\n",
      "MAE: 0.3345130901876966 (lower is better)\n",
      "FCP: 0.5708414901425816 (higher is better)\n"
     ]
    }
   ],
   "source": [
    "# Root Mean Squared Error\n",
    "RMSE = accuracy.rmse(predictions, verbose=False)\n",
    "# Mean Squared Error\n",
    "MSE = accuracy.mse(predictions, verbose=False)\n",
    "# Mean Absolute Error\n",
    "MAE = accuracy.mae(predictions, verbose=False)\n",
    "# Fraction of Concordant Pairs\n",
    "FCP = accuracy.fcp(predictions, verbose=False)\n",
    "\n",
    "print(f'RMSE: {RMSE} (lower is better)')\n",
    "print(f'MSE: {MSE} (lower is better)')\n",
    "print(f'MAE: {MAE} (lower is better)')\n",
    "print(f'FCP: {FCP} (higher is better)') "
   ]
  },
  {
   "cell_type": "markdown",
   "metadata": {},
   "source": [
    "The prediction scores mostly tell us that the model is able generally predict the correct scores, but will frequently get the wrong score.  For instance, for a given pair of items, it can predict the correct ordering of those items (one being more positive) approximately 60% of the time.  This doesn't tell, though, that it gets the wrong prediction 40% of the time, only that when distinguishing between two items, it tends to sort them in the wrong order about 40% of the time (although it may still accurately predict both as a positive (1) or negative (0) score)."
   ]
  },
  {
   "cell_type": "code",
   "execution_count": 182,
   "metadata": {},
   "outputs": [
    {
     "name": "stdout",
     "output_type": "stream",
     "text": [
      "0.4544546766766334\n",
      "0.20652905315326342\n",
      "0.33348374653865853\n",
      "0.5703581851473443\n"
     ]
    }
   ],
   "source": [
    "# Root Mean Squared Error\n",
    "RMSE = accuracy.rmse(predictions, verbose=False)\n",
    "# Mean Squared Error\n",
    "MSE = accuracy.mse(predictions, verbose=False)\n",
    "# Mean Absolute Error\n",
    "MAE = accuracy.mae(predictions, verbose=False)\n",
    "# Fraction of Concordant Pairs\n",
    "FCP = accuracy.fcp(predictions, verbose=False)\n",
    "\n",
    "print(RMSE)\n",
    "print(MSE)\n",
    "print(MAE)\n",
    "print(FCP) "
   ]
  },
  {
   "cell_type": "code",
   "execution_count": null,
   "metadata": {},
   "outputs": [],
   "source": []
  },
  {
   "cell_type": "code",
   "execution_count": null,
   "metadata": {},
   "outputs": [],
   "source": []
  },
  {
   "cell_type": "code",
   "execution_count": null,
   "metadata": {},
   "outputs": [],
   "source": []
  },
  {
   "cell_type": "code",
   "execution_count": 11,
   "metadata": {},
   "outputs": [
    {
     "data": {
      "text/html": [
       "<div>\n",
       "<style scoped>\n",
       "    .dataframe tbody tr th:only-of-type {\n",
       "        vertical-align: middle;\n",
       "    }\n",
       "\n",
       "    .dataframe tbody tr th {\n",
       "        vertical-align: top;\n",
       "    }\n",
       "\n",
       "    .dataframe thead th {\n",
       "        text-align: right;\n",
       "    }\n",
       "</style>\n",
       "<table border=\"1\" class=\"dataframe\">\n",
       "  <thead>\n",
       "    <tr style=\"text-align: right;\">\n",
       "      <th></th>\n",
       "      <th>user_id</th>\n",
       "      <th>app_id</th>\n",
       "      <th>is_recommended</th>\n",
       "    </tr>\n",
       "  </thead>\n",
       "  <tbody>\n",
       "    <tr>\n",
       "      <th>0</th>\n",
       "      <td>117433</td>\n",
       "      <td>518790</td>\n",
       "      <td>1.0</td>\n",
       "    </tr>\n",
       "    <tr>\n",
       "      <th>1</th>\n",
       "      <td>117433</td>\n",
       "      <td>261550</td>\n",
       "      <td>1.0</td>\n",
       "    </tr>\n",
       "    <tr>\n",
       "      <th>2</th>\n",
       "      <td>117433</td>\n",
       "      <td>1824220</td>\n",
       "      <td>1.0</td>\n",
       "    </tr>\n",
       "    <tr>\n",
       "      <th>3</th>\n",
       "      <td>117433</td>\n",
       "      <td>1174180</td>\n",
       "      <td>1.0</td>\n",
       "    </tr>\n",
       "    <tr>\n",
       "      <th>4</th>\n",
       "      <td>117433</td>\n",
       "      <td>379430</td>\n",
       "      <td>1.0</td>\n",
       "    </tr>\n",
       "  </tbody>\n",
       "</table>\n",
       "</div>"
      ],
      "text/plain": [
       "   user_id   app_id  is_recommended\n",
       "0   117433   518790             1.0\n",
       "1   117433   261550             1.0\n",
       "2   117433  1824220             1.0\n",
       "3   117433  1174180             1.0\n",
       "4   117433   379430             1.0"
      ]
     },
     "execution_count": 11,
     "metadata": {},
     "output_type": "execute_result"
    }
   ],
   "source": [
    "expanded_svd_df.head()"
   ]
  },
  {
   "cell_type": "code",
   "execution_count": 12,
   "metadata": {},
   "outputs": [
    {
     "name": "stdout",
     "output_type": "stream",
     "text": [
      "<class 'pandas.core.frame.DataFrame'>\n",
      "RangeIndex: 1943812 entries, 0 to 1943811\n",
      "Data columns (total 3 columns):\n",
      " #   Column          Dtype  \n",
      "---  ------          -----  \n",
      " 0   user_id         int64  \n",
      " 1   app_id          int64  \n",
      " 2   is_recommended  float64\n",
      "dtypes: float64(1), int64(2)\n",
      "memory usage: 44.5 MB\n"
     ]
    }
   ],
   "source": [
    "expanded_svd_df.info()"
   ]
  },
  {
   "cell_type": "code",
   "execution_count": 43,
   "metadata": {},
   "outputs": [
    {
     "data": {
      "text/plain": [
       "4173"
      ]
     },
     "execution_count": 43,
     "metadata": {},
     "output_type": "execute_result"
    }
   ],
   "source": [
    "user_id = 117433\n",
    "\n",
    "played_games = expanded_svd_df[expanded_svd_df['user_id'] == user_id]\n",
    "\n",
    "played_games = played_games['app_id'].tolist()\n",
    "\n",
    "all_games_list = expanded_svd_df['app_id'].unique().tolist()\n",
    "\n",
    "unplayed_games = [game for game in all_games_list if game not in played_games]\n",
    "\n",
    "len(unplayed_games)"
   ]
  },
  {
   "cell_type": "code",
   "execution_count": 23,
   "metadata": {},
   "outputs": [
    {
     "data": {
      "text/plain": [
       "1943800"
      ]
     },
     "execution_count": 23,
     "metadata": {},
     "output_type": "execute_result"
    }
   ],
   "source": [
    "len(unplayed_games)"
   ]
  },
  {
   "cell_type": "code",
   "execution_count": 45,
   "metadata": {},
   "outputs": [
    {
     "name": "stdout",
     "output_type": "stream",
     "text": [
      "[232090, 284160, 1449850, 1203220, 1245620, 1592190, 253710, 881100, 206480, 254700]\n"
     ]
    }
   ],
   "source": [
    "\n",
    "with open('svd_model.pkl', 'rb') as file:\n",
    "    svd_model = pickle.load(file)\n",
    "\n",
    "# preparing the data for our model\n",
    "my_dataset = Dataset.load_from_df(expanded_svd_df, Reader(rating_scale=(0, 1)))\n",
    "my_train_dataset = my_dataset.build_full_trainset()\n",
    "\n",
    "predictions = []\n",
    "\n",
    "for game in unplayed_games:\n",
    "\n",
    "    prediction = svd_model.predict(user_id, game).est\n",
    "    predictions.append((game, prediction))\n",
    "\n",
    "# Sort the predictions based on the estimated rating (prediction[1]) in descending order (highest to lowest)\n",
    "sorted_predictions = sorted(predictions, key=lambda x: x[1], reverse=True)\n",
    "\n",
    "# Get the top 10 appIDs (games) from the sorted predictions\n",
    "top10_appIDs = [prediction[0] for prediction in sorted_predictions[:10]]\n",
    "\n",
    "print(top10_appIDs)\n",
    "\n",
    "\n",
    "\n"
   ]
  },
  {
   "cell_type": "code",
   "execution_count": 16,
   "metadata": {},
   "outputs": [
    {
     "data": {
      "text/plain": [
       "0.9653530622771911"
      ]
     },
     "execution_count": 16,
     "metadata": {},
     "output_type": "execute_result"
    }
   ],
   "source": [
    "predictions"
   ]
  },
  {
   "cell_type": "code",
   "execution_count": null,
   "metadata": {},
   "outputs": [],
   "source": []
  }
 ],
 "metadata": {
  "kernelspec": {
   "display_name": "BSCapstone",
   "language": "python",
   "name": "python3"
  },
  "language_info": {
   "codemirror_mode": {
    "name": "ipython",
    "version": 3
   },
   "file_extension": ".py",
   "mimetype": "text/x-python",
   "name": "python",
   "nbconvert_exporter": "python",
   "pygments_lexer": "ipython3",
   "version": "3.10.11"
  },
  "orig_nbformat": 4
 },
 "nbformat": 4,
 "nbformat_minor": 2
}
