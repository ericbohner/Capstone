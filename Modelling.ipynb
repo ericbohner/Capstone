{
 "cells": [
  {
   "cell_type": "markdown",
   "metadata": {},
   "source": [
    "# Modelling"
   ]
  },
  {
   "cell_type": "markdown",
   "metadata": {},
   "source": [
    "## Outline of the Process\n",
    "\n",
    "1. Build (two) embedding models to represent both items (games) and users (steam users) as an embedding vector.\n",
    "2. Find the similarity between game and user vectors\n",
    "    - Use distance metrics (cosine similarity, euclidean distance, etc.) to determine their similarity score\n",
    "3. Rank games by their similarity score with the user\n",
    "4. Remove games already owned in their library\n",
    "5. Present top 6 games from the remaining list of ranked games.\n",
    "\n",
    "## Benefits (Business worth)\n",
    "\n",
    "This method of finding recommendations overcomes the so-called \"Cold Start Problem\": it is hard to predict a user's interests when they are new users. By learning the embeddings of existing users and items, the system can make initial recommenations for new users or provide recommendations for new items based on their similarity to existing items."
   ]
  },
  {
   "cell_type": "markdown",
   "metadata": {},
   "source": [
    "## Considerations for Modelling\n",
    "\n",
    "There are many types of recommender systems \n",
    "\n",
    "\n",
    "### Types of Models\n",
    "\n",
    "\n",
    "#### 1. Simple KNN\n",
    "\n",
    "#### 2. Item-Item Filtering\n",
    "\n",
    "#### 3. Item-User Filtering\n",
    "\n",
    "#### 4. Others?\n",
    "\n",
    "#### 5. NN\n",
    "\n",
    "### Accuracy Concerns\n",
    "\n",
    "The model's accuracy can be a valuable metric to determine if the recommendations being given to a user are appropriate.  An important consideration, however, is our tolerance for inaccurate recommendations making it into our top recommended list.  For instance, how much should we care if the system provides 5 good recommendations but 1 very bad recommendation compared to 6 mediocre recommendations?  In other words, how important is the system's ability to prevent false positives (i.e., its precision)?\n",
    "\n",
    "For my recommender system, I will give high preference to precision over accuracy since I want to prevent false positives whenever possible."
   ]
  },
  {
   "cell_type": "markdown",
   "metadata": {},
   "source": [
    "### 0. Preparation"
   ]
  },
  {
   "cell_type": "code",
   "execution_count": 1,
   "metadata": {},
   "outputs": [
    {
     "ename": "ModuleNotFoundError",
     "evalue": "No module named 'sklearn'",
     "output_type": "error",
     "traceback": [
      "\u001b[1;31m---------------------------------------------------------------------------\u001b[0m",
      "\u001b[1;31mModuleNotFoundError\u001b[0m                       Traceback (most recent call last)",
      "Cell \u001b[1;32mIn[1], line 5\u001b[0m\n\u001b[0;32m      2\u001b[0m \u001b[39mimport\u001b[39;00m \u001b[39mnumpy\u001b[39;00m \u001b[39mas\u001b[39;00m \u001b[39mnp\u001b[39;00m\n\u001b[0;32m      3\u001b[0m \u001b[39mimport\u001b[39;00m \u001b[39mmatplotlib\u001b[39;00m\u001b[39m.\u001b[39;00m\u001b[39mpyplot\u001b[39;00m \u001b[39mas\u001b[39;00m \u001b[39mplt\u001b[39;00m\n\u001b[1;32m----> 5\u001b[0m \u001b[39mfrom\u001b[39;00m \u001b[39msklearn\u001b[39;00m\u001b[39m.\u001b[39;00m\u001b[39mneighbors\u001b[39;00m \u001b[39mimport\u001b[39;00m NearestNeighbors\n\u001b[0;32m      7\u001b[0m \u001b[39mfrom\u001b[39;00m \u001b[39mwarnings\u001b[39;00m \u001b[39mimport\u001b[39;00m filterwarnings\n\u001b[0;32m      8\u001b[0m filterwarnings(\u001b[39m'\u001b[39m\u001b[39mignore\u001b[39m\u001b[39m'\u001b[39m)\n",
      "\u001b[1;31mModuleNotFoundError\u001b[0m: No module named 'sklearn'"
     ]
    }
   ],
   "source": [
    "import pandas as pd\n",
    "import numpy as np\n",
    "import matplotlib.pyplot as plt\n",
    "\n",
    "from sklearn.neighbors import NearestNeighbors\n",
    "\n",
    "from warnings import filterwarnings\n",
    "filterwarnings('ignore')"
   ]
  },
  {
   "cell_type": "markdown",
   "metadata": {},
   "source": [
    "### 1. KNN"
   ]
  },
  {
   "cell_type": "code",
   "execution_count": null,
   "metadata": {},
   "outputs": [],
   "source": []
  },
  {
   "cell_type": "code",
   "execution_count": null,
   "metadata": {},
   "outputs": [],
   "source": []
  },
  {
   "cell_type": "code",
   "execution_count": null,
   "metadata": {},
   "outputs": [],
   "source": []
  }
 ],
 "metadata": {
  "kernelspec": {
   "display_name": "BSCapstone",
   "language": "python",
   "name": "python3"
  },
  "language_info": {
   "codemirror_mode": {
    "name": "ipython",
    "version": 3
   },
   "file_extension": ".py",
   "mimetype": "text/x-python",
   "name": "python",
   "nbconvert_exporter": "python",
   "pygments_lexer": "ipython3",
   "version": "3.10.11"
  },
  "orig_nbformat": 4
 },
 "nbformat": 4,
 "nbformat_minor": 2
}
