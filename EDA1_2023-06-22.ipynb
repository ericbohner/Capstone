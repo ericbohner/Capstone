{
 "cells": [
  {
   "attachments": {},
   "cell_type": "markdown",
   "metadata": {},
   "source": [
    "# Steam Game Recommendation"
   ]
  },
  {
   "attachments": {},
   "cell_type": "markdown",
   "metadata": {},
   "source": [
    "import requirements:"
   ]
  },
  {
   "cell_type": "code",
   "execution_count": 2,
   "metadata": {},
   "outputs": [],
   "source": [
    "import pandas as pd"
   ]
  },
  {
   "cell_type": "code",
   "execution_count": 3,
   "metadata": {},
   "outputs": [
    {
     "data": {
      "text/html": [
       "<div>\n",
       "<style scoped>\n",
       "    .dataframe tbody tr th:only-of-type {\n",
       "        vertical-align: middle;\n",
       "    }\n",
       "\n",
       "    .dataframe tbody tr th {\n",
       "        vertical-align: top;\n",
       "    }\n",
       "\n",
       "    .dataframe thead th {\n",
       "        text-align: right;\n",
       "    }\n",
       "</style>\n",
       "<table border=\"1\" class=\"dataframe\">\n",
       "  <thead>\n",
       "    <tr style=\"text-align: right;\">\n",
       "      <th></th>\n",
       "      <th>app_id</th>\n",
       "      <th>title</th>\n",
       "      <th>date_release</th>\n",
       "      <th>win</th>\n",
       "      <th>mac</th>\n",
       "      <th>linux</th>\n",
       "      <th>rating</th>\n",
       "      <th>positive_ratio</th>\n",
       "      <th>user_reviews</th>\n",
       "      <th>price_final</th>\n",
       "      <th>price_original</th>\n",
       "      <th>discount</th>\n",
       "      <th>steam_deck</th>\n",
       "    </tr>\n",
       "  </thead>\n",
       "  <tbody>\n",
       "    <tr>\n",
       "      <th>0</th>\n",
       "      <td>10090</td>\n",
       "      <td>Call of Duty: World at War</td>\n",
       "      <td>2008-11-18</td>\n",
       "      <td>True</td>\n",
       "      <td>False</td>\n",
       "      <td>False</td>\n",
       "      <td>Very Positive</td>\n",
       "      <td>92</td>\n",
       "      <td>37039</td>\n",
       "      <td>19.99</td>\n",
       "      <td>19.99</td>\n",
       "      <td>0.0</td>\n",
       "      <td>True</td>\n",
       "    </tr>\n",
       "    <tr>\n",
       "      <th>1</th>\n",
       "      <td>13500</td>\n",
       "      <td>Prince of Persia: Warrior Within™</td>\n",
       "      <td>2008-11-21</td>\n",
       "      <td>True</td>\n",
       "      <td>False</td>\n",
       "      <td>False</td>\n",
       "      <td>Very Positive</td>\n",
       "      <td>84</td>\n",
       "      <td>2199</td>\n",
       "      <td>9.99</td>\n",
       "      <td>9.99</td>\n",
       "      <td>0.0</td>\n",
       "      <td>True</td>\n",
       "    </tr>\n",
       "    <tr>\n",
       "      <th>2</th>\n",
       "      <td>22364</td>\n",
       "      <td>BRINK: Agents of Change</td>\n",
       "      <td>2011-08-03</td>\n",
       "      <td>True</td>\n",
       "      <td>False</td>\n",
       "      <td>False</td>\n",
       "      <td>Positive</td>\n",
       "      <td>85</td>\n",
       "      <td>21</td>\n",
       "      <td>2.99</td>\n",
       "      <td>2.99</td>\n",
       "      <td>0.0</td>\n",
       "      <td>True</td>\n",
       "    </tr>\n",
       "    <tr>\n",
       "      <th>3</th>\n",
       "      <td>113020</td>\n",
       "      <td>Monaco: What's Yours Is Mine</td>\n",
       "      <td>2013-04-24</td>\n",
       "      <td>True</td>\n",
       "      <td>True</td>\n",
       "      <td>True</td>\n",
       "      <td>Very Positive</td>\n",
       "      <td>92</td>\n",
       "      <td>3722</td>\n",
       "      <td>14.99</td>\n",
       "      <td>14.99</td>\n",
       "      <td>0.0</td>\n",
       "      <td>True</td>\n",
       "    </tr>\n",
       "    <tr>\n",
       "      <th>4</th>\n",
       "      <td>226560</td>\n",
       "      <td>Escape Dead Island</td>\n",
       "      <td>2014-11-18</td>\n",
       "      <td>True</td>\n",
       "      <td>False</td>\n",
       "      <td>False</td>\n",
       "      <td>Mixed</td>\n",
       "      <td>61</td>\n",
       "      <td>873</td>\n",
       "      <td>14.99</td>\n",
       "      <td>14.99</td>\n",
       "      <td>0.0</td>\n",
       "      <td>True</td>\n",
       "    </tr>\n",
       "  </tbody>\n",
       "</table>\n",
       "</div>"
      ],
      "text/plain": [
       "   app_id                              title date_release   win    mac  linux  \\\n",
       "0   10090         Call of Duty: World at War   2008-11-18  True  False  False   \n",
       "1   13500  Prince of Persia: Warrior Within™   2008-11-21  True  False  False   \n",
       "2   22364            BRINK: Agents of Change   2011-08-03  True  False  False   \n",
       "3  113020       Monaco: What's Yours Is Mine   2013-04-24  True   True   True   \n",
       "4  226560                 Escape Dead Island   2014-11-18  True  False  False   \n",
       "\n",
       "          rating  positive_ratio  user_reviews  price_final  price_original  \\\n",
       "0  Very Positive              92         37039        19.99           19.99   \n",
       "1  Very Positive              84          2199         9.99            9.99   \n",
       "2       Positive              85            21         2.99            2.99   \n",
       "3  Very Positive              92          3722        14.99           14.99   \n",
       "4          Mixed              61           873        14.99           14.99   \n",
       "\n",
       "   discount  steam_deck  \n",
       "0       0.0        True  \n",
       "1       0.0        True  \n",
       "2       0.0        True  \n",
       "3       0.0        True  \n",
       "4       0.0        True  "
      ]
     },
     "execution_count": 3,
     "metadata": {},
     "output_type": "execute_result"
    }
   ],
   "source": [
    "games = pd.read_csv('data/games.csv')\n",
    "games.head()"
   ]
  },
  {
   "cell_type": "code",
   "execution_count": 4,
   "metadata": {},
   "outputs": [
    {
     "name": "stdout",
     "output_type": "stream",
     "text": [
      "<class 'pandas.core.frame.DataFrame'>\n",
      "RangeIndex: 48844 entries, 0 to 48843\n",
      "Data columns (total 13 columns):\n",
      " #   Column          Non-Null Count  Dtype  \n",
      "---  ------          --------------  -----  \n",
      " 0   app_id          48844 non-null  int64  \n",
      " 1   title           48844 non-null  object \n",
      " 2   date_release    48844 non-null  object \n",
      " 3   win             48844 non-null  bool   \n",
      " 4   mac             48844 non-null  bool   \n",
      " 5   linux           48844 non-null  bool   \n",
      " 6   rating          48844 non-null  object \n",
      " 7   positive_ratio  48844 non-null  int64  \n",
      " 8   user_reviews    48844 non-null  int64  \n",
      " 9   price_final     48844 non-null  float64\n",
      " 10  price_original  48844 non-null  float64\n",
      " 11  discount        48844 non-null  float64\n",
      " 12  steam_deck      48844 non-null  bool   \n",
      "dtypes: bool(4), float64(3), int64(3), object(3)\n",
      "memory usage: 3.5+ MB\n"
     ]
    }
   ],
   "source": [
    "games.info()"
   ]
  },
  {
   "cell_type": "code",
   "execution_count": 5,
   "metadata": {},
   "outputs": [
    {
     "data": {
      "text/html": [
       "<div>\n",
       "<style scoped>\n",
       "    .dataframe tbody tr th:only-of-type {\n",
       "        vertical-align: middle;\n",
       "    }\n",
       "\n",
       "    .dataframe tbody tr th {\n",
       "        vertical-align: top;\n",
       "    }\n",
       "\n",
       "    .dataframe thead th {\n",
       "        text-align: right;\n",
       "    }\n",
       "</style>\n",
       "<table border=\"1\" class=\"dataframe\">\n",
       "  <thead>\n",
       "    <tr style=\"text-align: right;\">\n",
       "      <th></th>\n",
       "      <th>app_id</th>\n",
       "      <th>helpful</th>\n",
       "      <th>funny</th>\n",
       "      <th>date</th>\n",
       "      <th>is_recommended</th>\n",
       "      <th>hours</th>\n",
       "      <th>user_id</th>\n",
       "      <th>review_id</th>\n",
       "    </tr>\n",
       "  </thead>\n",
       "  <tbody>\n",
       "    <tr>\n",
       "      <th>0</th>\n",
       "      <td>975370</td>\n",
       "      <td>0</td>\n",
       "      <td>0</td>\n",
       "      <td>2022-12-12</td>\n",
       "      <td>True</td>\n",
       "      <td>36.3</td>\n",
       "      <td>24170</td>\n",
       "      <td>0</td>\n",
       "    </tr>\n",
       "    <tr>\n",
       "      <th>1</th>\n",
       "      <td>304390</td>\n",
       "      <td>4</td>\n",
       "      <td>0</td>\n",
       "      <td>2017-02-17</td>\n",
       "      <td>False</td>\n",
       "      <td>11.5</td>\n",
       "      <td>1339</td>\n",
       "      <td>1</td>\n",
       "    </tr>\n",
       "    <tr>\n",
       "      <th>2</th>\n",
       "      <td>1085660</td>\n",
       "      <td>2</td>\n",
       "      <td>0</td>\n",
       "      <td>2019-11-17</td>\n",
       "      <td>True</td>\n",
       "      <td>336.5</td>\n",
       "      <td>110271</td>\n",
       "      <td>2</td>\n",
       "    </tr>\n",
       "    <tr>\n",
       "      <th>3</th>\n",
       "      <td>703080</td>\n",
       "      <td>0</td>\n",
       "      <td>0</td>\n",
       "      <td>2022-09-23</td>\n",
       "      <td>True</td>\n",
       "      <td>27.4</td>\n",
       "      <td>112510</td>\n",
       "      <td>3</td>\n",
       "    </tr>\n",
       "    <tr>\n",
       "      <th>4</th>\n",
       "      <td>526870</td>\n",
       "      <td>0</td>\n",
       "      <td>0</td>\n",
       "      <td>2021-01-10</td>\n",
       "      <td>True</td>\n",
       "      <td>7.9</td>\n",
       "      <td>11046</td>\n",
       "      <td>4</td>\n",
       "    </tr>\n",
       "  </tbody>\n",
       "</table>\n",
       "</div>"
      ],
      "text/plain": [
       "    app_id  helpful  funny        date  is_recommended  hours  user_id  \\\n",
       "0   975370        0      0  2022-12-12            True   36.3    24170   \n",
       "1   304390        4      0  2017-02-17           False   11.5     1339   \n",
       "2  1085660        2      0  2019-11-17            True  336.5   110271   \n",
       "3   703080        0      0  2022-09-23            True   27.4   112510   \n",
       "4   526870        0      0  2021-01-10            True    7.9    11046   \n",
       "\n",
       "   review_id  \n",
       "0          0  \n",
       "1          1  \n",
       "2          2  \n",
       "3          3  \n",
       "4          4  "
      ]
     },
     "execution_count": 5,
     "metadata": {},
     "output_type": "execute_result"
    }
   ],
   "source": [
    "recommendations = pd.read_csv('data/recommendations.csv')\n",
    "recommendations.head()"
   ]
  },
  {
   "cell_type": "code",
   "execution_count": 6,
   "metadata": {},
   "outputs": [
    {
     "name": "stdout",
     "output_type": "stream",
     "text": [
      "<class 'pandas.core.frame.DataFrame'>\n",
      "RangeIndex: 14585291 entries, 0 to 14585290\n",
      "Data columns (total 8 columns):\n",
      " #   Column          Dtype  \n",
      "---  ------          -----  \n",
      " 0   app_id          int64  \n",
      " 1   helpful         int64  \n",
      " 2   funny           int64  \n",
      " 3   date            object \n",
      " 4   is_recommended  bool   \n",
      " 5   hours           float64\n",
      " 6   user_id         int64  \n",
      " 7   review_id       int64  \n",
      "dtypes: bool(1), float64(1), int64(5), object(1)\n",
      "memory usage: 792.8+ MB\n"
     ]
    }
   ],
   "source": [
    "recommendations.info()"
   ]
  },
  {
   "cell_type": "code",
   "execution_count": 7,
   "metadata": {},
   "outputs": [
    {
     "data": {
      "text/html": [
       "<div>\n",
       "<style scoped>\n",
       "    .dataframe tbody tr th:only-of-type {\n",
       "        vertical-align: middle;\n",
       "    }\n",
       "\n",
       "    .dataframe tbody tr th {\n",
       "        vertical-align: top;\n",
       "    }\n",
       "\n",
       "    .dataframe thead th {\n",
       "        text-align: right;\n",
       "    }\n",
       "</style>\n",
       "<table border=\"1\" class=\"dataframe\">\n",
       "  <thead>\n",
       "    <tr style=\"text-align: right;\">\n",
       "      <th></th>\n",
       "      <th>user_id</th>\n",
       "      <th>products</th>\n",
       "      <th>reviews</th>\n",
       "    </tr>\n",
       "  </thead>\n",
       "  <tbody>\n",
       "    <tr>\n",
       "      <th>0</th>\n",
       "      <td>6924278</td>\n",
       "      <td>156</td>\n",
       "      <td>1</td>\n",
       "    </tr>\n",
       "    <tr>\n",
       "      <th>1</th>\n",
       "      <td>4358034</td>\n",
       "      <td>329</td>\n",
       "      <td>4</td>\n",
       "    </tr>\n",
       "    <tr>\n",
       "      <th>2</th>\n",
       "      <td>2340634</td>\n",
       "      <td>176</td>\n",
       "      <td>2</td>\n",
       "    </tr>\n",
       "    <tr>\n",
       "      <th>3</th>\n",
       "      <td>2524085</td>\n",
       "      <td>98</td>\n",
       "      <td>2</td>\n",
       "    </tr>\n",
       "    <tr>\n",
       "      <th>4</th>\n",
       "      <td>2798943</td>\n",
       "      <td>144</td>\n",
       "      <td>3</td>\n",
       "    </tr>\n",
       "  </tbody>\n",
       "</table>\n",
       "</div>"
      ],
      "text/plain": [
       "   user_id  products  reviews\n",
       "0  6924278       156        1\n",
       "1  4358034       329        4\n",
       "2  2340634       176        2\n",
       "3  2524085        98        2\n",
       "4  2798943       144        3"
      ]
     },
     "execution_count": 7,
     "metadata": {},
     "output_type": "execute_result"
    }
   ],
   "source": [
    "users = pd.read_csv('data/users.csv')\n",
    "users.head()"
   ]
  },
  {
   "cell_type": "code",
   "execution_count": 8,
   "metadata": {},
   "outputs": [
    {
     "name": "stdout",
     "output_type": "stream",
     "text": [
      "<class 'pandas.core.frame.DataFrame'>\n",
      "RangeIndex: 7067002 entries, 0 to 7067001\n",
      "Data columns (total 3 columns):\n",
      " #   Column    Dtype\n",
      "---  ------    -----\n",
      " 0   user_id   int64\n",
      " 1   products  int64\n",
      " 2   reviews   int64\n",
      "dtypes: int64(3)\n",
      "memory usage: 161.8 MB\n"
     ]
    }
   ],
   "source": [
    "users.info()"
   ]
  },
  {
   "cell_type": "code",
   "execution_count": 9,
   "metadata": {},
   "outputs": [
    {
     "name": "stderr",
     "output_type": "stream",
     "text": [
      "C:\\Users\\Eric Bohner\\AppData\\Local\\Temp\\ipykernel_13844\\819981650.py:1: DtypeWarning: Columns (19) have mixed types. Specify dtype option on import or set low_memory=False.\n",
      "  steam_games = pd.read_csv('data/steam_games.csv', sep=';')\n"
     ]
    },
    {
     "data": {
      "text/html": [
       "<div>\n",
       "<style scoped>\n",
       "    .dataframe tbody tr th:only-of-type {\n",
       "        vertical-align: middle;\n",
       "    }\n",
       "\n",
       "    .dataframe tbody tr th {\n",
       "        vertical-align: top;\n",
       "    }\n",
       "\n",
       "    .dataframe thead th {\n",
       "        text-align: right;\n",
       "    }\n",
       "</style>\n",
       "<table border=\"1\" class=\"dataframe\">\n",
       "  <thead>\n",
       "    <tr style=\"text-align: right;\">\n",
       "      <th></th>\n",
       "      <th>App ID</th>\n",
       "      <th>Name</th>\n",
       "      <th>Short Description</th>\n",
       "      <th>Developer</th>\n",
       "      <th>Publisher</th>\n",
       "      <th>Genre</th>\n",
       "      <th>Tags</th>\n",
       "      <th>Type</th>\n",
       "      <th>Categories</th>\n",
       "      <th>Owners</th>\n",
       "      <th>...</th>\n",
       "      <th>Price</th>\n",
       "      <th>Initial Price</th>\n",
       "      <th>Discount</th>\n",
       "      <th>CCU</th>\n",
       "      <th>Languages</th>\n",
       "      <th>Platforms</th>\n",
       "      <th>Release Date</th>\n",
       "      <th>Required Age</th>\n",
       "      <th>Website</th>\n",
       "      <th>Header Image</th>\n",
       "    </tr>\n",
       "  </thead>\n",
       "  <tbody>\n",
       "    <tr>\n",
       "      <th>0</th>\n",
       "      <td>10</td>\n",
       "      <td>Counter-Strike</td>\n",
       "      <td>Play the world's number 1 online action game. ...</td>\n",
       "      <td>Valve</td>\n",
       "      <td>Valve</td>\n",
       "      <td>Action</td>\n",
       "      <td>Action: 5426, FPS: 4831, Multiplayer: 3392, Sh...</td>\n",
       "      <td>game</td>\n",
       "      <td>Multi-player, Valve Anti-Cheat enabled, Online...</td>\n",
       "      <td>10,000,000 .. 20,000,000</td>\n",
       "      <td>...</td>\n",
       "      <td>999</td>\n",
       "      <td>999</td>\n",
       "      <td>0</td>\n",
       "      <td>13990</td>\n",
       "      <td>English, French, German, Italian, Spanish - Sp...</td>\n",
       "      <td>windows, mac, linux</td>\n",
       "      <td>2000/11/1</td>\n",
       "      <td>0</td>\n",
       "      <td>NaN</td>\n",
       "      <td>https://cdn.akamai.steamstatic.com/steam/apps/...</td>\n",
       "    </tr>\n",
       "    <tr>\n",
       "      <th>1</th>\n",
       "      <td>1000000</td>\n",
       "      <td>ASCENXION</td>\n",
       "      <td>ASCENXION is a 2D shoot 'em up game where you ...</td>\n",
       "      <td>IndigoBlue Game Studio</td>\n",
       "      <td>PsychoFlux Entertainment</td>\n",
       "      <td>Action, Adventure, Indie</td>\n",
       "      <td>\"Shoot Em Up\": 186, Metroidvania: 181, Bullet ...</td>\n",
       "      <td>game</td>\n",
       "      <td>Single-player, Partial Controller Support, Ste...</td>\n",
       "      <td>0 .. 20,000</td>\n",
       "      <td>...</td>\n",
       "      <td>999</td>\n",
       "      <td>999</td>\n",
       "      <td>0</td>\n",
       "      <td>0</td>\n",
       "      <td>English, Korean, Simplified Chinese</td>\n",
       "      <td>windows</td>\n",
       "      <td>2021/05/14</td>\n",
       "      <td>0</td>\n",
       "      <td>NaN</td>\n",
       "      <td>https://cdn.akamai.steamstatic.com/steam/apps/...</td>\n",
       "    </tr>\n",
       "    <tr>\n",
       "      <th>2</th>\n",
       "      <td>1000010</td>\n",
       "      <td>Crown Trick</td>\n",
       "      <td>Enter a labyrinth that moves as you move, wher...</td>\n",
       "      <td>NEXT Studios</td>\n",
       "      <td>Team17, NEXT Studios</td>\n",
       "      <td>Adventure, Indie, RPG, Strategy</td>\n",
       "      <td>Rogue-like: 268, Turn-Based Combat: 254, RPG: ...</td>\n",
       "      <td>game</td>\n",
       "      <td>Single-player, Partial Controller Support, Ste...</td>\n",
       "      <td>200,000 .. 500,000</td>\n",
       "      <td>...</td>\n",
       "      <td>599</td>\n",
       "      <td>1999</td>\n",
       "      <td>70</td>\n",
       "      <td>99</td>\n",
       "      <td>Simplified Chinese, English, Japanese, Traditi...</td>\n",
       "      <td>windows</td>\n",
       "      <td>2020/10/16</td>\n",
       "      <td>0</td>\n",
       "      <td>NaN</td>\n",
       "      <td>https://cdn.akamai.steamstatic.com/steam/apps/...</td>\n",
       "    </tr>\n",
       "    <tr>\n",
       "      <th>3</th>\n",
       "      <td>1000030</td>\n",
       "      <td>Cook, Serve, Delicious! 3?!</td>\n",
       "      <td>Cook, serve and manage your food truck as you ...</td>\n",
       "      <td>Vertigo Gaming Inc.</td>\n",
       "      <td>Vertigo Gaming Inc.</td>\n",
       "      <td>Action, Indie, Simulation, Strategy</td>\n",
       "      <td>Typing: 221, Management: 213, Casual: 209, Dif...</td>\n",
       "      <td>game</td>\n",
       "      <td>Multi-player, Single-player, Co-op, Steam Achi...</td>\n",
       "      <td>100,000 .. 200,000</td>\n",
       "      <td>...</td>\n",
       "      <td>1999</td>\n",
       "      <td>1999</td>\n",
       "      <td>0</td>\n",
       "      <td>76</td>\n",
       "      <td>English</td>\n",
       "      <td>windows, mac</td>\n",
       "      <td>2020/10/14</td>\n",
       "      <td>0</td>\n",
       "      <td>http://www.cookservedelicious.com</td>\n",
       "      <td>https://cdn.akamai.steamstatic.com/steam/apps/...</td>\n",
       "    </tr>\n",
       "    <tr>\n",
       "      <th>4</th>\n",
       "      <td>1000040</td>\n",
       "      <td>细胞战争</td>\n",
       "      <td>这是一款打击感十足的细胞主题游戏！操作简单但活下去却不简单，“你”作为侵入人体的细菌病毒，通...</td>\n",
       "      <td>DoubleC Games</td>\n",
       "      <td>DoubleC Games</td>\n",
       "      <td>Action, Casual, Indie, Simulation</td>\n",
       "      <td>Action: 22, Casual: 22, Indie: 21, Simulation: 20</td>\n",
       "      <td>game</td>\n",
       "      <td>Single-player</td>\n",
       "      <td>0 .. 20,000</td>\n",
       "      <td>...</td>\n",
       "      <td>199</td>\n",
       "      <td>199</td>\n",
       "      <td>0</td>\n",
       "      <td>0</td>\n",
       "      <td>Simplified Chinese</td>\n",
       "      <td>windows</td>\n",
       "      <td>2019/03/30</td>\n",
       "      <td>0</td>\n",
       "      <td>NaN</td>\n",
       "      <td>https://cdn.akamai.steamstatic.com/steam/apps/...</td>\n",
       "    </tr>\n",
       "  </tbody>\n",
       "</table>\n",
       "<p>5 rows × 22 columns</p>\n",
       "</div>"
      ],
      "text/plain": [
       "    App ID                         Name  \\\n",
       "0       10               Counter-Strike   \n",
       "1  1000000                    ASCENXION   \n",
       "2  1000010                  Crown Trick   \n",
       "3  1000030  Cook, Serve, Delicious! 3?!   \n",
       "4  1000040                         细胞战争   \n",
       "\n",
       "                                   Short Description               Developer  \\\n",
       "0  Play the world's number 1 online action game. ...                   Valve   \n",
       "1  ASCENXION is a 2D shoot 'em up game where you ...  IndigoBlue Game Studio   \n",
       "2  Enter a labyrinth that moves as you move, wher...            NEXT Studios   \n",
       "3  Cook, serve and manage your food truck as you ...     Vertigo Gaming Inc.   \n",
       "4  这是一款打击感十足的细胞主题游戏！操作简单但活下去却不简单，“你”作为侵入人体的细菌病毒，通...           DoubleC Games   \n",
       "\n",
       "                  Publisher                                Genre  \\\n",
       "0                     Valve                               Action   \n",
       "1  PsychoFlux Entertainment             Action, Adventure, Indie   \n",
       "2      Team17, NEXT Studios      Adventure, Indie, RPG, Strategy   \n",
       "3       Vertigo Gaming Inc.  Action, Indie, Simulation, Strategy   \n",
       "4             DoubleC Games    Action, Casual, Indie, Simulation   \n",
       "\n",
       "                                                Tags  Type  \\\n",
       "0  Action: 5426, FPS: 4831, Multiplayer: 3392, Sh...  game   \n",
       "1  \"Shoot Em Up\": 186, Metroidvania: 181, Bullet ...  game   \n",
       "2  Rogue-like: 268, Turn-Based Combat: 254, RPG: ...  game   \n",
       "3  Typing: 221, Management: 213, Casual: 209, Dif...  game   \n",
       "4  Action: 22, Casual: 22, Indie: 21, Simulation: 20  game   \n",
       "\n",
       "                                          Categories  \\\n",
       "0  Multi-player, Valve Anti-Cheat enabled, Online...   \n",
       "1  Single-player, Partial Controller Support, Ste...   \n",
       "2  Single-player, Partial Controller Support, Ste...   \n",
       "3  Multi-player, Single-player, Co-op, Steam Achi...   \n",
       "4                                      Single-player   \n",
       "\n",
       "                     Owners  ...  Price  Initial Price  Discount    CCU  \\\n",
       "0  10,000,000 .. 20,000,000  ...    999            999         0  13990   \n",
       "1               0 .. 20,000  ...    999            999         0      0   \n",
       "2        200,000 .. 500,000  ...    599           1999        70     99   \n",
       "3        100,000 .. 200,000  ...   1999           1999         0     76   \n",
       "4               0 .. 20,000  ...    199            199         0      0   \n",
       "\n",
       "                                           Languages            Platforms  \\\n",
       "0  English, French, German, Italian, Spanish - Sp...  windows, mac, linux   \n",
       "1                English, Korean, Simplified Chinese              windows   \n",
       "2  Simplified Chinese, English, Japanese, Traditi...              windows   \n",
       "3                                            English         windows, mac   \n",
       "4                                 Simplified Chinese              windows   \n",
       "\n",
       "  Release Date Required Age                            Website  \\\n",
       "0    2000/11/1            0                                NaN   \n",
       "1   2021/05/14            0                                NaN   \n",
       "2   2020/10/16            0                                NaN   \n",
       "3   2020/10/14            0  http://www.cookservedelicious.com   \n",
       "4   2019/03/30            0                                NaN   \n",
       "\n",
       "                                        Header Image  \n",
       "0  https://cdn.akamai.steamstatic.com/steam/apps/...  \n",
       "1  https://cdn.akamai.steamstatic.com/steam/apps/...  \n",
       "2  https://cdn.akamai.steamstatic.com/steam/apps/...  \n",
       "3  https://cdn.akamai.steamstatic.com/steam/apps/...  \n",
       "4  https://cdn.akamai.steamstatic.com/steam/apps/...  \n",
       "\n",
       "[5 rows x 22 columns]"
      ]
     },
     "execution_count": 9,
     "metadata": {},
     "output_type": "execute_result"
    }
   ],
   "source": [
    "steam_games = pd.read_csv('data/steam_games.csv', sep=';')\n",
    "steam_games.head()"
   ]
  },
  {
   "cell_type": "code",
   "execution_count": 10,
   "metadata": {},
   "outputs": [
    {
     "name": "stdout",
     "output_type": "stream",
     "text": [
      "<class 'pandas.core.frame.DataFrame'>\n",
      "RangeIndex: 55691 entries, 0 to 55690\n",
      "Data columns (total 22 columns):\n",
      " #   Column             Non-Null Count  Dtype \n",
      "---  ------             --------------  ----- \n",
      " 0   App ID             55691 non-null  int64 \n",
      " 1   Name               55691 non-null  object\n",
      " 2   Short Description  55654 non-null  object\n",
      " 3   Developer          55562 non-null  object\n",
      " 4   Publisher          55540 non-null  object\n",
      " 5   Genre              55530 non-null  object\n",
      " 6   Tags               55556 non-null  object\n",
      " 7   Type               55691 non-null  object\n",
      " 8   Categories         54721 non-null  object\n",
      " 9   Owners             55691 non-null  object\n",
      " 10  Positive Reviews   55691 non-null  int64 \n",
      " 11  Negative Reviews   55691 non-null  int64 \n",
      " 12  Price              55691 non-null  int64 \n",
      " 13  Initial Price      55691 non-null  int64 \n",
      " 14  Discount           55691 non-null  int64 \n",
      " 15  CCU                55691 non-null  int64 \n",
      " 16  Languages          55680 non-null  object\n",
      " 17  Platforms          55691 non-null  object\n",
      " 18  Release Date       55592 non-null  object\n",
      " 19  Required Age       55691 non-null  object\n",
      " 20  Website            30474 non-null  object\n",
      " 21  Header Image       55691 non-null  object\n",
      "dtypes: int64(7), object(15)\n",
      "memory usage: 9.3+ MB\n"
     ]
    }
   ],
   "source": [
    "steam_games.info()"
   ]
  },
  {
   "cell_type": "code",
   "execution_count": 11,
   "metadata": {},
   "outputs": [
    {
     "data": {
      "text/plain": [
       "0        201215\n",
       "1            27\n",
       "2          4032\n",
       "3          1575\n",
       "4             0\n",
       "          ...  \n",
       "55686        12\n",
       "55687         2\n",
       "55688        12\n",
       "55689         2\n",
       "55690        10\n",
       "Name: Positive Reviews, Length: 55691, dtype: int64"
      ]
     },
     "execution_count": 11,
     "metadata": {},
     "output_type": "execute_result"
    }
   ],
   "source": [
    "steam_games['Positive Reviews']"
   ]
  },
  {
   "cell_type": "code",
   "execution_count": 12,
   "metadata": {},
   "outputs": [
    {
     "data": {
      "text/plain": [
       "0        10,000,000 .. 20,000,000\n",
       "1                     0 .. 20,000\n",
       "2              200,000 .. 500,000\n",
       "3              100,000 .. 200,000\n",
       "4                     0 .. 20,000\n",
       "                   ...           \n",
       "55686                 0 .. 20,000\n",
       "55687                 0 .. 20,000\n",
       "55688            20,000 .. 50,000\n",
       "55689                 0 .. 20,000\n",
       "55690                 0 .. 20,000\n",
       "Name: Owners, Length: 55691, dtype: object"
      ]
     },
     "execution_count": 12,
     "metadata": {},
     "output_type": "execute_result"
    }
   ],
   "source": [
    "steam_games['Owners']"
   ]
  },
  {
   "cell_type": "code",
   "execution_count": 13,
   "metadata": {},
   "outputs": [
    {
     "data": {
      "text/plain": [
       "array(['0', '15', '12', '18', '16', '17', '10', '7', '5', '180', '13',\n",
       "       '3', '6', '14', 'MA 15+', '7+', '21+', 0, 18, 12, 17, 16, 13, 15,\n",
       "       8, 14, 10, 3, 7, 6, 20, 9, 180, 35], dtype=object)"
      ]
     },
     "execution_count": 13,
     "metadata": {},
     "output_type": "execute_result"
    }
   ],
   "source": [
    "steam_games['Required Age'].unique()"
   ]
  },
  {
   "cell_type": "code",
   "execution_count": 14,
   "metadata": {},
   "outputs": [
    {
     "data": {
      "text/plain": [
       "0         32423\n",
       "0         22607\n",
       "15          156\n",
       "18          123\n",
       "15          108\n",
       "18          100\n",
       "17           22\n",
       "16           20\n",
       "16           18\n",
       "12           17\n",
       "17           16\n",
       "12           15\n",
       "13           14\n",
       "13           12\n",
       "14            6\n",
       "10            4\n",
       "14            4\n",
       "8             3\n",
       "10            3\n",
       "180           3\n",
       "6             3\n",
       "3             2\n",
       "9             1\n",
       "20            1\n",
       "6             1\n",
       "7             1\n",
       "MA 15+        1\n",
       "7+            1\n",
       "3             1\n",
       "7             1\n",
       "5             1\n",
       "180           1\n",
       "21+           1\n",
       "35            1\n",
       "Name: Required Age, dtype: int64"
      ]
     },
     "execution_count": 14,
     "metadata": {},
     "output_type": "execute_result"
    }
   ],
   "source": [
    "steam_games['Required Age'].value_counts()"
   ]
  },
  {
   "cell_type": "code",
   "execution_count": 15,
   "metadata": {},
   "outputs": [
    {
     "data": {
      "text/plain": [
       "0"
      ]
     },
     "execution_count": 15,
     "metadata": {},
     "output_type": "execute_result"
    }
   ],
   "source": [
    "steam_games.duplicated().sum()"
   ]
  },
  {
   "cell_type": "code",
   "execution_count": 16,
   "metadata": {},
   "outputs": [],
   "source": [
    "steam_games.loc[steam_games['Required Age'] == 'MA 15+'] = 15"
   ]
  },
  {
   "cell_type": "code",
   "execution_count": 17,
   "metadata": {},
   "outputs": [
    {
     "data": {
      "text/plain": [
       "0      32423\n",
       "0      22607\n",
       "15       156\n",
       "18       123\n",
       "15       109\n",
       "18       100\n",
       "17        22\n",
       "16        20\n",
       "16        18\n",
       "12        17\n",
       "17        16\n",
       "12        15\n",
       "13        14\n",
       "13        12\n",
       "14         6\n",
       "10         4\n",
       "14         4\n",
       "6          3\n",
       "180        3\n",
       "8          3\n",
       "10         3\n",
       "3          2\n",
       "7          1\n",
       "6          1\n",
       "20         1\n",
       "9          1\n",
       "21+        1\n",
       "7+         1\n",
       "3          1\n",
       "180        1\n",
       "5          1\n",
       "7          1\n",
       "35         1\n",
       "Name: Required Age, dtype: int64"
      ]
     },
     "execution_count": 17,
     "metadata": {},
     "output_type": "execute_result"
    }
   ],
   "source": [
    "steam_games['Required Age'].value_counts()"
   ]
  },
  {
   "cell_type": "code",
   "execution_count": 18,
   "metadata": {},
   "outputs": [],
   "source": [
    "steam_games.loc[steam_games['Required Age'] == '7+'] = 7\n",
    "steam_games.loc[steam_games['Required Age'] == '21+'] = 21"
   ]
  },
  {
   "cell_type": "code",
   "execution_count": 19,
   "metadata": {},
   "outputs": [
    {
     "data": {
      "text/plain": [
       "array(['0', '15', '12', '18', '16', '17', '10', '7', '5', '180', '13',\n",
       "       '3', '6', '14', 15, 7, 21, 0, 18, 12, 17, 16, 13, 8, 14, 10, 3, 6,\n",
       "       20, 9, 180, 35], dtype=object)"
      ]
     },
     "execution_count": 19,
     "metadata": {},
     "output_type": "execute_result"
    }
   ],
   "source": [
    "steam_games['Required Age'].unique()"
   ]
  },
  {
   "cell_type": "code",
   "execution_count": 20,
   "metadata": {},
   "outputs": [
    {
     "data": {
      "text/plain": [
       "0      32423\n",
       "0      22607\n",
       "15       156\n",
       "18       123\n",
       "15       109\n",
       "18       100\n",
       "17        22\n",
       "16        20\n",
       "16        18\n",
       "12        17\n",
       "17        16\n",
       "12        15\n",
       "13        14\n",
       "13        12\n",
       "14         6\n",
       "10         4\n",
       "14         4\n",
       "6          3\n",
       "180        3\n",
       "8          3\n",
       "10         3\n",
       "7          2\n",
       "3          2\n",
       "6          1\n",
       "20         1\n",
       "9          1\n",
       "21         1\n",
       "3          1\n",
       "180        1\n",
       "5          1\n",
       "7          1\n",
       "35         1\n",
       "Name: Required Age, dtype: int64"
      ]
     },
     "execution_count": 20,
     "metadata": {},
     "output_type": "execute_result"
    }
   ],
   "source": [
    "steam_games['Required Age'].value_counts()"
   ]
  },
  {
   "cell_type": "code",
   "execution_count": 21,
   "metadata": {},
   "outputs": [],
   "source": [
    "steam_games['Required Age'] = steam_games['Required Age'].astype(int)"
   ]
  },
  {
   "cell_type": "code",
   "execution_count": 90,
   "metadata": {},
   "outputs": [
    {
     "name": "stdout",
     "output_type": "stream",
     "text": [
      "<class 'pandas.core.frame.DataFrame'>\n",
      "RangeIndex: 55691 entries, 0 to 55690\n",
      "Data columns (total 22 columns):\n",
      " #   Column             Non-Null Count  Dtype \n",
      "---  ------             --------------  ----- \n",
      " 0   App ID             55691 non-null  int64 \n",
      " 1   Name               55691 non-null  object\n",
      " 2   Short Description  55654 non-null  object\n",
      " 3   Developer          55562 non-null  object\n",
      " 4   Publisher          55540 non-null  object\n",
      " 5   Genre              55530 non-null  object\n",
      " 6   Tags               55556 non-null  object\n",
      " 7   Type               55691 non-null  object\n",
      " 8   Categories         54721 non-null  object\n",
      " 9   Owners             55691 non-null  object\n",
      " 10  Positive Reviews   55691 non-null  int64 \n",
      " 11  Negative Reviews   55691 non-null  int64 \n",
      " 12  Price              55691 non-null  int64 \n",
      " 13  Initial Price      55691 non-null  int64 \n",
      " 14  Discount           55691 non-null  int64 \n",
      " 15  CCU                55691 non-null  int64 \n",
      " 16  Languages          55680 non-null  object\n",
      " 17  Platforms          55691 non-null  object\n",
      " 18  Release Date       55592 non-null  object\n",
      " 19  Required Age       55691 non-null  int32 \n",
      " 20  Website            30476 non-null  object\n",
      " 21  Header Image       55691 non-null  object\n",
      "dtypes: int32(1), int64(7), object(14)\n",
      "memory usage: 9.1+ MB\n"
     ]
    }
   ],
   "source": [
    "steam_games.info()"
   ]
  },
  {
   "cell_type": "code",
   "execution_count": 26,
   "metadata": {},
   "outputs": [],
   "source": [
    "steam_games['Release Date'] = pd.to_datetime(steam_games['Release Date'])"
   ]
  },
  {
   "cell_type": "code",
   "execution_count": 27,
   "metadata": {},
   "outputs": [
    {
     "name": "stdout",
     "output_type": "stream",
     "text": [
      "<class 'pandas.core.frame.DataFrame'>\n",
      "RangeIndex: 55691 entries, 0 to 55690\n",
      "Data columns (total 22 columns):\n",
      " #   Column             Non-Null Count  Dtype         \n",
      "---  ------             --------------  -----         \n",
      " 0   App ID             55691 non-null  int64         \n",
      " 1   Name               55691 non-null  object        \n",
      " 2   Short Description  55654 non-null  object        \n",
      " 3   Developer          55562 non-null  object        \n",
      " 4   Publisher          55540 non-null  object        \n",
      " 5   Genre              55530 non-null  object        \n",
      " 6   Tags               55556 non-null  object        \n",
      " 7   Type               55691 non-null  object        \n",
      " 8   Categories         54721 non-null  object        \n",
      " 9   Owners             55691 non-null  object        \n",
      " 10  Positive Reviews   55691 non-null  int64         \n",
      " 11  Negative Reviews   55691 non-null  int64         \n",
      " 12  Price              55691 non-null  int64         \n",
      " 13  Initial Price      55691 non-null  int64         \n",
      " 14  Discount           55691 non-null  int64         \n",
      " 15  CCU                55691 non-null  int64         \n",
      " 16  Languages          55680 non-null  object        \n",
      " 17  Platforms          55691 non-null  object        \n",
      " 18  Release Date       55592 non-null  datetime64[ns]\n",
      " 19  Required Age       55691 non-null  int32         \n",
      " 20  Website            30476 non-null  object        \n",
      " 21  Header Image       55691 non-null  object        \n",
      "dtypes: datetime64[ns](1), int32(1), int64(7), object(13)\n",
      "memory usage: 9.1+ MB\n"
     ]
    }
   ],
   "source": [
    "steam_games.info()"
   ]
  },
  {
   "cell_type": "code",
   "execution_count": 29,
   "metadata": {},
   "outputs": [
    {
     "data": {
      "text/plain": [
       "8625"
      ]
     },
     "execution_count": 29,
     "metadata": {},
     "output_type": "execute_result"
    }
   ],
   "source": [
    "steam_games['Languages'].nunique()"
   ]
  },
  {
   "cell_type": "code",
   "execution_count": 31,
   "metadata": {},
   "outputs": [
    {
     "data": {
      "text/plain": [
       "array(['windows, mac, linux', 'windows', 'windows, mac', 'windows, linux',\n",
       "       'mac', 15, 7, 'linux', 21, 'mac, linux'], dtype=object)"
      ]
     },
     "execution_count": 31,
     "metadata": {},
     "output_type": "execute_result"
    }
   ],
   "source": [
    "steam_games['Platforms'].unique()"
   ]
  },
  {
   "cell_type": "code",
   "execution_count": 49,
   "metadata": {},
   "outputs": [
    {
     "data": {
      "text/plain": [
       "windows                41268\n",
       "windows, mac, linux     6807\n",
       "windows, mac            5951\n",
       "windows, linux          1647\n",
       "mac                       11\n",
       "linux                      3\n",
       "15                         1\n",
       "7                          1\n",
       "21                         1\n",
       "mac, linux                 1\n",
       "Name: Platforms, dtype: int64"
      ]
     },
     "execution_count": 49,
     "metadata": {},
     "output_type": "execute_result"
    }
   ],
   "source": [
    "steam_games['Platforms'].value_counts()"
   ]
  },
  {
   "cell_type": "code",
   "execution_count": 48,
   "metadata": {},
   "outputs": [
    {
     "data": {
      "text/html": [
       "<div>\n",
       "<style scoped>\n",
       "    .dataframe tbody tr th:only-of-type {\n",
       "        vertical-align: middle;\n",
       "    }\n",
       "\n",
       "    .dataframe tbody tr th {\n",
       "        vertical-align: top;\n",
       "    }\n",
       "\n",
       "    .dataframe thead th {\n",
       "        text-align: right;\n",
       "    }\n",
       "</style>\n",
       "<table border=\"1\" class=\"dataframe\">\n",
       "  <thead>\n",
       "    <tr style=\"text-align: right;\">\n",
       "      <th></th>\n",
       "      <th>App ID</th>\n",
       "      <th>Name</th>\n",
       "      <th>Short Description</th>\n",
       "      <th>Developer</th>\n",
       "      <th>Publisher</th>\n",
       "      <th>Genre</th>\n",
       "      <th>Tags</th>\n",
       "      <th>Type</th>\n",
       "      <th>Categories</th>\n",
       "      <th>Owners</th>\n",
       "      <th>...</th>\n",
       "      <th>Price</th>\n",
       "      <th>Initial Price</th>\n",
       "      <th>Discount</th>\n",
       "      <th>CCU</th>\n",
       "      <th>Languages</th>\n",
       "      <th>Platforms</th>\n",
       "      <th>Release Date</th>\n",
       "      <th>Required Age</th>\n",
       "      <th>Website</th>\n",
       "      <th>Header Image</th>\n",
       "    </tr>\n",
       "  </thead>\n",
       "  <tbody>\n",
       "    <tr>\n",
       "      <th>10658</th>\n",
       "      <td>15</td>\n",
       "      <td>15</td>\n",
       "      <td>15</td>\n",
       "      <td>15</td>\n",
       "      <td>15</td>\n",
       "      <td>15</td>\n",
       "      <td>15</td>\n",
       "      <td>15</td>\n",
       "      <td>15</td>\n",
       "      <td>15</td>\n",
       "      <td>...</td>\n",
       "      <td>15</td>\n",
       "      <td>15</td>\n",
       "      <td>15</td>\n",
       "      <td>15</td>\n",
       "      <td>15</td>\n",
       "      <td>15</td>\n",
       "      <td>1970-01-01 00:00:00.000000015</td>\n",
       "      <td>15</td>\n",
       "      <td>15</td>\n",
       "      <td>15</td>\n",
       "    </tr>\n",
       "  </tbody>\n",
       "</table>\n",
       "<p>1 rows × 22 columns</p>\n",
       "</div>"
      ],
      "text/plain": [
       "       App ID Name Short Description Developer Publisher Genre Tags Type  \\\n",
       "10658      15   15                15        15        15    15   15   15   \n",
       "\n",
       "      Categories Owners  ...  Price  Initial Price  Discount  CCU  Languages  \\\n",
       "10658         15     15  ...     15             15        15   15         15   \n",
       "\n",
       "       Platforms                  Release Date Required Age Website  \\\n",
       "10658         15 1970-01-01 00:00:00.000000015           15      15   \n",
       "\n",
       "       Header Image  \n",
       "10658            15  \n",
       "\n",
       "[1 rows x 22 columns]"
      ]
     },
     "execution_count": 48,
     "metadata": {},
     "output_type": "execute_result"
    }
   ],
   "source": [
    "steam_games.loc[steam_games['Platforms'] == 15]"
   ]
  },
  {
   "cell_type": "code",
   "execution_count": 52,
   "metadata": {},
   "outputs": [],
   "source": [
    "drop_index = steam_games[steam_games['Platforms'].isin([7, 15, 21])].index"
   ]
  },
  {
   "cell_type": "code",
   "execution_count": 60,
   "metadata": {},
   "outputs": [
    {
     "name": "stdout",
     "output_type": "stream",
     "text": [
      "<class 'pandas.core.frame.DataFrame'>\n",
      "Int64Index: 55688 entries, 0 to 55690\n",
      "Data columns (total 22 columns):\n",
      " #   Column             Non-Null Count  Dtype         \n",
      "---  ------             --------------  -----         \n",
      " 0   App ID             55688 non-null  int64         \n",
      " 1   Name               55688 non-null  object        \n",
      " 2   Short Description  55651 non-null  object        \n",
      " 3   Developer          55559 non-null  object        \n",
      " 4   Publisher          55537 non-null  object        \n",
      " 5   Genre              55527 non-null  object        \n",
      " 6   Tags               55553 non-null  object        \n",
      " 7   Type               55688 non-null  object        \n",
      " 8   Categories         54718 non-null  object        \n",
      " 9   Owners             55688 non-null  object        \n",
      " 10  Positive Reviews   55688 non-null  int64         \n",
      " 11  Negative Reviews   55688 non-null  int64         \n",
      " 12  Price              55688 non-null  int64         \n",
      " 13  Initial Price      55688 non-null  int64         \n",
      " 14  Discount           55688 non-null  int64         \n",
      " 15  CCU                55688 non-null  int64         \n",
      " 16  Languages          55677 non-null  object        \n",
      " 17  Platforms          55688 non-null  object        \n",
      " 18  Release Date       55589 non-null  datetime64[ns]\n",
      " 19  Required Age       55688 non-null  int32         \n",
      " 20  Website            30473 non-null  object        \n",
      " 21  Header Image       55688 non-null  object        \n",
      "dtypes: datetime64[ns](1), int32(1), int64(7), object(13)\n",
      "memory usage: 9.6+ MB\n"
     ]
    }
   ],
   "source": [
    "sg = steam_games.drop(drop_index)\n",
    "sg.info()"
   ]
  },
  {
   "cell_type": "code",
   "execution_count": 59,
   "metadata": {},
   "outputs": [
    {
     "data": {
      "text/plain": [
       "windows                41268\n",
       "windows, mac, linux     6807\n",
       "windows, mac            5951\n",
       "windows, linux          1647\n",
       "mac                       11\n",
       "linux                      3\n",
       "mac, linux                 1\n",
       "Name: Platforms, dtype: int64"
      ]
     },
     "execution_count": 59,
     "metadata": {},
     "output_type": "execute_result"
    }
   ],
   "source": [
    "sg['Platforms'].value_counts()"
   ]
  },
  {
   "cell_type": "code",
   "execution_count": 66,
   "metadata": {},
   "outputs": [],
   "source": [
    "sg['Platforms'] = sg['Platforms'].map({\n",
    "    'windows': 'windows',\n",
    "    'windows, mac, linux': 'windows, mac, linux',\n",
    "    'windows, mac': 'windows, mac',\n",
    "    'windows, linux': 'windows, linux',\n",
    "    'mac': 'windows, mac',\n",
    "    'linux': 'windows, linux',\n",
    "    'mac, linux': 'windows, mac, linux'\n",
    "})"
   ]
  },
  {
   "cell_type": "code",
   "execution_count": 67,
   "metadata": {},
   "outputs": [
    {
     "data": {
      "text/plain": [
       "windows                41268\n",
       "windows, mac, linux     6808\n",
       "windows, mac            5962\n",
       "windows, linux          1650\n",
       "Name: Platforms, dtype: int64"
      ]
     },
     "execution_count": 67,
     "metadata": {},
     "output_type": "execute_result"
    }
   ],
   "source": [
    "sg['Platforms'].value_counts()"
   ]
  },
  {
   "cell_type": "code",
   "execution_count": 68,
   "metadata": {},
   "outputs": [
    {
     "name": "stdout",
     "output_type": "stream",
     "text": [
      "<class 'pandas.core.frame.DataFrame'>\n",
      "Int64Index: 55688 entries, 0 to 55690\n",
      "Data columns (total 22 columns):\n",
      " #   Column             Non-Null Count  Dtype         \n",
      "---  ------             --------------  -----         \n",
      " 0   App ID             55688 non-null  int64         \n",
      " 1   Name               55688 non-null  object        \n",
      " 2   Short Description  55651 non-null  object        \n",
      " 3   Developer          55559 non-null  object        \n",
      " 4   Publisher          55537 non-null  object        \n",
      " 5   Genre              55527 non-null  object        \n",
      " 6   Tags               55553 non-null  object        \n",
      " 7   Type               55688 non-null  object        \n",
      " 8   Categories         54718 non-null  object        \n",
      " 9   Owners             55688 non-null  object        \n",
      " 10  Positive Reviews   55688 non-null  int64         \n",
      " 11  Negative Reviews   55688 non-null  int64         \n",
      " 12  Price              55688 non-null  int64         \n",
      " 13  Initial Price      55688 non-null  int64         \n",
      " 14  Discount           55688 non-null  int64         \n",
      " 15  CCU                55688 non-null  int64         \n",
      " 16  Languages          55677 non-null  object        \n",
      " 17  Platforms          55688 non-null  object        \n",
      " 18  Release Date       55589 non-null  datetime64[ns]\n",
      " 19  Required Age       55688 non-null  int32         \n",
      " 20  Website            30473 non-null  object        \n",
      " 21  Header Image       55688 non-null  object        \n",
      "dtypes: datetime64[ns](1), int32(1), int64(7), object(13)\n",
      "memory usage: 9.6+ MB\n"
     ]
    }
   ],
   "source": [
    "sg.info()"
   ]
  },
  {
   "cell_type": "code",
   "execution_count": 69,
   "metadata": {},
   "outputs": [],
   "source": [
    "sg.drop(columns=['Website', 'Header Image'], inplace=True)"
   ]
  },
  {
   "cell_type": "code",
   "execution_count": 70,
   "metadata": {},
   "outputs": [
    {
     "name": "stdout",
     "output_type": "stream",
     "text": [
      "<class 'pandas.core.frame.DataFrame'>\n",
      "Int64Index: 55688 entries, 0 to 55690\n",
      "Data columns (total 20 columns):\n",
      " #   Column             Non-Null Count  Dtype         \n",
      "---  ------             --------------  -----         \n",
      " 0   App ID             55688 non-null  int64         \n",
      " 1   Name               55688 non-null  object        \n",
      " 2   Short Description  55651 non-null  object        \n",
      " 3   Developer          55559 non-null  object        \n",
      " 4   Publisher          55537 non-null  object        \n",
      " 5   Genre              55527 non-null  object        \n",
      " 6   Tags               55553 non-null  object        \n",
      " 7   Type               55688 non-null  object        \n",
      " 8   Categories         54718 non-null  object        \n",
      " 9   Owners             55688 non-null  object        \n",
      " 10  Positive Reviews   55688 non-null  int64         \n",
      " 11  Negative Reviews   55688 non-null  int64         \n",
      " 12  Price              55688 non-null  int64         \n",
      " 13  Initial Price      55688 non-null  int64         \n",
      " 14  Discount           55688 non-null  int64         \n",
      " 15  CCU                55688 non-null  int64         \n",
      " 16  Languages          55677 non-null  object        \n",
      " 17  Platforms          55688 non-null  object        \n",
      " 18  Release Date       55589 non-null  datetime64[ns]\n",
      " 19  Required Age       55688 non-null  int32         \n",
      "dtypes: datetime64[ns](1), int32(1), int64(7), object(11)\n",
      "memory usage: 8.7+ MB\n"
     ]
    }
   ],
   "source": [
    "sg.info()"
   ]
  },
  {
   "cell_type": "code",
   "execution_count": 74,
   "metadata": {},
   "outputs": [
    {
     "data": {
      "text/plain": [
       "Action, Indie                                                                                     3460\n",
       "Casual, Indie                                                                                     3060\n",
       "Action, Adventure, Indie                                                                          2783\n",
       "Adventure, Indie                                                                                  2316\n",
       "Action, Casual, Indie                                                                             1914\n",
       "                                                                                                  ... \n",
       "Action, Adventure, Indie, Massively Multiplayer, Sports, Strategy                                    1\n",
       "Action, Adventure, Casual, Massively Multiplayer, RPG                                                1\n",
       "Animation & Modeling, Design & Illustration, Photo Editing, Video Production, Game Development       1\n",
       "Action, Indie, Massively Multiplayer, Sports                                                         1\n",
       "Adventure, Casual, Free to Play, Massively Multiplayer, Strategy                                     1\n",
       "Name: Genre, Length: 1831, dtype: int64"
      ]
     },
     "execution_count": 74,
     "metadata": {},
     "output_type": "execute_result"
    }
   ],
   "source": [
    "sg['Genre'].value_counts()"
   ]
  },
  {
   "cell_type": "code",
   "execution_count": 75,
   "metadata": {},
   "outputs": [
    {
     "data": {
      "text/plain": [
       "Indie                    39681\n",
       "Action                   23756\n",
       "Casual                   22086\n",
       "Adventure                21429\n",
       "Strategy                 10895\n",
       "Simulation               10836\n",
       "RPG                       9533\n",
       "Early Access              6145\n",
       "Free to Play              3393\n",
       "Sports                    2666\n",
       "Racing                    2155\n",
       "Massively Multiplayer     1460\n",
       "Utilities                  682\n",
       "Design & Illustration      406\n",
       "Animation & Modeling       322\n",
       "Education                  317\n",
       "Video Production           247\n",
       "Audio Production           195\n",
       "Violent                    168\n",
       "Software Training          164\n",
       "Game Development           159\n",
       "Photo Editing              105\n",
       "Gore                        99\n",
       "Web Publishing              89\n",
       "Sexual Content              54\n",
       "Nudity                      45\n",
       "Accounting                  16\n",
       "Movie                        1\n",
       "Name: Genre, dtype: int64"
      ]
     },
     "execution_count": 75,
     "metadata": {},
     "output_type": "execute_result"
    }
   ],
   "source": [
    "distinct_genres = sg['Genre'].str.split(', ').explode().value_counts()\n",
    "distinct_genres"
   ]
  },
  {
   "cell_type": "code",
   "execution_count": null,
   "metadata": {},
   "outputs": [],
   "source": [
    "import matplotlib.pyplot as plt"
   ]
  },
  {
   "cell_type": "code",
   "execution_count": null,
   "metadata": {},
   "outputs": [],
   "source": []
  }
 ],
 "metadata": {
  "kernelspec": {
   "display_name": "BSCapstone",
   "language": "python",
   "name": "python3"
  },
  "language_info": {
   "codemirror_mode": {
    "name": "ipython",
    "version": 3
   },
   "file_extension": ".py",
   "mimetype": "text/x-python",
   "name": "python",
   "nbconvert_exporter": "python",
   "pygments_lexer": "ipython3",
   "version": "3.10.11"
  },
  "orig_nbformat": 4
 },
 "nbformat": 4,
 "nbformat_minor": 2
}
