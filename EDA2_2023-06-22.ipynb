{
 "cells": [
  {
   "cell_type": "code",
   "execution_count": 1,
   "metadata": {},
   "outputs": [],
   "source": [
    "import pandas as pd\n",
    "import numpy as np\n",
    "import matplotlib.pyplot as plt"
   ]
  },
  {
   "cell_type": "code",
   "execution_count": 3,
   "metadata": {},
   "outputs": [
    {
     "name": "stderr",
     "output_type": "stream",
     "text": [
      "C:\\Users\\Eric Bohner\\AppData\\Local\\Temp\\ipykernel_14728\\2519888715.py:3: DtypeWarning: Columns (19) have mixed types. Specify dtype option on import or set low_memory=False.\n",
      "  steam_games = pd.read_csv('data/steam_games.csv', delimiter=';')\n"
     ]
    }
   ],
   "source": [
    "games = pd.read_csv('data/games.csv')\n",
    "recommendations = pd.read_csv('data/recommendations.csv')\n",
    "steam_games = pd.read_csv('data/steam_games.csv', delimiter=';')"
   ]
  },
  {
   "cell_type": "code",
   "execution_count": 4,
   "metadata": {},
   "outputs": [
    {
     "name": "stdout",
     "output_type": "stream",
     "text": [
      "<class 'pandas.core.frame.DataFrame'>\n",
      "RangeIndex: 48844 entries, 0 to 48843\n",
      "Data columns (total 13 columns):\n",
      " #   Column          Non-Null Count  Dtype  \n",
      "---  ------          --------------  -----  \n",
      " 0   app_id          48844 non-null  int64  \n",
      " 1   title           48844 non-null  object \n",
      " 2   date_release    48844 non-null  object \n",
      " 3   win             48844 non-null  bool   \n",
      " 4   mac             48844 non-null  bool   \n",
      " 5   linux           48844 non-null  bool   \n",
      " 6   rating          48844 non-null  object \n",
      " 7   positive_ratio  48844 non-null  int64  \n",
      " 8   user_reviews    48844 non-null  int64  \n",
      " 9   price_final     48844 non-null  float64\n",
      " 10  price_original  48844 non-null  float64\n",
      " 11  discount        48844 non-null  float64\n",
      " 12  steam_deck      48844 non-null  bool   \n",
      "dtypes: bool(4), float64(3), int64(3), object(3)\n",
      "memory usage: 3.5+ MB\n"
     ]
    }
   ],
   "source": [
    "games.info()"
   ]
  },
  {
   "cell_type": "code",
   "execution_count": 5,
   "metadata": {},
   "outputs": [
    {
     "name": "stdout",
     "output_type": "stream",
     "text": [
      "<class 'pandas.core.frame.DataFrame'>\n",
      "RangeIndex: 14585291 entries, 0 to 14585290\n",
      "Data columns (total 8 columns):\n",
      " #   Column          Dtype  \n",
      "---  ------          -----  \n",
      " 0   app_id          int64  \n",
      " 1   helpful         int64  \n",
      " 2   funny           int64  \n",
      " 3   date            object \n",
      " 4   is_recommended  bool   \n",
      " 5   hours           float64\n",
      " 6   user_id         int64  \n",
      " 7   review_id       int64  \n",
      "dtypes: bool(1), float64(1), int64(5), object(1)\n",
      "memory usage: 792.8+ MB\n"
     ]
    }
   ],
   "source": [
    "recommendations.info()"
   ]
  },
  {
   "cell_type": "code",
   "execution_count": 6,
   "metadata": {},
   "outputs": [
    {
     "name": "stdout",
     "output_type": "stream",
     "text": [
      "<class 'pandas.core.frame.DataFrame'>\n",
      "RangeIndex: 55691 entries, 0 to 55690\n",
      "Data columns (total 22 columns):\n",
      " #   Column             Non-Null Count  Dtype \n",
      "---  ------             --------------  ----- \n",
      " 0   App ID             55691 non-null  int64 \n",
      " 1   Name               55691 non-null  object\n",
      " 2   Short Description  55654 non-null  object\n",
      " 3   Developer          55562 non-null  object\n",
      " 4   Publisher          55540 non-null  object\n",
      " 5   Genre              55530 non-null  object\n",
      " 6   Tags               55556 non-null  object\n",
      " 7   Type               55691 non-null  object\n",
      " 8   Categories         54721 non-null  object\n",
      " 9   Owners             55691 non-null  object\n",
      " 10  Positive Reviews   55691 non-null  int64 \n",
      " 11  Negative Reviews   55691 non-null  int64 \n",
      " 12  Price              55691 non-null  int64 \n",
      " 13  Initial Price      55691 non-null  int64 \n",
      " 14  Discount           55691 non-null  int64 \n",
      " 15  CCU                55691 non-null  int64 \n",
      " 16  Languages          55680 non-null  object\n",
      " 17  Platforms          55691 non-null  object\n",
      " 18  Release Date       55592 non-null  object\n",
      " 19  Required Age       55691 non-null  object\n",
      " 20  Website            30474 non-null  object\n",
      " 21  Header Image       55691 non-null  object\n",
      "dtypes: int64(7), object(15)\n",
      "memory usage: 9.3+ MB\n"
     ]
    }
   ],
   "source": [
    "steam_games.info()"
   ]
  },
  {
   "cell_type": "code",
   "execution_count": null,
   "metadata": {},
   "outputs": [],
   "source": []
  }
 ],
 "metadata": {
  "kernelspec": {
   "display_name": "BSCapstone",
   "language": "python",
   "name": "python3"
  },
  "language_info": {
   "codemirror_mode": {
    "name": "ipython",
    "version": 3
   },
   "file_extension": ".py",
   "mimetype": "text/x-python",
   "name": "python",
   "nbconvert_exporter": "python",
   "pygments_lexer": "ipython3",
   "version": "3.10.11"
  },
  "orig_nbformat": 4
 },
 "nbformat": 4,
 "nbformat_minor": 2
}
